{
 "cells": [
  {
   "attachments": {},
   "cell_type": "markdown",
   "metadata": {},
   "source": [
    "# Using a language model in snowflake\n",
    "\n",
    "Example notebook to use a large language model inside snowflake.\n",
    "We need the specific python transformer 4.14.1 version that is also present in the snowpark anaconda channel.\n",
    "\n",
    "Install:\n",
    "pip install transformers==4.14.1 --user\n",
    "pip install torch\n",
    "\n",
    "Basically perform the follwoing steps\n",
    "* load a model with the transformer package, \n",
    "* dump the model to disk with joblib\n",
    "* create a STAGE in snowflake and uplaod the dumped model there\n",
    "* write a python UDF that reads/imports the model and scores a text in a table\n"
   ]
  },
  {
   "cell_type": "code",
   "execution_count": 1,
   "metadata": {},
   "outputs": [],
   "source": [
    "#### function to see the current Snowflake Environment Details\n",
    "def current_snowflake_env():\n",
    "    snowflake_environment = session.sql('select current_user(), current_role(), current_database(), current_schema(), current_version(), current_warehouse()').collect()\n",
    "    print('User                     : {}'.format(snowflake_environment[0][0]))\n",
    "    print('Role                     : {}'.format(snowflake_environment[0][1]))\n",
    "    print('Database                 : {}'.format(snowflake_environment[0][2]))\n",
    "    print('Schema                   : {}'.format(snowflake_environment[0][3]))\n",
    "    print('Warehouse                : {}'.format(snowflake_environment[0][5]))\n",
    "    print('Snowflake version        : {}'.format(snowflake_environment[0][4]))\n"
   ]
  },
  {
   "attachments": {},
   "cell_type": "markdown",
   "metadata": {},
   "source": [
    "To connect to snowflake, give the connection paramters in a config file (connection_config_trial.py) like:\n",
    "\n",
    "```\n",
    "connection_parameters = {\n",
    "    \"account\": \"ORGNAME-ACCOUNTNAME\", \n",
    "    \"user\": \"snowflaketrialuser\",\n",
    "    \"password\": \"Yourpassword!0\",\n",
    "    \"warehouse\": \"COMPUTE_WH\",\n",
    "    \"role\": \"ACCOUNTADMIN\",\n",
    "    \"database\": \"SNOWFLAKE_SAMPLE_DATA\",\n",
    "    \"schema\": \"TPCH_SF10\"\n",
    "}\n",
    "```\n",
    "\n",
    "If you don't have a snowflake environment, sign up for one, it will take 5 minutes to get a 30 day trial and 400 credits. [Snowflake trial](https://signup.snowflake.com/)"
   ]
  },
  {
   "cell_type": "code",
   "execution_count": 28,
   "metadata": {},
   "outputs": [
    {
     "name": "stdout",
     "output_type": "stream",
     "text": [
      "User                     : SNOWFLAKETRIALUSER\n",
      "Role                     : ACCOUNTADMIN\n",
      "Database                 : SNOWFLAKE_SAMPLE_DATA\n",
      "Schema                   : TPCH_SF10\n",
      "Warehouse                : COMPUTE_WH\n",
      "Snowflake version        : 7.19.2\n"
     ]
    }
   ],
   "source": [
    "import pandas as pd\n",
    "\n",
    "from snowflake.snowpark import Session\n",
    "from snowflake.snowpark import functions as F\n",
    "\n",
    "### import connection parameters such as account, user, password, warehouse, database, schema\n",
    "from connection_config_trial import connection_parameters\n",
    "\n",
    "#### Set up a connection with Snowflake using snowpark and see the current environment details\n",
    "session = Session.builder.configs(connection_parameters).create()\n",
    "current_snowflake_env()"
   ]
  },
  {
   "attachments": {},
   "cell_type": "markdown",
   "metadata": {},
   "source": [
    "## Set up DWH (in trial account)\n",
    "\n",
    "Create a database where we put in netflix data, our LLM and python UDF"
   ]
  },
  {
   "cell_type": "code",
   "execution_count": 31,
   "metadata": {},
   "outputs": [
    {
     "data": {
      "text/plain": [
       "[Row(status='Statement executed successfully.')]"
      ]
     },
     "execution_count": 31,
     "metadata": {},
     "output_type": "execute_result"
    }
   ],
   "source": [
    "session.sql(query=\"CREATE OR REPLACE database netflix\").collect()\n",
    "session.sql(query=\"USE SCHEMA netflix.public\").collect()"
   ]
  },
  {
   "cell_type": "code",
   "execution_count": 47,
   "metadata": {},
   "outputs": [
    {
     "data": {
      "text/html": [
       "<div>\n",
       "<style scoped>\n",
       "    .dataframe tbody tr th:only-of-type {\n",
       "        vertical-align: middle;\n",
       "    }\n",
       "\n",
       "    .dataframe tbody tr th {\n",
       "        vertical-align: top;\n",
       "    }\n",
       "\n",
       "    .dataframe thead th {\n",
       "        text-align: right;\n",
       "    }\n",
       "</style>\n",
       "<table border=\"1\" class=\"dataframe\">\n",
       "  <thead>\n",
       "    <tr style=\"text-align: right;\">\n",
       "      <th></th>\n",
       "      <th>SHOW_ID</th>\n",
       "      <th>TYPE</th>\n",
       "      <th>TITLE</th>\n",
       "      <th>DIRECTOR</th>\n",
       "      <th>CAST</th>\n",
       "      <th>COUNTRY</th>\n",
       "      <th>DATE_ADDED</th>\n",
       "      <th>RELEASE_YEAR</th>\n",
       "      <th>RATING</th>\n",
       "      <th>DURATION</th>\n",
       "      <th>LISTED_IN</th>\n",
       "      <th>DESCRIPTION</th>\n",
       "    </tr>\n",
       "  </thead>\n",
       "  <tbody>\n",
       "    <tr>\n",
       "      <th>7355</th>\n",
       "      <td>s7356</td>\n",
       "      <td>TV Show</td>\n",
       "      <td>Unorthodox</td>\n",
       "      <td>NaN</td>\n",
       "      <td>Shira Haas, Amit Rahav, Jeff Wilbusch, Alex Re...</td>\n",
       "      <td>Germany</td>\n",
       "      <td>March 26, 2020</td>\n",
       "      <td>2020</td>\n",
       "      <td>TV-MA</td>\n",
       "      <td>1 Season</td>\n",
       "      <td>International TV Shows, TV Dramas</td>\n",
       "      <td>A Hasidic Jewish woman in Brooklyn flees to Be...</td>\n",
       "    </tr>\n",
       "    <tr>\n",
       "      <th>7770</th>\n",
       "      <td>s7771</td>\n",
       "      <td>Movie</td>\n",
       "      <td>Zinzana</td>\n",
       "      <td>Majid Al Ansari</td>\n",
       "      <td>Ali Suliman, Saleh Bakri, Yasa, Ali Al-Jabri, ...</td>\n",
       "      <td>United Arab Emirates, Jordan</td>\n",
       "      <td>March 9, 2016</td>\n",
       "      <td>2015</td>\n",
       "      <td>TV-MA</td>\n",
       "      <td>96 min</td>\n",
       "      <td>Dramas, International Movies, Thrillers</td>\n",
       "      <td>Recovering alcoholic Talal wakes up inside a s...</td>\n",
       "    </tr>\n",
       "    <tr>\n",
       "      <th>1506</th>\n",
       "      <td>s1507</td>\n",
       "      <td>Movie</td>\n",
       "      <td>Counterfeiting in Suburbia</td>\n",
       "      <td>Jason Bourque</td>\n",
       "      <td>Sarah Butler, Larissa Albuquerque, Kayla Walla...</td>\n",
       "      <td>Canada</td>\n",
       "      <td>July 1, 2018</td>\n",
       "      <td>2018</td>\n",
       "      <td>TV-14</td>\n",
       "      <td>88 min</td>\n",
       "      <td>Dramas, Thrillers</td>\n",
       "      <td>Two teenagers print counterfeit money in their...</td>\n",
       "    </tr>\n",
       "    <tr>\n",
       "      <th>6370</th>\n",
       "      <td>s6371</td>\n",
       "      <td>Movie</td>\n",
       "      <td>The Forgotten</td>\n",
       "      <td>Oliver Frampton</td>\n",
       "      <td>Clem Tibber, Elarica Johnson, James Doherty, S...</td>\n",
       "      <td>United Kingdom</td>\n",
       "      <td>September 11, 2017</td>\n",
       "      <td>2014</td>\n",
       "      <td>TV-MA</td>\n",
       "      <td>89 min</td>\n",
       "      <td>Horror Movies</td>\n",
       "      <td>After a teenager goes to live with his father ...</td>\n",
       "    </tr>\n",
       "  </tbody>\n",
       "</table>\n",
       "</div>"
      ],
      "text/plain": [
       "     SHOW_ID     TYPE                       TITLE         DIRECTOR  \\\n",
       "7355   s7356  TV Show                  Unorthodox              NaN   \n",
       "7770   s7771    Movie                     Zinzana  Majid Al Ansari   \n",
       "1506   s1507    Movie  Counterfeiting in Suburbia    Jason Bourque   \n",
       "6370   s6371    Movie               The Forgotten  Oliver Frampton   \n",
       "\n",
       "                                                   CAST  \\\n",
       "7355  Shira Haas, Amit Rahav, Jeff Wilbusch, Alex Re...   \n",
       "7770  Ali Suliman, Saleh Bakri, Yasa, Ali Al-Jabri, ...   \n",
       "1506  Sarah Butler, Larissa Albuquerque, Kayla Walla...   \n",
       "6370  Clem Tibber, Elarica Johnson, James Doherty, S...   \n",
       "\n",
       "                           COUNTRY          DATE_ADDED  RELEASE_YEAR RATING  \\\n",
       "7355                       Germany      March 26, 2020          2020  TV-MA   \n",
       "7770  United Arab Emirates, Jordan       March 9, 2016          2015  TV-MA   \n",
       "1506                        Canada        July 1, 2018          2018  TV-14   \n",
       "6370                United Kingdom  September 11, 2017          2014  TV-MA   \n",
       "\n",
       "      DURATION                                LISTED_IN  \\\n",
       "7355  1 Season        International TV Shows, TV Dramas   \n",
       "7770    96 min  Dramas, International Movies, Thrillers   \n",
       "1506    88 min                        Dramas, Thrillers   \n",
       "6370    89 min                            Horror Movies   \n",
       "\n",
       "                                            DESCRIPTION  \n",
       "7355  A Hasidic Jewish woman in Brooklyn flees to Be...  \n",
       "7770  Recovering alcoholic Talal wakes up inside a s...  \n",
       "1506  Two teenagers print counterfeit money in their...  \n",
       "6370  After a teenager goes to live with his father ...  "
      ]
     },
     "execution_count": 47,
     "metadata": {},
     "output_type": "execute_result"
    }
   ],
   "source": [
    "### get the Netlix data from my github repo\n",
    "nflx = pd.read_csv('https://raw.githubusercontent.com/longhowlam/python_hobby_stuff/master/netflix.csv')\n",
    "nflx.sample(4)"
   ]
  },
  {
   "cell_type": "code",
   "execution_count": 35,
   "metadata": {},
   "outputs": [
    {
     "data": {
      "text/plain": [
       "<snowflake.snowpark.table.Table at 0x27acec5bb50>"
      ]
     },
     "execution_count": 35,
     "metadata": {},
     "output_type": "execute_result"
    }
   ],
   "source": [
    "## create a snowflake table\n",
    "\n",
    "# quote_identifiers – By default, identifiers, specifically database, schema, table and column names (from DataFrame.columns) will be quoted. \n",
    "# If set to False, identifiers are passed on to Snowflake without quoting, i.e. identifiers will be coerced to uppercase by Snowflake.\n",
    "\n",
    "session.write_pandas(nflx, table_name=\"netflix_movies\", quote_identifiers = False, auto_create_table = True, overwrite= True)"
   ]
  },
  {
   "attachments": {},
   "cell_type": "markdown",
   "metadata": {},
   "source": [
    "## Facebooks language model\n",
    "Download the facebooks bart-large-mnli language model, see [here](https://huggingface.co/facebook/bart-large-mnli)"
   ]
  },
  {
   "cell_type": "code",
   "execution_count": 8,
   "metadata": {},
   "outputs": [
    {
     "name": "stderr",
     "output_type": "stream",
     "text": [
      "c:\\Users\\LAML04\\Anaconda3\\envs\\snowpark\\lib\\site-packages\\tqdm\\auto.py:21: TqdmWarning: IProgress not found. Please update jupyter and ipywidgets. See https://ipywidgets.readthedocs.io/en/stable/user_install.html\n",
      "  from .autonotebook import tqdm as notebook_tqdm\n"
     ]
    }
   ],
   "source": [
    "from transformers import pipeline\n",
    "classifier = pipeline(\n",
    "    \"zero-shot-classification\",\n",
    "    model=\"facebook/bart-large-mnli\"\n",
    ")\n",
    "\n",
    "## takes some time."
   ]
  },
  {
   "attachments": {},
   "cell_type": "markdown",
   "metadata": {},
   "source": [
    "### Example of classifying a movie description"
   ]
  },
  {
   "cell_type": "code",
   "execution_count": 9,
   "metadata": {},
   "outputs": [
    {
     "data": {
      "text/plain": [
       "{'sequence': 'In a postapocalyptic world, rag-doll robots hide in fear from dangerous machines out to exterminate them, until a brave newcomer joins the group',\n",
       " 'labels': ['Science Fiction',\n",
       "  'Action',\n",
       "  'Documentary',\n",
       "  'Thriller',\n",
       "  'Adventure',\n",
       "  'Fantasy',\n",
       "  'Horror',\n",
       "  'Romance',\n",
       "  'Drama',\n",
       "  'Comedy'],\n",
       " 'scores': [0.2539590001106262,\n",
       "  0.20386196672916412,\n",
       "  0.11335238069295883,\n",
       "  0.10166659206151962,\n",
       "  0.09251900017261505,\n",
       "  0.0795774832367897,\n",
       "  0.0608665831387043,\n",
       "  0.038360532373189926,\n",
       "  0.033384546637535095,\n",
       "  0.022451993077993393]}"
      ]
     },
     "execution_count": 9,
     "metadata": {},
     "output_type": "execute_result"
    }
   ],
   "source": [
    "sequence_to_classify = \"In a postapocalyptic world, rag-doll robots hide in fear from dangerous machines out to exterminate them, until a brave newcomer joins the group\"\n",
    "movie_genres = [\n",
    "    \"Action\",\n",
    "    \"Comedy\",\n",
    "    \"Drama\",\n",
    "    \"Thriller\",\n",
    "    \"Horror\",\n",
    "    \"Science Fiction\",\n",
    "    \"Romance\",\n",
    "    \"Adventure\",\n",
    "    \"Fantasy\",\n",
    "    \"Documentary\"\n",
    "]\n",
    "\n",
    "### only one class can be predicted at a time\n",
    "classifier(sequence_to_classify, movie_genres)"
   ]
  },
  {
   "cell_type": "code",
   "execution_count": 45,
   "metadata": {},
   "outputs": [
    {
     "data": {
      "text/plain": [
       "{'sequence': 'In his final recorded special, the iconoclastic comedian channels Goat Boy and tackles provocative topics like British porn, pot and the priesthood.',\n",
       " 'labels': ['Comedy',\n",
       "  'Action',\n",
       "  'Adventure',\n",
       "  'Documentary',\n",
       "  'Fantasy',\n",
       "  'Drama',\n",
       "  'Thriller',\n",
       "  'Romance',\n",
       "  'Horror',\n",
       "  'Science Fiction'],\n",
       " 'scores': [0.8249779343605042,\n",
       "  0.16978448629379272,\n",
       "  0.12359555810689926,\n",
       "  0.07502390444278717,\n",
       "  0.04510419815778732,\n",
       "  0.018783850595355034,\n",
       "  0.014635768719017506,\n",
       "  0.0082959970459342,\n",
       "  0.00552849005907774,\n",
       "  0.0016239113174378872]}"
      ]
     },
     "execution_count": 45,
     "metadata": {},
     "output_type": "execute_result"
    }
   ],
   "source": [
    "sequence_to_classify = nflx.DESCRIPTION[922]\n",
    "movie_genres = [\n",
    "    \"Action\",\n",
    "    \"Comedy\",\n",
    "    \"Drama\",\n",
    "    \"Thriller\",\n",
    "    \"Horror\",\n",
    "    \"Science Fiction\",\n",
    "    \"Romance\",\n",
    "    \"Adventure\",\n",
    "    \"Fantasy\",\n",
    "    \"Documentary\"\n",
    "]\n",
    "\n",
    "### multiple classes can be predicted at a time\n",
    "classifier(sequence_to_classify, movie_genres, multi_label=True)"
   ]
  },
  {
   "cell_type": "code",
   "execution_count": 10,
   "metadata": {},
   "outputs": [
    {
     "data": {
      "text/plain": [
       "['bart-large-mnli.joblib']"
      ]
     },
     "execution_count": 10,
     "metadata": {},
     "output_type": "execute_result"
    }
   ],
   "source": [
    "## dump the model to disk\n",
    "import joblib\n",
    "joblib.dump(classifier, 'bart-large-mnli.joblib')"
   ]
  },
  {
   "attachments": {},
   "cell_type": "markdown",
   "metadata": {},
   "source": [
    "### create stage \n",
    "We do this in the netflix database that we just created in the snowflake environment"
   ]
  },
  {
   "cell_type": "code",
   "execution_count": 36,
   "metadata": {},
   "outputs": [
    {
     "data": {
      "text/plain": [
       "[Row(status='Stage area ZERO_SHOT_CLASSIFICATION successfully created.')]"
      ]
     },
     "execution_count": 36,
     "metadata": {},
     "output_type": "execute_result"
    }
   ],
   "source": [
    "session.sql(\"CREATE STAGE IF NOT EXISTS NETFLIX.PUBLIC.ZERO_SHOT_CLASSIFICATION\").collect()  "
   ]
  },
  {
   "cell_type": "code",
   "execution_count": 37,
   "metadata": {},
   "outputs": [
    {
     "data": {
      "text/plain": [
       "[PutResult(source='bart-large-mnli.joblib', target='bart-large-mnli.joblib', source_size=1630942026, target_size=1630942032, source_compression='NONE', target_compression='NONE', status='UPLOADED', message='')]"
      ]
     },
     "execution_count": 37,
     "metadata": {},
     "output_type": "execute_result"
    }
   ],
   "source": [
    "### now put the model that we dumped earlier into the snowflake STAGE\n",
    "session.file.put(\n",
    "   'bart-large-mnli.joblib',\n",
    "   stage_location = 'NETFLIX.PUBLIC.ZERO_SHOT_CLASSIFICATION',\n",
    "   overwrite=True,\n",
    "   auto_compress=False\n",
    ")"
   ]
  },
  {
   "attachments": {},
   "cell_type": "markdown",
   "metadata": {},
   "source": [
    "### Create a UDFs so that we can use the language model in snowflake"
   ]
  },
  {
   "cell_type": "code",
   "execution_count": 38,
   "metadata": {},
   "outputs": [],
   "source": [
    "# Caching the model\n",
    "import cachetools\n",
    "import sys\n",
    "import joblib\n",
    "\n",
    "@cachetools.cached(cache={})\n",
    "def read_model():\n",
    "   import joblib \n",
    "   import_dir = sys._xoptions.get(\"snowflake_import_directory\")\n",
    "   if import_dir:\n",
    "       # Load the model\n",
    "       return joblib.load(f'{import_dir}/bart-large-mnli.joblib')"
   ]
  },
  {
   "cell_type": "code",
   "execution_count": 44,
   "metadata": {},
   "outputs": [
    {
     "name": "stderr",
     "output_type": "stream",
     "text": [
      "The version of package joblib in the local environment is 1.2.0, which does not fit the criteria for the requirement joblib. Your UDF might not work when the package version is different between the server and your local environment\n",
      "The version of package cachetools in the local environment is 5.3.0, which does not fit the criteria for the requirement cachetools==4.2.2. Your UDF might not work when the package version is different between the server and your local environment\n"
     ]
    }
   ],
   "source": [
    "from snowflake.snowpark.functions import pandas_udf\n",
    "from snowflake.snowpark.types import StringType, PandasSeriesType\n",
    "@pandas_udf(  \n",
    "       name='NETFLIX.PUBLIC.classify_movie_into_genre',\n",
    "       session=session,\n",
    "       is_permanent=True,\n",
    "       replace=True,\n",
    "       imports=[\n",
    "           '@ZERO_SHOT_CLASSIFICATION/bart-large-mnli.joblib'\n",
    "       ],\n",
    "       input_types=[PandasSeriesType(StringType())],\n",
    "       return_type=PandasSeriesType(StringType()),\n",
    "       stage_location='NETFLIX.PUBLIC.ZERO_SHOT_CLASSIFICATION',\n",
    "       packages=['joblib',  'cachetools==4.2.2', 'transformers==4.14.1'],\n",
    "        max_batch_size=10\n",
    "   )\n",
    "def get_review_classification(sentences: pd.Series) -> pd.Series:\n",
    "    # Classify using the available categories\n",
    "    movie_genres = [\n",
    "        \"Action\",\n",
    "        \"Comedy\",\n",
    "        \"Drama\",\n",
    "        \"Thriller\",\n",
    "        \"Horror\",\n",
    "        \"Science Fiction\",\n",
    "        \"Romance\",\n",
    "        \"Adventure\",\n",
    "        \"Fantasy\",\n",
    "        \"Documentary\"\n",
    "    ]\n",
    "    classifier = read_model()\n",
    "\n",
    "    # Apply the model\n",
    "    predictions = []\n",
    "    for sentence in sentences:\n",
    "       result = classifier(sentence, movie_genres)\n",
    "       if 'scores' in result and 'labels' in result:\n",
    "           category_idx = pd.Series(result['scores']).idxmax()\n",
    "           predictions.append(result['labels'][category_idx])\n",
    "       else:\n",
    "           predictions.append(None)\n",
    "    return pd.Series(predictions)"
   ]
  },
  {
   "cell_type": "code",
   "execution_count": 40,
   "metadata": {},
   "outputs": [],
   "source": [
    "### now you can run the get_review_classification function on data in SQL\n",
    "\n",
    "SQL = \"\"\" \n",
    "SELECT\n",
    "    TITLE,\n",
    "    LISTED_IN,\n",
    "    DESCRIPTION,\n",
    "    classify_movie_into_genre(DESCRIPTION::VARCHAR)  as genre\n",
    "FROM \n",
    "    NETFLIX.PUBLIC.NETFLIX_MOVIES \n",
    "WHERE TYPE = 'Movie'\n",
    "LIMIT 100\n",
    "\"\"\"\n",
    "\n",
    "movies = session.sql(SQL)"
   ]
  },
  {
   "cell_type": "code",
   "execution_count": 43,
   "metadata": {},
   "outputs": [
    {
     "name": "stdout",
     "output_type": "stream",
     "text": [
      "---------------------------------------------------------------------------------------------------------------------------------------\n",
      "|\"TITLE\"  |\"LISTED_IN\"                                         |\"DESCRIPTION\"                                       |\"GENRE\"          |\n",
      "---------------------------------------------------------------------------------------------------------------------------------------\n",
      "|7:19     |Dramas, International Movies                        |After a devastating earthquake hits Mexico City...  |Action           |\n",
      "|23:59    |Horror Movies, International Movies                 |When an army recruit is found dead, his fellow ...  |Horror           |\n",
      "|9        |Action & Adventure, Independent Movies, Sci-Fi ...  |In a postapocalyptic world, rag-doll robots hid...  |Science Fiction  |\n",
      "|21       |Dramas                                              |A brilliant group of students become card-count...  |Action           |\n",
      "|122      |Horror Movies, International Movies                 |After an awful accident, a couple admitted to a...  |Horror           |\n",
      "|187      |Dramas                                              |After one of his high school students attacks h...  |Action           |\n",
      "|706      |Horror Movies, International Movies                 |When a doctor goes missing, his psychiatrist wi...  |Adventure        |\n",
      "|1920     |Horror Movies, International Movies, Thrillers      |An architect and his wife move into a castle th...  |Drama            |\n",
      "|1922     |Dramas, Thrillers                                   |A farmer pens a confession admitting to his wif...  |Horror           |\n",
      "|2,215    |Documentaries, International Movies, Sports Movies  |This intimate documentary follows rock star Art...  |Documentary      |\n",
      "---------------------------------------------------------------------------------------------------------------------------------------\n",
      "\n"
     ]
    }
   ],
   "source": [
    "movies.show()"
   ]
  },
  {
   "cell_type": "code",
   "execution_count": null,
   "metadata": {},
   "outputs": [],
   "source": [
    "scored_movies_df = movies.to_pandas()"
   ]
  },
  {
   "cell_type": "code",
   "execution_count": null,
   "metadata": {},
   "outputs": [],
   "source": [
    "scored_movies_df"
   ]
  },
  {
   "cell_type": "code",
   "execution_count": 27,
   "metadata": {},
   "outputs": [],
   "source": [
    "session.close()"
   ]
  },
  {
   "cell_type": "code",
   "execution_count": 46,
   "metadata": {},
   "outputs": [],
   "source": [
    "def get_review_classification_(sentences: pd.Series) -> pd.Series:\n",
    "    # Classify using the available categories\n",
    "    movie_genres = [\n",
    "        \"Action\",\n",
    "        \"Comedy\",\n",
    "        \"Drama\",\n",
    "        \"Thriller\",\n",
    "        \"Horror\",\n",
    "        \"Science Fiction\",\n",
    "        \"Romance\",\n",
    "        \"Adventure\",\n",
    "        \"Fantasy\",\n",
    "        \"Documentary\"\n",
    "    ]\n",
    "\n",
    "\n",
    "    # Apply the model\n",
    "    predictions = []\n",
    "    for sentence in sentences:\n",
    "       result = classifier(sentence, movie_genres)\n",
    "       if 'scores' in result and 'labels' in result:\n",
    "           category_idx = pd.Series(result['scores']).idxmax()\n",
    "           predictions.append(result['labels'][category_idx])\n",
    "       else:\n",
    "           predictions.append(None)\n",
    "    return pd.Series(predictions)"
   ]
  },
  {
   "cell_type": "code",
   "execution_count": 49,
   "metadata": {},
   "outputs": [
    {
     "data": {
      "text/plain": [
       "0           Adventure\n",
       "1              Action\n",
       "2              Horror\n",
       "3     Science Fiction\n",
       "4              Action\n",
       "           ...       \n",
       "95             Action\n",
       "96          Adventure\n",
       "97        Documentary\n",
       "98              Drama\n",
       "99             Action\n",
       "Length: 100, dtype: object"
      ]
     },
     "execution_count": 49,
     "metadata": {},
     "output_type": "execute_result"
    }
   ],
   "source": [
    "get_review_classification_(nflx.DESCRIPTION[0:100])"
   ]
  },
  {
   "cell_type": "code",
   "execution_count": null,
   "metadata": {},
   "outputs": [],
   "source": []
  }
 ],
 "metadata": {
  "kernelspec": {
   "display_name": "snowpark",
   "language": "python",
   "name": "python3"
  },
  "language_info": {
   "codemirror_mode": {
    "name": "ipython",
    "version": 3
   },
   "file_extension": ".py",
   "mimetype": "text/x-python",
   "name": "python",
   "nbconvert_exporter": "python",
   "pygments_lexer": "ipython3",
   "version": "3.8.13"
  },
  "orig_nbformat": 4
 },
 "nbformat": 4,
 "nbformat_minor": 2
}
