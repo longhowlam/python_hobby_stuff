{
 "cells": [
  {
   "cell_type": "markdown",
   "metadata": {},
   "source": [
    "# Yelp benchmark\n",
    "\n",
    "Using Yelp reviews to test the differnce between simple term document matrix apporach and finetuned BERT model"
   ]
  },
  {
   "cell_type": "code",
   "execution_count": 61,
   "metadata": {},
   "outputs": [],
   "source": [
    "import pandas as pd\n",
    "\n",
    "# plotting stuff\n",
    "import seaborn as sns\n",
    "import matplotlib.pyplot as plt\n",
    "from PIL import Image\n",
    "from plotnine import *\n",
    "from wordcloud import WordCloud, STOPWORDS, ImageColorGenerator\n",
    "import pyLDAvis\n",
    "import pyLDAvis.gensim  # don't skip this\n",
    "\n",
    "# machine leqarning \n",
    "from sklearn.model_selection import train_test_split\n",
    "from sklearn.feature_extraction.text import CountVectorizer\n",
    "import xgboost as xgb\n",
    "from sklearn.linear_model import LogisticRegression\n",
    "import xgboost as xgb\n",
    "\n",
    "# metrics\n",
    "from sklearn.metrics import roc_auc_score, accuracy_score\n",
    "\n",
    "# language\n",
    "import spacy\n",
    "nlp = spacy.load(\"en\")"
   ]
  },
  {
   "cell_type": "markdown",
   "metadata": {},
   "source": [
    "## Import data"
   ]
  },
  {
   "cell_type": "markdown",
   "metadata": {},
   "source": [
    "Import csv files downloaded from [here](https://course.fast.ai/datasets)"
   ]
  },
  {
   "cell_type": "code",
   "execution_count": 2,
   "metadata": {},
   "outputs": [],
   "source": [
    "train_df = pd.read_csv('data/train.csv', header=None, names=['target', 'text'])\n",
    "test_df = pd.read_csv('data/test.csv', header=None,  names=['target', 'text'])"
   ]
  },
  {
   "cell_type": "markdown",
   "metadata": {},
   "source": [
    "The target is coded as 1 (bad) or 2 (good). We are going to recode into 0 is bad and 1 is good"
   ]
  },
  {
   "cell_type": "code",
   "execution_count": 3,
   "metadata": {},
   "outputs": [],
   "source": [
    "train_df = (\n",
    "    train_df\n",
    "    .assign(target  = train_df.target -1)\n",
    ")\n",
    "test_df = (\n",
    "    test_df\n",
    "    .assign(target  = test_df.target -1)\n",
    ")"
   ]
  },
  {
   "cell_type": "code",
   "execution_count": 4,
   "metadata": {},
   "outputs": [
    {
     "data": {
      "text/html": [
       "<div>\n",
       "<style scoped>\n",
       "    .dataframe tbody tr th:only-of-type {\n",
       "        vertical-align: middle;\n",
       "    }\n",
       "\n",
       "    .dataframe tbody tr th {\n",
       "        vertical-align: top;\n",
       "    }\n",
       "\n",
       "    .dataframe thead th {\n",
       "        text-align: right;\n",
       "    }\n",
       "</style>\n",
       "<table border=\"1\" class=\"dataframe\">\n",
       "  <thead>\n",
       "    <tr style=\"text-align: right;\">\n",
       "      <th></th>\n",
       "      <th>target</th>\n",
       "      <th>text</th>\n",
       "    </tr>\n",
       "  </thead>\n",
       "  <tbody>\n",
       "    <tr>\n",
       "      <th>176699</th>\n",
       "      <td>1</td>\n",
       "      <td>This buffet is okay. You can't expect too much from a brunch buffet that is $15 regular price including bottomless mimosas. When we used the hotel stay coupons, and out players card, we only ended up paying like $8 with tax. Taking that into consideration, you get a lot of bang for your buck. \\n\\nThe food is average of course, but it was clean, bright, and covered all the basic buffet  options. \\n\\nSurprisingly, I had some pretty good steamed cabbage.  I mean, it was on the level of southern grandma Sunday dinner. I know, crazy right? I even went and complimented the chefs behind the buffet glass. Hey, drink enough mimosas, and you are throwing compliments everywhere! \\n\\nWould I go back to the Garden Buffet at the South Point? Of course, especially since they give 50% off coupons. It's totally worth it if you take advantage of the bottomless mimosas.</td>\n",
       "    </tr>\n",
       "    <tr>\n",
       "      <th>122884</th>\n",
       "      <td>0</td>\n",
       "      <td>What a crappy place, surrounded by crappy people to have to get a health card. CLOSED for lunch as we arrived... Are you kidding me? What a racket for unnecessary government fees....</td>\n",
       "    </tr>\n",
       "    <tr>\n",
       "      <th>394839</th>\n",
       "      <td>1</td>\n",
       "      <td>This is not the Buck's I remember from my days living in Madison! Nice, nice, nice. Great drinks. Real glasses. Fun place to waste some time before a game at the Kohl Center. \\nI did not get food but the plates I saw looked good!</td>\n",
       "    </tr>\n",
       "    <tr>\n",
       "      <th>415516</th>\n",
       "      <td>0</td>\n",
       "      <td>Came here for a very special occasion.  The prices are high and it's in the Wynn.  My expectations were high - as they should be for a place like this.  Unfortunately, it did not meet my expectations.  One of the worst $120+ meals I've had.\\n\\nThe best part of the meal was the Basket of bread - Keep it coming!\\nThe show was good, there's a show every 30 minutes.  We watched 3 of them and they were all different.\\n\\nCons:\\n* Halibut - Way too dry.  Had to keep drinking water to eat 1/2 the meal.\\n* Lobster Bisque - Way too salty.  Again, water saved the night.\\n* Swordfish - Tasteless and boring seasoning.\\n* Wine pair - Sucked, the servers didn't have a clue on what was good to pair the dishes with.  We sent back the wine twice!\\n* Slow service</td>\n",
       "    </tr>\n",
       "    <tr>\n",
       "      <th>330592</th>\n",
       "      <td>1</td>\n",
       "      <td>We really enjoy this sushi spot close to home,  never a wait, good rolls, great ginger dressing salad. Favorite sushi spot for lunch or dinner with my husband or the family!!</td>\n",
       "    </tr>\n",
       "  </tbody>\n",
       "</table>\n",
       "</div>"
      ],
      "text/plain": [
       "        target  \\\n",
       "176699       1   \n",
       "122884       0   \n",
       "394839       1   \n",
       "415516       0   \n",
       "330592       1   \n",
       "\n",
       "                                                                                                                                                                                                                                                                                                                                                                                                                                                                                                                                                                                                                                                                                                                                                                                                                                                                                                   text  \n",
       "176699  This buffet is okay. You can't expect too much from a brunch buffet that is $15 regular price including bottomless mimosas. When we used the hotel stay coupons, and out players card, we only ended up paying like $8 with tax. Taking that into consideration, you get a lot of bang for your buck. \\n\\nThe food is average of course, but it was clean, bright, and covered all the basic buffet  options. \\n\\nSurprisingly, I had some pretty good steamed cabbage.  I mean, it was on the level of southern grandma Sunday dinner. I know, crazy right? I even went and complimented the chefs behind the buffet glass. Hey, drink enough mimosas, and you are throwing compliments everywhere! \\n\\nWould I go back to the Garden Buffet at the South Point? Of course, especially since they give 50% off coupons. It's totally worth it if you take advantage of the bottomless mimosas.  \n",
       "122884                                                                                                                                                                                                                                                                                                                                                                                                                                                                                                                                                                                                                                                                                                           What a crappy place, surrounded by crappy people to have to get a health card. CLOSED for lunch as we arrived... Are you kidding me? What a racket for unnecessary government fees....  \n",
       "394839                                                                                                                                                                                                                                                                                                                                                                                                                                                                                                                                                                                                                                                            This is not the Buck's I remember from my days living in Madison! Nice, nice, nice. Great drinks. Real glasses. Fun place to waste some time before a game at the Kohl Center. \\nI did not get food but the plates I saw looked good!  \n",
       "415516                                                                                                               Came here for a very special occasion.  The prices are high and it's in the Wynn.  My expectations were high - as they should be for a place like this.  Unfortunately, it did not meet my expectations.  One of the worst $120+ meals I've had.\\n\\nThe best part of the meal was the Basket of bread - Keep it coming!\\nThe show was good, there's a show every 30 minutes.  We watched 3 of them and they were all different.\\n\\nCons:\\n* Halibut - Way too dry.  Had to keep drinking water to eat 1/2 the meal.\\n* Lobster Bisque - Way too salty.  Again, water saved the night.\\n* Swordfish - Tasteless and boring seasoning.\\n* Wine pair - Sucked, the servers didn't have a clue on what was good to pair the dishes with.  We sent back the wine twice!\\n* Slow service  \n",
       "330592                                                                                                                                                                                                                                                                                                                                                                                                                                                                                                                                                                                                                                                                                                                   We really enjoy this sushi spot close to home,  never a wait, good rolls, great ginger dressing salad. Favorite sushi spot for lunch or dinner with my husband or the family!!  "
      ]
     },
     "execution_count": 4,
     "metadata": {},
     "output_type": "execute_result"
    }
   ],
   "source": [
    "#### show some records\n",
    "pd.options.display.max_colwidth = 1000\n",
    "train_df.sample(5)"
   ]
  },
  {
   "cell_type": "markdown",
   "metadata": {},
   "source": [
    "## Text preparation"
   ]
  },
  {
   "cell_type": "code",
   "execution_count": 5,
   "metadata": {},
   "outputs": [],
   "source": [
    "def clean_review(x):\n",
    "    doc = nlp(x)\n",
    "    tokens = [token.text for token in doc if (not token.is_punct) & (not token.is_stop)]\n",
    "    return \" \".join(tokens)"
   ]
  },
  {
   "cell_type": "code",
   "execution_count": 7,
   "metadata": {},
   "outputs": [],
   "source": [
    "review_sample = train_df.sample(20000)\n",
    "review_sample = (\n",
    "    review_sample\n",
    "    .assign(\n",
    "        cleaned_review = review_sample.text.apply(clean_review)\n",
    "    )\n",
    ")  "
   ]
  },
  {
   "cell_type": "code",
   "execution_count": 8,
   "metadata": {},
   "outputs": [],
   "source": [
    "review_sample.to_pickle(\"reviews.pck\")"
   ]
  },
  {
   "cell_type": "code",
   "execution_count": 9,
   "metadata": {},
   "outputs": [
    {
     "data": {
      "text/plain": [
       "1    10008\n",
       "0     9992\n",
       "Name: target, dtype: int64"
      ]
     },
     "execution_count": 9,
     "metadata": {},
     "output_type": "execute_result"
    }
   ],
   "source": [
    "### overview of the target\n",
    "review_sample.target.value_counts()"
   ]
  },
  {
   "cell_type": "markdown",
   "metadata": {},
   "source": [
    "## Machine learning models"
   ]
  },
  {
   "cell_type": "code",
   "execution_count": 16,
   "metadata": {},
   "outputs": [
    {
     "name": "stderr",
     "output_type": "stream",
     "text": [
      "/opt/anaconda3/lib/python3.7/site-packages/sklearn/model_selection/_split.py:2179: FutureWarning: From version 0.21, test_size will always complement train_size unless both are specified.\n",
      "  FutureWarning)\n"
     ]
    }
   ],
   "source": [
    "### using scikit learn count vectorizer\n",
    "cv = CountVectorizer(ngram_range=(1,2))\n",
    "cv.fit(review_sample.cleaned_review)\n",
    "X = cv.transform(review_sample.cleaned_review)\n",
    "target = review_sample.target\n",
    "\n",
    "X_train, X_val, y_train, y_val = train_test_split(\n",
    "    X, target, train_size = 0.75\n",
    ")"
   ]
  },
  {
   "cell_type": "markdown",
   "metadata": {},
   "source": [
    "### Logistic regrssion"
   ]
  },
  {
   "cell_type": "code",
   "execution_count": 18,
   "metadata": {},
   "outputs": [
    {
     "name": "stderr",
     "output_type": "stream",
     "text": [
      "/opt/anaconda3/lib/python3.7/site-packages/sklearn/linear_model/logistic.py:433: FutureWarning: Default solver will be changed to 'lbfgs' in 0.22. Specify a solver to silence this warning.\n",
      "  FutureWarning)\n"
     ]
    },
    {
     "name": "stdout",
     "output_type": "stream",
     "text": [
      "Accuracy for C=0.01: 0.886\n",
      "Accuracy for C=0.05: 0.8936\n",
      "Accuracy for C=0.25: 0.8972\n",
      "Accuracy for C=0.5: 0.8968\n",
      "Accuracy for C=0.75: 0.8958\n",
      "Accuracy for C=0.95: 0.8956\n",
      "Accuracy for C=1: 0.8956\n"
     ]
    }
   ],
   "source": [
    "for c in [0.01, 0.05, 0.25, 0.5, 0.75, 0.95, 1]:\n",
    "    lr = LogisticRegression(C=c)\n",
    "    lr.fit(X_train, y_train)\n",
    "    print (\n",
    "        \"Accuracy for C=%s: %s\" \n",
    "        % (c, accuracy_score(y_val, lr.predict(X_val)))\n",
    "    )"
   ]
  },
  {
   "cell_type": "code",
   "execution_count": 19,
   "metadata": {},
   "outputs": [
    {
     "data": {
      "text/plain": [
       "LogisticRegression(C=0.25, class_weight=None, dual=False, fit_intercept=True,\n",
       "          intercept_scaling=1, max_iter=100, multi_class='warn',\n",
       "          n_jobs=None, penalty='l2', random_state=None, solver='warn',\n",
       "          tol=0.0001, verbose=0, warm_start=False)"
      ]
     },
     "execution_count": 19,
     "metadata": {},
     "output_type": "execute_result"
    }
   ],
   "source": [
    "final_model = LogisticRegression(C=0.25)\n",
    "final_model.fit(X_train, y_train)"
   ]
  },
  {
   "cell_type": "code",
   "execution_count": 44,
   "metadata": {},
   "outputs": [
    {
     "name": "stdout",
     "output_type": "stream",
     "text": [
      "0.9568841266102771\n"
     ]
    }
   ],
   "source": [
    "### area under roc and\n",
    "y_pred = final_model.predict_proba(X_val)\n",
    "print(\n",
    "    roc_auc_score(y_val, y_pred[:,1])\n",
    ")"
   ]
  },
  {
   "cell_type": "code",
   "execution_count": 20,
   "metadata": {},
   "outputs": [
    {
     "name": "stdout",
     "output_type": "stream",
     "text": [
      "Number of coefficients (790782, 2)\n",
      "Number of nonzero coefficients (624904, 2)\n"
     ]
    }
   ],
   "source": [
    "#### The best and worst words......\n",
    "wordcoef = pd.DataFrame({\n",
    "    \"word\": cv.get_feature_names(),\n",
    "    \"coef\":  final_model.coef_[0]\n",
    "})\n",
    "\n",
    "print(\"Number of coefficients\", wordcoef.shape)\n",
    "print(\"Number of nonzero coefficients\", wordcoef.query('(coef < 0) | (coef > 0)'). shape)\n",
    "\n",
    "wordcoef.sort_values(by=\"coef\", inplace = True)"
   ]
  },
  {
   "cell_type": "code",
   "execution_count": 21,
   "metadata": {},
   "outputs": [
    {
     "data": {
      "text/html": [
       "<div>\n",
       "<style scoped>\n",
       "    .dataframe tbody tr th:only-of-type {\n",
       "        vertical-align: middle;\n",
       "    }\n",
       "\n",
       "    .dataframe tbody tr th {\n",
       "        vertical-align: top;\n",
       "    }\n",
       "\n",
       "    .dataframe thead th {\n",
       "        text-align: right;\n",
       "    }\n",
       "</style>\n",
       "<table border=\"1\" class=\"dataframe\">\n",
       "  <thead>\n",
       "    <tr style=\"text-align: right;\">\n",
       "      <th></th>\n",
       "      <th>word</th>\n",
       "      <th>coef</th>\n",
       "    </tr>\n",
       "  </thead>\n",
       "  <tbody>\n",
       "    <tr>\n",
       "      <th>323506</th>\n",
       "      <td>horrible</td>\n",
       "      <td>-1.541260</td>\n",
       "    </tr>\n",
       "    <tr>\n",
       "      <th>781282</th>\n",
       "      <td>worst</td>\n",
       "      <td>-1.523703</td>\n",
       "    </tr>\n",
       "    <tr>\n",
       "      <th>414486</th>\n",
       "      <td>mediocre</td>\n",
       "      <td>-1.412504</td>\n",
       "    </tr>\n",
       "    <tr>\n",
       "      <th>73217</th>\n",
       "      <td>bland</td>\n",
       "      <td>-1.332379</td>\n",
       "    </tr>\n",
       "    <tr>\n",
       "      <th>695165</th>\n",
       "      <td>terrible</td>\n",
       "      <td>-1.316065</td>\n",
       "    </tr>\n",
       "    <tr>\n",
       "      <th>530777</th>\n",
       "      <td>poor</td>\n",
       "      <td>-1.261132</td>\n",
       "    </tr>\n",
       "    <tr>\n",
       "      <th>493251</th>\n",
       "      <td>overpriced</td>\n",
       "      <td>-1.222132</td>\n",
       "    </tr>\n",
       "    <tr>\n",
       "      <th>190845</th>\n",
       "      <td>disappointing</td>\n",
       "      <td>-1.188984</td>\n",
       "    </tr>\n",
       "    <tr>\n",
       "      <th>588842</th>\n",
       "      <td>rude</td>\n",
       "      <td>-1.133829</td>\n",
       "    </tr>\n",
       "    <tr>\n",
       "      <th>205579</th>\n",
       "      <td>dry</td>\n",
       "      <td>-1.028558</td>\n",
       "    </tr>\n",
       "    <tr>\n",
       "      <th>415333</th>\n",
       "      <td>meh</td>\n",
       "      <td>-1.004051</td>\n",
       "    </tr>\n",
       "    <tr>\n",
       "      <th>736413</th>\n",
       "      <td>unfortunately</td>\n",
       "      <td>-0.965167</td>\n",
       "    </tr>\n",
       "    <tr>\n",
       "      <th>48040</th>\n",
       "      <td>awful</td>\n",
       "      <td>-0.949965</td>\n",
       "    </tr>\n",
       "    <tr>\n",
       "      <th>636087</th>\n",
       "      <td>slow</td>\n",
       "      <td>-0.947295</td>\n",
       "    </tr>\n",
       "    <tr>\n",
       "      <th>478560</th>\n",
       "      <td>ok</td>\n",
       "      <td>-0.937461</td>\n",
       "    </tr>\n",
       "  </tbody>\n",
       "</table>\n",
       "</div>"
      ],
      "text/plain": [
       "                 word      coef\n",
       "323506       horrible -1.541260\n",
       "781282          worst -1.523703\n",
       "414486       mediocre -1.412504\n",
       "73217           bland -1.332379\n",
       "695165       terrible -1.316065\n",
       "530777           poor -1.261132\n",
       "493251     overpriced -1.222132\n",
       "190845  disappointing -1.188984\n",
       "588842           rude -1.133829\n",
       "205579            dry -1.028558\n",
       "415333            meh -1.004051\n",
       "736413  unfortunately -0.965167\n",
       "48040           awful -0.949965\n",
       "636087           slow -0.947295\n",
       "478560             ok -0.937461"
      ]
     },
     "execution_count": 21,
     "metadata": {},
     "output_type": "execute_result"
    }
   ],
   "source": [
    "wordcoef.head(15)"
   ]
  },
  {
   "cell_type": "code",
   "execution_count": 22,
   "metadata": {},
   "outputs": [
    {
     "data": {
      "text/html": [
       "<div>\n",
       "<style scoped>\n",
       "    .dataframe tbody tr th:only-of-type {\n",
       "        vertical-align: middle;\n",
       "    }\n",
       "\n",
       "    .dataframe tbody tr th {\n",
       "        vertical-align: top;\n",
       "    }\n",
       "\n",
       "    .dataframe thead th {\n",
       "        text-align: right;\n",
       "    }\n",
       "</style>\n",
       "<table border=\"1\" class=\"dataframe\">\n",
       "  <thead>\n",
       "    <tr style=\"text-align: right;\">\n",
       "      <th></th>\n",
       "      <th>word</th>\n",
       "      <th>coef</th>\n",
       "    </tr>\n",
       "  </thead>\n",
       "  <tbody>\n",
       "    <tr>\n",
       "      <th>789589</th>\n",
       "      <td>yummy</td>\n",
       "      <td>0.900728</td>\n",
       "    </tr>\n",
       "    <tr>\n",
       "      <th>689986</th>\n",
       "      <td>tasty</td>\n",
       "      <td>0.930016</td>\n",
       "    </tr>\n",
       "    <tr>\n",
       "      <th>218396</th>\n",
       "      <td>enjoyed</td>\n",
       "      <td>0.933778</td>\n",
       "    </tr>\n",
       "    <tr>\n",
       "      <th>241511</th>\n",
       "      <td>favorite</td>\n",
       "      <td>0.944853</td>\n",
       "    </tr>\n",
       "    <tr>\n",
       "      <th>64777</th>\n",
       "      <td>best</td>\n",
       "      <td>1.038862</td>\n",
       "    </tr>\n",
       "    <tr>\n",
       "      <th>294253</th>\n",
       "      <td>great</td>\n",
       "      <td>1.172549</td>\n",
       "    </tr>\n",
       "    <tr>\n",
       "      <th>777013</th>\n",
       "      <td>wonderful</td>\n",
       "      <td>1.182611</td>\n",
       "    </tr>\n",
       "    <tr>\n",
       "      <th>396187</th>\n",
       "      <td>loved</td>\n",
       "      <td>1.187642</td>\n",
       "    </tr>\n",
       "    <tr>\n",
       "      <th>394900</th>\n",
       "      <td>love</td>\n",
       "      <td>1.224099</td>\n",
       "    </tr>\n",
       "    <tr>\n",
       "      <th>238926</th>\n",
       "      <td>fantastic</td>\n",
       "      <td>1.232831</td>\n",
       "    </tr>\n",
       "    <tr>\n",
       "      <th>509177</th>\n",
       "      <td>perfect</td>\n",
       "      <td>1.334235</td>\n",
       "    </tr>\n",
       "    <tr>\n",
       "      <th>47297</th>\n",
       "      <td>awesome</td>\n",
       "      <td>1.334613</td>\n",
       "    </tr>\n",
       "    <tr>\n",
       "      <th>226166</th>\n",
       "      <td>excellent</td>\n",
       "      <td>1.422627</td>\n",
       "    </tr>\n",
       "    <tr>\n",
       "      <th>24889</th>\n",
       "      <td>amazing</td>\n",
       "      <td>1.424040</td>\n",
       "    </tr>\n",
       "    <tr>\n",
       "      <th>178249</th>\n",
       "      <td>delicious</td>\n",
       "      <td>1.805083</td>\n",
       "    </tr>\n",
       "  </tbody>\n",
       "</table>\n",
       "</div>"
      ],
      "text/plain": [
       "             word      coef\n",
       "789589      yummy  0.900728\n",
       "689986      tasty  0.930016\n",
       "218396    enjoyed  0.933778\n",
       "241511   favorite  0.944853\n",
       "64777        best  1.038862\n",
       "294253      great  1.172549\n",
       "777013  wonderful  1.182611\n",
       "396187      loved  1.187642\n",
       "394900       love  1.224099\n",
       "238926  fantastic  1.232831\n",
       "509177    perfect  1.334235\n",
       "47297     awesome  1.334613\n",
       "226166  excellent  1.422627\n",
       "24889     amazing  1.424040\n",
       "178249  delicious  1.805083"
      ]
     },
     "execution_count": 22,
     "metadata": {},
     "output_type": "execute_result"
    }
   ],
   "source": [
    "wordcoef.tail(15)"
   ]
  },
  {
   "cell_type": "markdown",
   "metadata": {},
   "source": [
    "### xgboost"
   ]
  },
  {
   "cell_type": "code",
   "execution_count": 53,
   "metadata": {},
   "outputs": [
    {
     "name": "stderr",
     "output_type": "stream",
     "text": [
      "/opt/anaconda3/lib/python3.7/site-packages/xgboost/core.py:587: FutureWarning: Series.base is deprecated and will be removed in a future version\n",
      "  if getattr(data, 'base', None) is not None and \\\n"
     ]
    }
   ],
   "source": [
    "dtrain = xgb.DMatrix(\n",
    "    X_train, \n",
    "    label = y_train, \n",
    "    feature_names=cv.get_feature_names()\n",
    ")\n",
    "dtest = xgb.DMatrix(\n",
    "    X_val, \n",
    "    label = y_val,\n",
    "    feature_names=cv.get_feature_names()\n",
    ")\n",
    "\n",
    "param = {\n",
    "    'max_depth':15,\n",
    "    'objective':'binary:logistic'\n",
    "}\n",
    "watchlist = [(dtest, 'eval'), (dtrain, 'train')]\n",
    "num_round = 50\n",
    "word_xgb_model = xgb.train(param, dtrain, num_round) #, watchlist)"
   ]
  },
  {
   "cell_type": "code",
   "execution_count": 54,
   "metadata": {},
   "outputs": [],
   "source": [
    "### area under roc and accuracy metrics on test set\n",
    "y_pred_xgb = word_xgb_model.predict(dtest)"
   ]
  },
  {
   "cell_type": "code",
   "execution_count": 55,
   "metadata": {},
   "outputs": [
    {
     "data": {
      "text/plain": [
       "array([0.04864689, 0.12026416, 0.00245252, ..., 0.07826545, 0.88711256,\n",
       "       0.98422134], dtype=float32)"
      ]
     },
     "execution_count": 55,
     "metadata": {},
     "output_type": "execute_result"
    }
   ],
   "source": [
    "y_pred_xgb"
   ]
  },
  {
   "cell_type": "code",
   "execution_count": 56,
   "metadata": {},
   "outputs": [
    {
     "name": "stdout",
     "output_type": "stream",
     "text": [
      "0.9415588135150634\n"
     ]
    }
   ],
   "source": [
    "### area under roc and\n",
    "print(\n",
    "    roc_auc_score(y_val, y_pred_xgb)\n",
    ")"
   ]
  },
  {
   "cell_type": "code",
   "execution_count": 62,
   "metadata": {},
   "outputs": [
    {
     "data": {
      "image/png": "[encoded data removed]",
      "text/plain": [
       "<Figure size 864x1296 with 1 Axes>"
      ]
     },
     "metadata": {
      "needs_background": "light"
     },
     "output_type": "display_data"
    }
   ],
   "source": [
    "fig, ax = plt.subplots(figsize=(12,18))\n",
    "xgb.plot_importance(word_xgb_model, max_num_features=30, height=0.8, ax=ax)\n",
    "plt.show()"
   ]
  }
 ],
 "metadata": {
  "kernelspec": {
   "display_name": "Python 3",
   "language": "python",
   "name": "python3"
  },
  "language_info": {
   "codemirror_mode": {
    "name": "ipython",
    "version": 3
   },
   "file_extension": ".py",
   "mimetype": "text/x-python",
   "name": "python",
   "nbconvert_exporter": "python",
   "pygments_lexer": "ipython3",
   "version": "3.7.3"
  }
 },
 "nbformat": 4,
 "nbformat_minor": 2
}
