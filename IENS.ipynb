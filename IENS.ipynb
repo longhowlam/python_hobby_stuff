{
 "cells": [
  {
   "cell_type": "markdown",
   "metadata": {},
   "source": [
    "###  Dutch Restaurant reviews\n",
    "\n",
    "Predict the score using the review texts from reviews scrapes already some time ago from the iens.nl website. \n",
    "\n"
   ]
  },
  {
   "cell_type": "code",
   "execution_count": 27,
   "metadata": {},
   "outputs": [],
   "source": [
    "# All reviews are in a zipped csv file, but this file was too big to share on github. \n",
    "# So I splitted the file into two chunks with the command line tool split. \n",
    "# These two parts, restaurantaa and restaurantab, need to be put together first.\n",
    "\n",
    "!cat restauranta* > all_reviews.zip"
   ]
  },
  {
   "cell_type": "code",
   "execution_count": 28,
   "metadata": {},
   "outputs": [
    {
     "data": {
      "text/plain": [
       "(211140, 9)"
      ]
     },
     "execution_count": 28,
     "metadata": {},
     "output_type": "execute_result"
    }
   ],
   "source": [
    "### set up and initializing Holmes\n",
    "import datatable as dt\n",
    "import pandas as pd\n",
    "import seaborn as sns\n",
    "from langdetect import detect\n",
    "sns.set(rc={'figure.figsize':(10,6)})\n",
    "\n",
    "### I am using the fread function in datatable to import zipped CSV text file\n",
    "iens = dt.fread('all_reviews.zip')\n",
    "iens.shape"
   ]
  },
  {
   "cell_type": "code",
   "execution_count": 22,
   "metadata": {},
   "outputs": [
    {
     "data": {
      "text/html": [
       "<div class='datatable'>\n",
       "  <table class='frame'>\n",
       "  <thead>\n",
       "    <tr class='colnames'><td class='row_index'></td><th>reviewer</th><th>RestaurantNaam</th><th>Review</th><th>keuken</th><th>datum</th><th>eten</th><th>service</th><th>decor</th><th>ID</th></tr>\n",
       "    <tr class='coltypes'><td class='row_index'></td><td class='str' title='str32'>&#x25AA;&#x25AA;&#x25AA;&#x25AA;</td><td class='str' title='str32'>&#x25AA;&#x25AA;&#x25AA;&#x25AA;</td><td class='str' title='str32'>&#x25AA;&#x25AA;&#x25AA;&#x25AA;</td><td class='str' title='str32'>&#x25AA;&#x25AA;&#x25AA;&#x25AA;</td><td class='str' title='str32'>&#x25AA;&#x25AA;&#x25AA;&#x25AA;</td><td class='int' title='int32'>&#x25AA;&#x25AA;&#x25AA;&#x25AA;</td><td class='int' title='int32'>&#x25AA;&#x25AA;&#x25AA;&#x25AA;</td><td class='int' title='int32'>&#x25AA;&#x25AA;&#x25AA;&#x25AA;</td><td class='int' title='int32'>&#x25AA;&#x25AA;&#x25AA;&#x25AA;</td></tr>\n",
       "  </thead>\n",
       "  <tbody>\n",
       "    <tr><td class='row_index'>0</td><td>marian_groot</td><td>Het Ei Van Columbus</td><td>Heerlijk gegeten! Vooraf een heerlijke proeverij w&#133;</td><td>FRANS</td><td>23/06/2013</td><td>8</td><td>9</td><td>8</td><td>211136</td></tr>\n",
       "    <tr><td class='row_index'>1</td><td>Kremers</td><td>Het Ei Van Columbus</td><td>Vanwege verjaardag van Oma uit eten. Keuzemenu bes&#133;</td><td>FRANS</td><td>15/06/2013</td><td>8</td><td>8</td><td>7</td><td>211137</td></tr>\n",
       "    <tr><td class='row_index'>2</td><td>Mark-Gerards</td><td>Het Ei Van Columbus</td><td>Wij hebben hier met 6 personen gegeten en het is o&#133;</td><td>FRANS</td><td>29/12/2012</td><td>10</td><td>10</td><td>1</td><td>211138</td></tr>\n",
       "    <tr><td class='row_index'>3</td><td>posth151</td><td>Het Ei Van Columbus</td><td>De bediening was zonder meer vriendelijk en gastvr&#133;</td><td>FRANS</td><td>28/12/2012</td><td>7</td><td>8</td><td>6</td><td>211139</td></tr>\n",
       "    <tr><td class='row_index'>4</td><td>CulinairOegstgeest</td><td>Het Ei Van Columbus</td><td>Lekker gegeten in dit restaurant op mooie lokatie &#133;</td><td>FRANS</td><td>09/11/2012</td><td>7</td><td>7</td><td>7</td><td>211140</td></tr>\n",
       "  </tbody>\n",
       "  </table>\n",
       "  <div class='footer'>\n",
       "    <div class='frame_dimensions'>5 rows &times; 9 columns</div>\n",
       "  </div>\n",
       "</div>\n"
      ],
      "text/plain": []
     },
     "execution_count": 22,
     "metadata": {},
     "output_type": "execute_result"
    }
   ],
   "source": [
    "### show first 5 rows\n",
    "iens.tail(5)"
   ]
  },
  {
   "cell_type": "code",
   "execution_count": 6,
   "metadata": {},
   "outputs": [
    {
     "data": {
      "text/plain": [
       "\"Wat moet je hier nu weer mee?Goede cijfers op de Iens app, maar al schrijvende komt er weer een proest van humoristische verbazing boven. Dit is een leuke poging tot restaurant, met niet goed opgeleid personeel dat wel heel erg haar best doet en een maaltijd die ternauwernood volstaat voor de prijs.Matias zit aan een drukke straat met heel veel restaurantjes, de proppers staan voor de deur. Dit was onze 2e keus, maar we moesten te lang wachten bij onze 1e keus voor spareribs en cocktails. Toen wij aankwamen, na een hele leuke dag Rijksmuseum, zaten er uitsluitend toeristen binnen. De groep Amerikaanse jongeren waren over de korting aan het bakkeleien, waarmee blijkbaar geadverteerd werd buiten.Dit restaurantje is niet groot, een tafel op 10. Het personeel telde 6 tot 8 mensen, zo telde ik snel. Er was niet veel te doen, dus hingen ze een beetje rond. Wel heel vriendelijk overigens.De maaltijden zijn Mexicaans, met was Oosterse invloeden. Margarita's zijn goed, verhoudingsgewijs duur. Enchilada's en Fajitas pollo beide een bord vol eten, aardig smaakvol, maar weinig inspiratie (dit kan ik beter... al zeg ik het zelf hehe).We verwachtten sfeervolle Caribische muziek, maar helaas. De radio stond lekker aan, wel handig als je het nieuws hebt gemist. Een grinnik moeilijk te onderdrukken. In de geluidsinstallatie mogen ze wel wat investeren, het klonk als muziek in een strandtent, maar dan zonder strand en zonder tent. Met 45 euro rond waren we samen klaar.Voor toeristen met een beperkt budget een meer dan uitstekende keus. Voor echt goed Mexicaans eten en sfeer ga je beter ergens anders heen. Dit leuke personeel verdient een mooier product.\""
      ]
     },
     "execution_count": 6,
     "metadata": {},
     "output_type": "execute_result"
    }
   ],
   "source": [
    "### show one recap in full length\n",
    "iens[3,2]"
   ]
  },
  {
   "cell_type": "markdown",
   "metadata": {},
   "source": [
    "#### Language detection\n",
    "\n",
    "We focus on Dutch reviews only."
   ]
  },
  {
   "cell_type": "code",
   "execution_count": 9,
   "metadata": {},
   "outputs": [
    {
     "data": {
      "text/plain": [
       "'nl'"
      ]
     },
     "execution_count": 9,
     "metadata": {},
     "output_type": "execute_result"
    }
   ],
   "source": [
    "detect(iens[3,2])"
   ]
  },
  {
   "cell_type": "code",
   "execution_count": 15,
   "metadata": {},
   "outputs": [],
   "source": [
    "reviews = iens.to_pandas()"
   ]
  },
  {
   "cell_type": "code",
   "execution_count": 25,
   "metadata": {},
   "outputs": [
    {
     "data": {
      "text/plain": [
       "<matplotlib.axes._subplots.AxesSubplot at 0x7ff201fa4080>"
      ]
     },
     "execution_count": 25,
     "metadata": {},
     "output_type": "execute_result"
    },
    {
     "data": {
      "image/png": "[encoded data removed]",
      "text/plain": [
       "<Figure size 720x432 with 1 Axes>"
      ]
     },
     "metadata": {},
     "output_type": "display_data"
    }
   ],
   "source": [
    "### Overview of the score given\n",
    "sns.distplot(reviews.eten.dropna(), kde = False)"
   ]
  }
 ],
 "metadata": {
  "kernelspec": {
   "display_name": "Python 3",
   "language": "python",
   "name": "python3"
  },
  "language_info": {
   "codemirror_mode": {
    "name": "ipython",
    "version": 3
   },
   "file_extension": ".py",
   "mimetype": "text/x-python",
   "name": "python",
   "nbconvert_exporter": "python",
   "pygments_lexer": "ipython3",
   "version": "3.7.3"
  }
 },
 "nbformat": 4,
 "nbformat_minor": 2
}
