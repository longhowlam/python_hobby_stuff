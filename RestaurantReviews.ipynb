{
 "cells": [
  {
   "cell_type": "markdown",
   "metadata": {},
   "source": [
    "###  Dutch Restaurant reviews\n",
    "\n",
    "Predict the score using the review texts from reviews scrapes already some time ago from the iens.nl website. \n",
    "\n"
   ]
  },
  {
   "cell_type": "code",
   "execution_count": 27,
   "metadata": {},
   "outputs": [],
   "source": [
    "# All reviews are in a zipped csv file, but this file was too big to share on github. \n",
    "# So I splitted the file into two chunks with the command line tool split. \n",
    "# These two parts, restaurantaa and restaurantab, need to be put together first.\n",
    "\n",
    "!cat restauranta* > all_reviews.zip"
   ]
  },
  {
   "cell_type": "code",
   "execution_count": 28,
   "metadata": {},
   "outputs": [
    {
     "data": {
      "text/plain": [
       "(211140, 9)"
      ]
     },
     "execution_count": 28,
     "metadata": {},
     "output_type": "execute_result"
    }
   ],
   "source": [
    "### set up and initializing Holmes\n",
    "import datatable as dt\n",
    "import pandas as pd\n",
    "import seaborn as sns\n",
    "from langdetect import detect\n",
    "sns.set(rc={'figure.figsize':(10,6)})\n",
    "\n",
    "### I am using the fread function in datatable to import zipped CSV text file\n",
    "iens = dt.fread('all_reviews.zip')\n",
    "iens.shape"
   ]
  },
  {
   "cell_type": "code",
   "execution_count": 22,
   "metadata": {},
   "outputs": [
    {
     "data": {
      "text/html": [
       "<div class='datatable'>\n",
       "  <table class='frame'>\n",
       "  <thead>\n",
       "    <tr class='colnames'><td class='row_index'></td><th>reviewer</th><th>RestaurantNaam</th><th>Review</th><th>keuken</th><th>datum</th><th>eten</th><th>service</th><th>decor</th><th>ID</th></tr>\n",
       "    <tr class='coltypes'><td class='row_index'></td><td class='str' title='str32'>&#x25AA;&#x25AA;&#x25AA;&#x25AA;</td><td class='str' title='str32'>&#x25AA;&#x25AA;&#x25AA;&#x25AA;</td><td class='str' title='str32'>&#x25AA;&#x25AA;&#x25AA;&#x25AA;</td><td class='str' title='str32'>&#x25AA;&#x25AA;&#x25AA;&#x25AA;</td><td class='str' title='str32'>&#x25AA;&#x25AA;&#x25AA;&#x25AA;</td><td class='int' title='int32'>&#x25AA;&#x25AA;&#x25AA;&#x25AA;</td><td class='int' title='int32'>&#x25AA;&#x25AA;&#x25AA;&#x25AA;</td><td class='int' title='int32'>&#x25AA;&#x25AA;&#x25AA;&#x25AA;</td><td class='int' title='int32'>&#x25AA;&#x25AA;&#x25AA;&#x25AA;</td></tr>\n",
       "  </thead>\n",
       "  <tbody>\n",
       "    <tr><td class='row_index'>0</td><td>marian_groot</td><td>Het Ei Van Columbus</td><td>Heerlijk gegeten! Vooraf een heerlijke proeverij w&#133;</td><td>FRANS</td><td>23/06/2013</td><td>8</td><td>9</td><td>8</td><td>211136</td></tr>\n",
       "    <tr><td class='row_index'>1</td><td>Kremers</td><td>Het Ei Van Columbus</td><td>Vanwege verjaardag van Oma uit eten. Keuzemenu bes&#133;</td><td>FRANS</td><td>15/06/2013</td><td>8</td><td>8</td><td>7</td><td>211137</td></tr>\n",
       "    <tr><td class='row_index'>2</td><td>Mark-Gerards</td><td>Het Ei Van Columbus</td><td>Wij hebben hier met 6 personen gegeten en het is o&#133;</td><td>FRANS</td><td>29/12/2012</td><td>10</td><td>10</td><td>1</td><td>211138</td></tr>\n",
       "    <tr><td class='row_index'>3</td><td>posth151</td><td>Het Ei Van Columbus</td><td>De bediening was zonder meer vriendelijk en gastvr&#133;</td><td>FRANS</td><td>28/12/2012</td><td>7</td><td>8</td><td>6</td><td>211139</td></tr>\n",
       "    <tr><td class='row_index'>4</td><td>CulinairOegstgeest</td><td>Het Ei Van Columbus</td><td>Lekker gegeten in dit restaurant op mooie lokatie &#133;</td><td>FRANS</td><td>09/11/2012</td><td>7</td><td>7</td><td>7</td><td>211140</td></tr>\n",
       "  </tbody>\n",
       "  </table>\n",
       "  <div class='footer'>\n",
       "    <div class='frame_dimensions'>5 rows &times; 9 columns</div>\n",
       "  </div>\n",
       "</div>\n"
      ],
      "text/plain": []
     },
     "execution_count": 22,
     "metadata": {},
     "output_type": "execute_result"
    }
   ],
   "source": [
    "### show first 5 rows\n",
    "iens.tail(5)"
   ]
  },
  {
   "cell_type": "code",
   "execution_count": 6,
   "metadata": {},
   "outputs": [
    {
     "data": {
      "text/plain": [
       "\"Wat moet je hier nu weer mee?Goede cijfers op de Iens app, maar al schrijvende komt er weer een proest van humoristische verbazing boven. Dit is een leuke poging tot restaurant, met niet goed opgeleid personeel dat wel heel erg haar best doet en een maaltijd die ternauwernood volstaat voor de prijs.Matias zit aan een drukke straat met heel veel restaurantjes, de proppers staan voor de deur. Dit was onze 2e keus, maar we moesten te lang wachten bij onze 1e keus voor spareribs en cocktails. Toen wij aankwamen, na een hele leuke dag Rijksmuseum, zaten er uitsluitend toeristen binnen. De groep Amerikaanse jongeren waren over de korting aan het bakkeleien, waarmee blijkbaar geadverteerd werd buiten.Dit restaurantje is niet groot, een tafel op 10. Het personeel telde 6 tot 8 mensen, zo telde ik snel. Er was niet veel te doen, dus hingen ze een beetje rond. Wel heel vriendelijk overigens.De maaltijden zijn Mexicaans, met was Oosterse invloeden. Margarita's zijn goed, verhoudingsgewijs duur. Enchilada's en Fajitas pollo beide een bord vol eten, aardig smaakvol, maar weinig inspiratie (dit kan ik beter... al zeg ik het zelf hehe).We verwachtten sfeervolle Caribische muziek, maar helaas. De radio stond lekker aan, wel handig als je het nieuws hebt gemist. Een grinnik moeilijk te onderdrukken. In de geluidsinstallatie mogen ze wel wat investeren, het klonk als muziek in een strandtent, maar dan zonder strand en zonder tent. Met 45 euro rond waren we samen klaar.Voor toeristen met een beperkt budget een meer dan uitstekende keus. Voor echt goed Mexicaans eten en sfeer ga je beter ergens anders heen. Dit leuke personeel verdient een mooier product.\""
      ]
     },
     "execution_count": 6,
     "metadata": {},
     "output_type": "execute_result"
    }
   ],
   "source": [
    "### show one recap in full length\n",
    "iens[3,2]"
   ]
  },
  {
   "cell_type": "code",
   "execution_count": 29,
   "metadata": {},
   "outputs": [],
   "source": [
    "reviews = iens.to_pandas()"
   ]
  },
  {
   "cell_type": "markdown",
   "metadata": {},
   "source": [
    "#### Language detection\n",
    "\n",
    "We focus on Dutch reviews only. Use the `langdetect`package to detect the language of all reviews. This will take some time to process all 211K reviews"
   ]
  },
  {
   "cell_type": "code",
   "execution_count": 47,
   "metadata": {},
   "outputs": [],
   "source": [
    "reviews[\"language\"] = reviews.Review.apply(detect)"
   ]
  },
  {
   "cell_type": "code",
   "execution_count": 48,
   "metadata": {},
   "outputs": [
    {
     "data": {
      "text/plain": [
       "nl    210340\n",
       "af       501\n",
       "en       288\n",
       "de         3\n",
       "so         2\n",
       "no         2\n",
       "sl         1\n",
       "it         1\n",
       "ca         1\n",
       "da         1\n",
       "Name: language, dtype: int64"
      ]
     },
     "execution_count": 48,
     "metadata": {},
     "output_type": "execute_result"
    }
   ],
   "source": [
    "reviews.language.value_counts()"
   ]
  },
  {
   "cell_type": "code",
   "execution_count": 49,
   "metadata": {},
   "outputs": [],
   "source": [
    "reviews.to_pickle(\"reviews.pck\")"
   ]
  },
  {
   "cell_type": "code",
   "execution_count": 52,
   "metadata": {},
   "outputs": [],
   "source": [
    "### take only Dutch reviews with non missing 'eten' (food) score\n",
    "reviews_NL = (\n",
    "    reviews\n",
    "    .query('language ==\"nl\"')\n",
    "    .dropna(subset=['eten', 'Review'])\n",
    ")"
   ]
  },
  {
   "cell_type": "code",
   "execution_count": 53,
   "metadata": {},
   "outputs": [
    {
     "data": {
      "text/plain": [
       "<matplotlib.axes._subplots.AxesSubplot at 0x7ff1d1a95438>"
      ]
     },
     "execution_count": 53,
     "metadata": {},
     "output_type": "execute_result"
    },
    {
     "data": {
      "image/png": "[encoded data removed]",
      "text/plain": [
       "<Figure size 720x432 with 1 Axes>"
      ]
     },
     "metadata": {},
     "output_type": "display_data"
    }
   ],
   "source": [
    "### Overview of the score given\n",
    "sns.distplot(reviews_NL.eten, kde = False)"
   ]
  },
  {
   "cell_type": "code",
   "execution_count": 58,
   "metadata": {},
   "outputs": [
    {
     "data": {
      "text/html": [
       "<div>\n",
       "<style scoped>\n",
       "    .dataframe tbody tr th:only-of-type {\n",
       "        vertical-align: middle;\n",
       "    }\n",
       "\n",
       "    .dataframe tbody tr th {\n",
       "        vertical-align: top;\n",
       "    }\n",
       "\n",
       "    .dataframe thead th {\n",
       "        text-align: right;\n",
       "    }\n",
       "</style>\n",
       "<table border=\"1\" class=\"dataframe\">\n",
       "  <thead>\n",
       "    <tr style=\"text-align: right;\">\n",
       "      <th></th>\n",
       "      <th>Review</th>\n",
       "      <th>eten</th>\n",
       "    </tr>\n",
       "  </thead>\n",
       "  <tbody>\n",
       "    <tr>\n",
       "      <th>32684</th>\n",
       "      <td>De bediening kun je het beste omschrijven als verwarde kippen in een meer dan chaotisch kippenhok.Het geserveerde eten was lauw, kleine porties en weinig inspirerend.Heel vervelend ook dat de serveerster uitsluitend Engels sprak.Entourage: mooi, industrieel, maar ook erg koud.Na afloop onze magen pas echt goed gevuld in de kroeg, met bittergarnituur ( 3 x )</td>\n",
       "      <td>1.0</td>\n",
       "    </tr>\n",
       "    <tr>\n",
       "      <th>202023</th>\n",
       "      <td>09-08-2014 dinner bij de trein in Valkenburg bij aankomst terras vrijwel leeg. Koude tomatensoep , het eten werd in een sneltrein vaart gebracht soep net naar binnen en serveerster kwam al met het hoofdgerecht tja de kok is snel vandaag , in de tussentijd waren ze het terras aan het opruimen ( tafels en stoelen naar binnen ) in mijn ooghoeken zie ik dat de serveerster een bod van de tafel pakt en op de grond plaatst voor hun hond (ieeuw)  bij onze menu's gaven we aan dat we graag saté saus erbij wilde ( varkenshaas ) ow sorry foutje van de keuken ze zouden meteen brengen klein schaaltje saté saus die later 7,50 extra bleek te kosten salade die bij de 4 menu's hoorde werd in een klein schaaltje gedaan net genoeg voor 1 persoon het vlees was niet gaar ( vandaar de snelle levertijd of we op wilde schieten en alvast wilde aangeven of we koffie of ijs nawilde want de keuken gaat zo dicht ....? Iedereen snel het eten naar binnen werken snel naar het vieze toilet , geen wc papier aanwezig...</td>\n",
       "      <td>1.0</td>\n",
       "    </tr>\n",
       "    <tr>\n",
       "      <th>145716</th>\n",
       "      <td>\"gisteren met 2 vrienden een 3 gangen schnitzel menu gegeten hier, tenminste dat hebben geprobeerd maar we zijn niet verder dan het hoofdgerecht gekomen. het gaat al mis als je wilt reserveren, je kan met je grouponbon voor 4 personen alleen voor 2 personen reserveren, een andere keuze is er niet in het systeem. als je daarna probeert contact op te nemen via mail of telefoon krijg je geen respons. Dus bij aankomst al direct een \\p\"robleem\\\" want er was maar voor 2 personen gereserveerd. Dit werd dan toch vrij simpel opgelost door ons met 4 personen aan een 2 persoonstafeltje te proppen, en dit terwijl de zaak bijna half leeg was (en bleef). we werden direct gevraagd of we iets wilde drinken en na deze bestelling bleef het lang stil......na ongeveer 30 minuten werden de colaatjes gebracht waarna het toch weer zeker 20 minuten duurde voor men onze bestelling voor het eten kwam opnemen. Ondertussen hebben wij vrij zicht op de keuken waar het helemaal vol stond met borden die moesten w...</td>\n",
       "      <td>2.0</td>\n",
       "    </tr>\n",
       "    <tr>\n",
       "      <th>122491</th>\n",
       "      <td>\"Nimmer zulk slecht voedsel gegeten. We hadden een Menu Express, waarbij je uitsluitend van één bepaald buffet mocht pakken, plus het saladebuffet.Alle vlees- en visgerechten (de zalm bij het saladebuffet uitgezonderd) waren zo doorgekookt en doorgebakken dat kauwen niet hoefde, het was meer slurpen. Geen kraak of smaak aan deze gerechten. Rijst- en bamigerechten waren nog wel te eten, maar op het saladebuffet lag veel, maar alles wat je aan smaak mag verwachten, bleef uit. Tomaten: waterig en geen smaak. Asperges: flauwe smaak, zeker geen aspergesmaak. Mais: droog en geen smaak. De koks van Onderweg zouden echt een bijscholingscursus moeten gaan volgen, \\H\"oe bereid ik smakelijke- en voedzame gerechten\\\". Als klap op de vuurpijl zat er, op de dag waarop het kwik over de 30 graden was, zelfs aan mijn niet gekoelde appelsap een onbestemde smaak. Op de bon stond \\\"Flevosap\\\". Dit drink ik bijna dagelijks vanuit de supermarkt, maar de heerlijke smaak daarvan wordt in de verste verte n...</td>\n",
       "      <td>3.0</td>\n",
       "    </tr>\n",
       "    <tr>\n",
       "      <th>52188</th>\n",
       "      <td>\"Voor wie lekker wil eten is Bergers niet de beste plek. Jammer. De voorgerechten waren veel te groot en weinig spannend van smaak. Het hoofdgerecht ging echt nergens over - dat kan ik thuis beter - de zalm was overladen met een bak roomkaas, \\w\"aar is de zalm\\\"?!. Het zag er niet aantrekkelijk uit en de smaak was ook niet om over naar huis te schrijven. Bediening is vriendelijk en accuraat. Ondanks het slechte eten toch een heel gezellige avond gehad met vrienden.\"</td>\n",
       "      <td>3.0</td>\n",
       "    </tr>\n",
       "  </tbody>\n",
       "</table>\n",
       "</div>"
      ],
      "text/plain": [
       "                                                                                                                                                                                                                                                                                                                                                                                                                                                                                                                                                                                                                                                                                                                                                                                                                                                                                                                                                                                                                                         Review  \\\n",
       "32684                                                                                                                                                                                                                                                                                                                                                                                                                                                                                                                                                                                                                                                                   De bediening kun je het beste omschrijven als verwarde kippen in een meer dan chaotisch kippenhok.Het geserveerde eten was lauw, kleine porties en weinig inspirerend.Heel vervelend ook dat de serveerster uitsluitend Engels sprak.Entourage: mooi, industrieel, maar ook erg koud.Na afloop onze magen pas echt goed gevuld in de kroeg, met bittergarnituur ( 3 x )   \n",
       "202023  09-08-2014 dinner bij de trein in Valkenburg bij aankomst terras vrijwel leeg. Koude tomatensoep , het eten werd in een sneltrein vaart gebracht soep net naar binnen en serveerster kwam al met het hoofdgerecht tja de kok is snel vandaag , in de tussentijd waren ze het terras aan het opruimen ( tafels en stoelen naar binnen ) in mijn ooghoeken zie ik dat de serveerster een bod van de tafel pakt en op de grond plaatst voor hun hond (ieeuw)  bij onze menu's gaven we aan dat we graag saté saus erbij wilde ( varkenshaas ) ow sorry foutje van de keuken ze zouden meteen brengen klein schaaltje saté saus die later 7,50 extra bleek te kosten salade die bij de 4 menu's hoorde werd in een klein schaaltje gedaan net genoeg voor 1 persoon het vlees was niet gaar ( vandaar de snelle levertijd of we op wilde schieten en alvast wilde aangeven of we koffie of ijs nawilde want de keuken gaat zo dicht ....? Iedereen snel het eten naar binnen werken snel naar het vieze toilet , geen wc papier aanwezig...   \n",
       "145716  \"gisteren met 2 vrienden een 3 gangen schnitzel menu gegeten hier, tenminste dat hebben geprobeerd maar we zijn niet verder dan het hoofdgerecht gekomen. het gaat al mis als je wilt reserveren, je kan met je grouponbon voor 4 personen alleen voor 2 personen reserveren, een andere keuze is er niet in het systeem. als je daarna probeert contact op te nemen via mail of telefoon krijg je geen respons. Dus bij aankomst al direct een \\p\"robleem\\\" want er was maar voor 2 personen gereserveerd. Dit werd dan toch vrij simpel opgelost door ons met 4 personen aan een 2 persoonstafeltje te proppen, en dit terwijl de zaak bijna half leeg was (en bleef). we werden direct gevraagd of we iets wilde drinken en na deze bestelling bleef het lang stil......na ongeveer 30 minuten werden de colaatjes gebracht waarna het toch weer zeker 20 minuten duurde voor men onze bestelling voor het eten kwam opnemen. Ondertussen hebben wij vrij zicht op de keuken waar het helemaal vol stond met borden die moesten w...   \n",
       "122491  \"Nimmer zulk slecht voedsel gegeten. We hadden een Menu Express, waarbij je uitsluitend van één bepaald buffet mocht pakken, plus het saladebuffet.Alle vlees- en visgerechten (de zalm bij het saladebuffet uitgezonderd) waren zo doorgekookt en doorgebakken dat kauwen niet hoefde, het was meer slurpen. Geen kraak of smaak aan deze gerechten. Rijst- en bamigerechten waren nog wel te eten, maar op het saladebuffet lag veel, maar alles wat je aan smaak mag verwachten, bleef uit. Tomaten: waterig en geen smaak. Asperges: flauwe smaak, zeker geen aspergesmaak. Mais: droog en geen smaak. De koks van Onderweg zouden echt een bijscholingscursus moeten gaan volgen, \\H\"oe bereid ik smakelijke- en voedzame gerechten\\\". Als klap op de vuurpijl zat er, op de dag waarop het kwik over de 30 graden was, zelfs aan mijn niet gekoelde appelsap een onbestemde smaak. Op de bon stond \\\"Flevosap\\\". Dit drink ik bijna dagelijks vanuit de supermarkt, maar de heerlijke smaak daarvan wordt in de verste verte n...   \n",
       "52188                                                                                                                                                                                                                                                                                                                                                                                                                                                                                                                                                    \"Voor wie lekker wil eten is Bergers niet de beste plek. Jammer. De voorgerechten waren veel te groot en weinig spannend van smaak. Het hoofdgerecht ging echt nergens over - dat kan ik thuis beter - de zalm was overladen met een bak roomkaas, \\w\"aar is de zalm\\\"?!. Het zag er niet aantrekkelijk uit en de smaak was ook niet om over naar huis te schrijven. Bediening is vriendelijk en accuraat. Ondanks het slechte eten toch een heel gezellige avond gehad met vrienden.\"   \n",
       "\n",
       "        eten  \n",
       "32684    1.0  \n",
       "202023   1.0  \n",
       "145716   2.0  \n",
       "122491   3.0  \n",
       "52188    3.0  "
      ]
     },
     "execution_count": 58,
     "metadata": {},
     "output_type": "execute_result"
    }
   ],
   "source": [
    "### example reviews with bad score\n",
    "pd.options.display.max_colwidth = 1000\n",
    "reviews_NL.query('eten < 4').sample(5)[[\"Review\", \"eten\"]]"
   ]
  }
 ],
 "metadata": {
  "kernelspec": {
   "display_name": "Python 3",
   "language": "python",
   "name": "python3"
  },
  "language_info": {
   "codemirror_mode": {
    "name": "ipython",
    "version": 3
   },
   "file_extension": ".py",
   "mimetype": "text/x-python",
   "name": "python",
   "nbconvert_exporter": "python",
   "pygments_lexer": "ipython3",
   "version": "3.7.3"
  }
 },
 "nbformat": 4,
 "nbformat_minor": 2
}
