{
 "cells": [
  {
   "cell_type": "markdown",
   "metadata": {},
   "source": [
    "#  Dutch Restaurant reviews\n",
    "\n",
    "What are the most negative and positive words in Dutch restaurant reviews?  Analysis using the review texts from reviews scraped already some time ago from the iens.nl website. "
   ]
  },
  {
   "cell_type": "code",
   "execution_count": 1,
   "metadata": {},
   "outputs": [],
   "source": [
    "### set up things\n",
    "import datatable as dt\n",
    "import pandas as pd\n",
    "import seaborn as sns\n",
    "import matplotlib.pyplot as plt\n",
    "from langdetect import detect\n",
    "import numpy as np\n",
    "import re \n",
    "from sklearn.model_selection import train_test_split\n",
    "\n",
    "from sklearn.feature_extraction.text import CountVectorizer\n",
    "import xgboost as xgb\n",
    "from sklearn.metrics import r2_score, mean_absolute_error, median_absolute_error, accuracy_score\n",
    "from sklearn.linear_model import LogisticRegression\n",
    "\n",
    "import spacy\n",
    "nlp = spacy.load(\"nl_core_news_sm\")\n",
    "\n",
    "sns.set(rc={'figure.figsize':(10,6)})"
   ]
  },
  {
   "cell_type": "markdown",
   "metadata": {},
   "source": [
    "### Import data \n",
    "All reviews are in a zipped csv file, but this file was too big to share on github. \n",
    "\n",
    "So I splitted the file into two chunks with the command line tool split. These two parts, restaurantaa and restaurantab, need to be put together first."
   ]
  },
  {
   "cell_type": "code",
   "execution_count": 2,
   "metadata": {},
   "outputs": [],
   "source": [
    "!cat restauranta* > all_reviews.zip"
   ]
  },
  {
   "cell_type": "code",
   "execution_count": 3,
   "metadata": {},
   "outputs": [
    {
     "data": {
      "text/plain": [
       "(211140, 9)"
      ]
     },
     "execution_count": 3,
     "metadata": {},
     "output_type": "execute_result"
    }
   ],
   "source": [
    "### I am using the fread function in datatable to import zipped CSV text file, it is a bit faster than pandas.....\n",
    "iens = dt.fread('all_reviews.zip')\n",
    "iens.shape"
   ]
  },
  {
   "cell_type": "code",
   "execution_count": 4,
   "metadata": {},
   "outputs": [
    {
     "data": {
      "text/html": [
       "<style type='text/css'>\n",
       ".datatable table.frame { margin-bottom: 0; }\n",
       ".datatable table.frame thead { border-bottom: none; }\n",
       ".datatable table.frame tr.coltypes td {  color: #FFFFFF;  line-height: 6px;  padding: 0 0.5em;}\n",
       ".datatable .bool { background: #DDDD99; }\n",
       ".datatable .obj  { background: #565656; }\n",
       ".datatable .int  { background: #5D9E5D; }\n",
       ".datatable .real { background: #4040CC; }\n",
       ".datatable .str  { background: #CC4040; }\n",
       ".datatable .row_index {  background: var(--jp-border-color3);  border-right: 1px solid var(--jp-border-color0);  color: var(--jp-ui-font-color3);  font-size: 9px;}\n",
       ".datatable .frame tr.coltypes .row_index {  background: var(--jp-border-color0);}\n",
       ".datatable th:nth-child(2) { padding-left: 12px; }\n",
       ".datatable .hellipsis {  color: var(--jp-cell-editor-border-color);}\n",
       ".datatable .vellipsis {  background: var(--jp-layout-color0);  color: var(--jp-cell-editor-border-color);}\n",
       ".datatable .na {  color: var(--jp-cell-editor-border-color);  font-size: 80%;}\n",
       ".datatable .footer { font-size: 9px; }\n",
       ".datatable .frame_dimensions {  background: var(--jp-border-color3);  border-top: 1px solid var(--jp-border-color0);  color: var(--jp-ui-font-color3);  display: inline-block;  opacity: 0.6;  padding: 1px 10px 1px 5px;}\n",
       "</style>\n",
       "<div class='datatable'>\n",
       "  <table class='frame'>\n",
       "  <thead>\n",
       "    <tr class='colnames'><td class='row_index'></td><th>reviewer</th><th>RestaurantNaam</th><th>Review</th><th>keuken</th><th>datum</th><th>eten</th><th>service</th><th>decor</th><th>ID</th></tr>\n",
       "    <tr class='coltypes'><td class='row_index'></td><td class='str' title='str32'>&#x25AA;&#x25AA;&#x25AA;&#x25AA;</td><td class='str' title='str32'>&#x25AA;&#x25AA;&#x25AA;&#x25AA;</td><td class='str' title='str32'>&#x25AA;&#x25AA;&#x25AA;&#x25AA;</td><td class='str' title='str32'>&#x25AA;&#x25AA;&#x25AA;&#x25AA;</td><td class='str' title='str32'>&#x25AA;&#x25AA;&#x25AA;&#x25AA;</td><td class='int' title='int32'>&#x25AA;&#x25AA;&#x25AA;&#x25AA;</td><td class='int' title='int32'>&#x25AA;&#x25AA;&#x25AA;&#x25AA;</td><td class='int' title='int32'>&#x25AA;&#x25AA;&#x25AA;&#x25AA;</td><td class='int' title='int32'>&#x25AA;&#x25AA;&#x25AA;&#x25AA;</td></tr>\n",
       "  </thead>\n",
       "  <tbody>\n",
       "    <tr><td class='row_index'>0</td><td>marian_groot</td><td>Het Ei Van Columbus</td><td>Heerlijk gegeten! Vooraf een heerlijke proeverij w&#133;</td><td>FRANS</td><td>23/06/2013</td><td>8</td><td>9</td><td>8</td><td>211136</td></tr>\n",
       "    <tr><td class='row_index'>1</td><td>Kremers</td><td>Het Ei Van Columbus</td><td>Vanwege verjaardag van Oma uit eten. Keuzemenu bes&#133;</td><td>FRANS</td><td>15/06/2013</td><td>8</td><td>8</td><td>7</td><td>211137</td></tr>\n",
       "    <tr><td class='row_index'>2</td><td>Mark-Gerards</td><td>Het Ei Van Columbus</td><td>Wij hebben hier met 6 personen gegeten en het is o&#133;</td><td>FRANS</td><td>29/12/2012</td><td>10</td><td>10</td><td>1</td><td>211138</td></tr>\n",
       "    <tr><td class='row_index'>3</td><td>posth151</td><td>Het Ei Van Columbus</td><td>De bediening was zonder meer vriendelijk en gastvr&#133;</td><td>FRANS</td><td>28/12/2012</td><td>7</td><td>8</td><td>6</td><td>211139</td></tr>\n",
       "    <tr><td class='row_index'>4</td><td>CulinairOegstgeest</td><td>Het Ei Van Columbus</td><td>Lekker gegeten in dit restaurant op mooie lokatie &#133;</td><td>FRANS</td><td>09/11/2012</td><td>7</td><td>7</td><td>7</td><td>211140</td></tr>\n",
       "  </tbody>\n",
       "  </table>\n",
       "  <div class='footer'>\n",
       "    <div class='frame_dimensions'>5 rows &times; 9 columns</div>\n",
       "  </div>\n",
       "</div>\n"
      ],
      "text/plain": []
     },
     "execution_count": 4,
     "metadata": {},
     "output_type": "execute_result"
    }
   ],
   "source": [
    "### show some rows\n",
    "iens.tail(5)"
   ]
  },
  {
   "cell_type": "code",
   "execution_count": 5,
   "metadata": {},
   "outputs": [
    {
     "data": {
      "text/plain": [
       "\"Wat moet je hier nu weer mee?Goede cijfers op de Iens app, maar al schrijvende komt er weer een proest van humoristische verbazing boven. Dit is een leuke poging tot restaurant, met niet goed opgeleid personeel dat wel heel erg haar best doet en een maaltijd die ternauwernood volstaat voor de prijs.Matias zit aan een drukke straat met heel veel restaurantjes, de proppers staan voor de deur. Dit was onze 2e keus, maar we moesten te lang wachten bij onze 1e keus voor spareribs en cocktails. Toen wij aankwamen, na een hele leuke dag Rijksmuseum, zaten er uitsluitend toeristen binnen. De groep Amerikaanse jongeren waren over de korting aan het bakkeleien, waarmee blijkbaar geadverteerd werd buiten.Dit restaurantje is niet groot, een tafel op 10. Het personeel telde 6 tot 8 mensen, zo telde ik snel. Er was niet veel te doen, dus hingen ze een beetje rond. Wel heel vriendelijk overigens.De maaltijden zijn Mexicaans, met was Oosterse invloeden. Margarita's zijn goed, verhoudingsgewijs duur. Enchilada's en Fajitas pollo beide een bord vol eten, aardig smaakvol, maar weinig inspiratie (dit kan ik beter... al zeg ik het zelf hehe).We verwachtten sfeervolle Caribische muziek, maar helaas. De radio stond lekker aan, wel handig als je het nieuws hebt gemist. Een grinnik moeilijk te onderdrukken. In de geluidsinstallatie mogen ze wel wat investeren, het klonk als muziek in een strandtent, maar dan zonder strand en zonder tent. Met 45 euro rond waren we samen klaar.Voor toeristen met een beperkt budget een meer dan uitstekende keus. Voor echt goed Mexicaans eten en sfeer ga je beter ergens anders heen. Dit leuke personeel verdient een mooier product.\""
      ]
     },
     "execution_count": 5,
     "metadata": {},
     "output_type": "execute_result"
    }
   ],
   "source": [
    "### show one review in full length\n",
    "iens[3,2]"
   ]
  },
  {
   "cell_type": "code",
   "execution_count": 5,
   "metadata": {},
   "outputs": [],
   "source": [
    "reviews = iens.to_pandas()"
   ]
  },
  {
   "cell_type": "markdown",
   "metadata": {},
   "source": [
    "#### Language detection\n",
    "\n",
    "We focus on Dutch reviews only. Use the `langdetect`package to detect the language of all reviews. This will take some time to process all 211K reviews. almost 25 min on my laptop"
   ]
  },
  {
   "cell_type": "code",
   "execution_count": 6,
   "metadata": {},
   "outputs": [
    {
     "name": "stdout",
     "output_type": "stream",
     "text": [
      "CPU times: user 24min 39s, sys: 8.36 s, total: 24min 47s\n",
      "Wall time: 24min 51s\n"
     ]
    }
   ],
   "source": [
    "%%time\n",
    "reviews[\"language\"] = reviews.Review.apply(detect)"
   ]
  },
  {
   "cell_type": "code",
   "execution_count": 7,
   "metadata": {},
   "outputs": [
    {
     "data": {
      "text/plain": [
       "nl    210354\n",
       "af       485\n",
       "en       288\n",
       "no         5\n",
       "de         3\n",
       "so         2\n",
       "it         2\n",
       "sl         1\n",
       "Name: language, dtype: int64"
      ]
     },
     "execution_count": 7,
     "metadata": {},
     "output_type": "execute_result"
    }
   ],
   "source": [
    "reviews.language.value_counts()"
   ]
  },
  {
   "cell_type": "code",
   "execution_count": 8,
   "metadata": {},
   "outputs": [],
   "source": [
    "### take only Dutch reviews with non missing 'eten' (food) score\n",
    "reviews_NL = (\n",
    "    reviews\n",
    "    .query('language ==\"nl\"')\n",
    "    .dropna(subset=['eten', 'Review'])\n",
    ")\n",
    "reviews_NL.to_pickle(\"reviews_NL.pck\")"
   ]
  },
  {
   "cell_type": "code",
   "execution_count": 9,
   "metadata": {},
   "outputs": [
    {
     "data": {
      "text/plain": [
       "<matplotlib.axes._subplots.AxesSubplot at 0x7ffc544e87f0>"
      ]
     },
     "execution_count": 9,
     "metadata": {},
     "output_type": "execute_result"
    },
    {
     "data": {
      "image/png": "[encoded data removed]",
      "text/plain": [
       "<Figure size 432x288 with 1 Axes>"
      ]
     },
     "metadata": {
      "needs_background": "light"
     },
     "output_type": "display_data"
    }
   ],
   "source": [
    "### Overview of the score given\n",
    "sns.distplot(reviews_NL.eten, kde = False)"
   ]
  },
  {
   "cell_type": "code",
   "execution_count": 10,
   "metadata": {},
   "outputs": [
    {
     "data": {
      "text/html": [
       "<div>\n",
       "<style scoped>\n",
       "    .dataframe tbody tr th:only-of-type {\n",
       "        vertical-align: middle;\n",
       "    }\n",
       "\n",
       "    .dataframe tbody tr th {\n",
       "        vertical-align: top;\n",
       "    }\n",
       "\n",
       "    .dataframe thead th {\n",
       "        text-align: right;\n",
       "    }\n",
       "</style>\n",
       "<table border=\"1\" class=\"dataframe\">\n",
       "  <thead>\n",
       "    <tr style=\"text-align: right;\">\n",
       "      <th></th>\n",
       "      <th>Review</th>\n",
       "      <th>eten</th>\n",
       "    </tr>\n",
       "  </thead>\n",
       "  <tbody>\n",
       "    <tr>\n",
       "      <th>144564</th>\n",
       "      <td>Wat een drama, dat Maz Mez. Hebben er gegeten met een Groupon-deal. Maar goed dat er voor de deur een supermarkt zit die ’s avonds open is, want daar hebben we snel nog even wat te eten gehaald omdat we nog steeds honger hadden. We voelen ons echt zwaar afgezet met deze deal. Honderd euro waard? Ja, wel als je dan per persoon 10 tapas mag bestellen (zoals bij elk normaal tapasrestaurant), of in elk geval 10 tapas van voldoende grootte krijgt. Maar 1 inktvisringetje per persoon noem ik dus geen tapas. En een half geitenkaaskroketje p.p. ook niet. Of vier minuscule schijfjes stokbrood om de ‘aioli’ in te dopen (een substantie die trouwens weinig met echte aioli te maken had).  Of patatas bravas met een soort tomatenpuree? Wij gaan voortaan toch maar weer naar een tapasrestaurant met minder pretenties waar je wel waar voor je geld krijgt.</td>\n",
       "      <td>2.0</td>\n",
       "    </tr>\n",
       "    <tr>\n",
       "      <th>110089</th>\n",
       "      <td>Het eten was van slechte kwaliteit, salade zonder dressing, fish ribs and wings hield in: klein stukje spare rib wat erg droog was, 3 garnalen(die wel smaakten) en 2 kipvleugeltjes die flauw waren. Toetje pancake met bosvruchten dressing???? Geen bosvruchten dressing te zien, wel een rode streep over het bord, maar dat smaakte melig/zout/onbestendig. Dame Blanche leek van oud vanille ijs. Koffie was zo bitter dat heb ik nog nooit meegemaakt.  De droge huiswijn smaakte naar bier, de zoete was wel te drinken. Ze hadden waarschijnlijk personeelstekort want na 1 uur hadden we nog niet eens een voorgerecht, laat staan stukje brood gehad. We gaan regelmatig uit eten, maar dit was wel het slechtste wat we meegemaakt hebben. Ook geen gezellig restaurant om binnen te zitten, grote ruimte met bar.</td>\n",
       "      <td>2.0</td>\n",
       "    </tr>\n",
       "    <tr>\n",
       "      <th>65115</th>\n",
       "      <td>Zeer onvriendelijke eigenaar. Prijs kwaliteit buiten proporties, 9,50 voor 5 garnalen? Er mag meer niet dan wel. De klant Is niet welkom en al helemaal niet koning.</td>\n",
       "      <td>2.0</td>\n",
       "    </tr>\n",
       "    <tr>\n",
       "      <th>31339</th>\n",
       "      <td>Als vegetariër hier Niet eten een drie Luik ik vette noedels en loempia waarvan ze weigeren toe te geven dat het er niet uitzag (en smaak was nog slechter) de Quick was oké maar omdat de rest zo slecht was ook daar niet van genoten</td>\n",
       "      <td>1.0</td>\n",
       "    </tr>\n",
       "    <tr>\n",
       "      <th>140998</th>\n",
       "      <td>Helaas geen goede ervaring.  Eten is welliswaar betaalbaar, maar van zeer matige kwaliteit. Draadjesvlees leek uit een kant en klaar groothandel bakje, veel stukken vet, amper een half champignonnetje in de ''saus''. Partner had een smakeloze  kipsate waar ook de nodige stukken vet nog aanzaten. Frites qua smaak ook beneden peil. Helaas een verslechtering tov de vorige eigenaar. Hier komen we niet meer terug.</td>\n",
       "      <td>3.0</td>\n",
       "    </tr>\n",
       "  </tbody>\n",
       "</table>\n",
       "</div>"
      ],
      "text/plain": [
       "                                                                                                                                                                                                                                                                                                                                                                                                                                                                                                                                                                                                                                                                                                                                                                                                                                                                                 Review  \\\n",
       "144564  Wat een drama, dat Maz Mez. Hebben er gegeten met een Groupon-deal. Maar goed dat er voor de deur een supermarkt zit die ’s avonds open is, want daar hebben we snel nog even wat te eten gehaald omdat we nog steeds honger hadden. We voelen ons echt zwaar afgezet met deze deal. Honderd euro waard? Ja, wel als je dan per persoon 10 tapas mag bestellen (zoals bij elk normaal tapasrestaurant), of in elk geval 10 tapas van voldoende grootte krijgt. Maar 1 inktvisringetje per persoon noem ik dus geen tapas. En een half geitenkaaskroketje p.p. ook niet. Of vier minuscule schijfjes stokbrood om de ‘aioli’ in te dopen (een substantie die trouwens weinig met echte aioli te maken had).  Of patatas bravas met een soort tomatenpuree? Wij gaan voortaan toch maar weer naar een tapasrestaurant met minder pretenties waar je wel waar voor je geld krijgt.   \n",
       "110089                                                   Het eten was van slechte kwaliteit, salade zonder dressing, fish ribs and wings hield in: klein stukje spare rib wat erg droog was, 3 garnalen(die wel smaakten) en 2 kipvleugeltjes die flauw waren. Toetje pancake met bosvruchten dressing???? Geen bosvruchten dressing te zien, wel een rode streep over het bord, maar dat smaakte melig/zout/onbestendig. Dame Blanche leek van oud vanille ijs. Koffie was zo bitter dat heb ik nog nooit meegemaakt.  De droge huiswijn smaakte naar bier, de zoete was wel te drinken. Ze hadden waarschijnlijk personeelstekort want na 1 uur hadden we nog niet eens een voorgerecht, laat staan stukje brood gehad. We gaan regelmatig uit eten, maar dit was wel het slechtste wat we meegemaakt hebben. Ook geen gezellig restaurant om binnen te zitten, grote ruimte met bar.   \n",
       "65115                                                                                                                                                                                                                                                                                                                                                                                                                                                                                                                                                                                                                                                                                                              Zeer onvriendelijke eigenaar. Prijs kwaliteit buiten proporties, 9,50 voor 5 garnalen? Er mag meer niet dan wel. De klant Is niet welkom en al helemaal niet koning.   \n",
       "31339                                                                                                                                                                                                                                                                                                                                                                                                                                                                                                                                                                                                                                           Als vegetariër hier Niet eten een drie Luik ik vette noedels en loempia waarvan ze weigeren toe te geven dat het er niet uitzag (en smaak was nog slechter) de Quick was oké maar omdat de rest zo slecht was ook daar niet van genoten   \n",
       "140998                                                                                                                                                                                                                                                                                                                                                                                                                                                     Helaas geen goede ervaring.  Eten is welliswaar betaalbaar, maar van zeer matige kwaliteit. Draadjesvlees leek uit een kant en klaar groothandel bakje, veel stukken vet, amper een half champignonnetje in de ''saus''. Partner had een smakeloze  kipsate waar ook de nodige stukken vet nog aanzaten. Frites qua smaak ook beneden peil. Helaas een verslechtering tov de vorige eigenaar. Hier komen we niet meer terug.   \n",
       "\n",
       "        eten  \n",
       "144564   2.0  \n",
       "110089   2.0  \n",
       "65115    2.0  \n",
       "31339    1.0  \n",
       "140998   3.0  "
      ]
     },
     "execution_count": 10,
     "metadata": {},
     "output_type": "execute_result"
    }
   ],
   "source": [
    "### example reviews with bad score\n",
    "pd.options.display.max_colwidth = 1000\n",
    "reviews_NL.query('eten < 4').sample(5)[[\"Review\", \"eten\"]]"
   ]
  },
  {
   "cell_type": "markdown",
   "metadata": {},
   "source": [
    "## Preparing text for further analysis"
   ]
  },
  {
   "cell_type": "code",
   "execution_count": 11,
   "metadata": {},
   "outputs": [],
   "source": [
    "reviews_nl = pd.read_pickle(\"reviews_NL.pck\")"
   ]
  },
  {
   "cell_type": "markdown",
   "metadata": {},
   "source": [
    "### count the number of words per review"
   ]
  },
  {
   "cell_type": "code",
   "execution_count": 12,
   "metadata": {},
   "outputs": [
    {
     "name": "stdout",
     "output_type": "stream",
     "text": [
      "CPU times: user 4.75 s, sys: 0 ns, total: 4.75 s\n",
      "Wall time: 4.6 s\n"
     ]
    }
   ],
   "source": [
    "%%time\n",
    "### get the number of words per review\n",
    "reviews_nl = (\n",
    "    reviews_nl\n",
    "    .assign(\n",
    "        n_words = reviews_nl.Review.apply(lambda x : len(re.findall(r'\\w+', x)))\n",
    "    )\n",
    ")"
   ]
  },
  {
   "cell_type": "code",
   "execution_count": 13,
   "metadata": {},
   "outputs": [
    {
     "data": {
      "text/plain": [
       "<matplotlib.axes._subplots.AxesSubplot at 0x7ffb8dd08470>"
      ]
     },
     "execution_count": 13,
     "metadata": {},
     "output_type": "execute_result"
    },
    {
     "data": {
      "image/png": "[encoded data removed]",
      "text/plain": [
       "<Figure size 864x504 with 2 Axes>"
      ]
     },
     "metadata": {
      "needs_background": "light"
     },
     "output_type": "display_data"
    }
   ],
   "source": [
    "fig, axes = plt.subplots(1,2,  figsize=(12,7))\n",
    "\n",
    "sns.distplot(reviews_nl.n_words, kde=False, ax=axes[0])\n",
    "sns.boxplot(y = \"n_words\", x = \"eten\", data = reviews_nl, showfliers=False, ax=axes[1])"
   ]
  },
  {
   "cell_type": "markdown",
   "metadata": {},
   "source": [
    "seems that people who give lower scores ( eten <7) tend to use more words to write the review"
   ]
  },
  {
   "cell_type": "markdown",
   "metadata": {},
   "source": [
    "### remove stop words and punctuation"
   ]
  },
  {
   "cell_type": "code",
   "execution_count": 14,
   "metadata": {},
   "outputs": [],
   "source": [
    "def clean_review(x):\n",
    "    doc = nlp(x)\n",
    "    tokens = [token.text for token in doc if (not token.is_punct) & (not token.is_stop)]\n",
    "    return \" \".join(tokens)"
   ]
  },
  {
   "cell_type": "code",
   "execution_count": 15,
   "metadata": {},
   "outputs": [
    {
     "data": {
      "text/plain": [
       "\"Wat weer mee?Goede cijfers Iens app schrijvende komt weer proest humoristische verbazing boven Dit leuke poging restaurant goed opgeleid personeel heel erg best doet maaltijd ternauwernood volstaat prijs Matias zit drukke straat heel restaurantjes proppers staan deur Dit onze 2e keus moesten lang wachten onze 1e keus spareribs cocktails Toen aankwamen hele leuke dag Rijksmuseum zaten uitsluitend toeristen binnen De groep Amerikaanse jongeren korting bakkeleien waarmee blijkbaar geadverteerd buiten Dit restaurantje groot tafel 10 Het personeel telde 6 8 mensen telde snel Er hingen beetje rond Wel heel vriendelijk overigens De maaltijden Mexicaans Oosterse invloeden Margarita 's goed verhoudingsgewijs duur Enchilada 's Fajitas pollo beide bord vol eten aardig smaakvol weinig inspiratie beter zeg hehe).We verwachtten sfeervolle Caribische muziek helaas De radio stond lekker handig nieuws hebt gemist Een grinnik moeilijk onderdrukken In geluidsinstallatie mogen investeren klonk muziek strandtent strand tent Met 45 euro rond samen klaar Voor toeristen beperkt budget uitstekende keus Voor echt goed Mexicaans eten sfeer ga beter ergens anders heen Dit leuke personeel verdient mooier product\""
      ]
     },
     "execution_count": 15,
     "metadata": {},
     "output_type": "execute_result"
    }
   ],
   "source": [
    "clean_review(reviews_nl.iloc[3,2])"
   ]
  },
  {
   "cell_type": "code",
   "execution_count": 16,
   "metadata": {},
   "outputs": [
    {
     "name": "stdout",
     "output_type": "stream",
     "text": [
      "CPU times: user 12min 26s, sys: 17.6 s, total: 12min 44s\n",
      "Wall time: 3min 11s\n"
     ]
    }
   ],
   "source": [
    "%%time\n",
    "review_sample = reviews_nl.sample(10000)\n",
    "review_sample = (\n",
    "    review_sample\n",
    "    .assign(\n",
    "        cleaned_review = review_sample.Review.apply(clean_review)\n",
    "    )\n",
    ")  "
   ]
  },
  {
   "cell_type": "code",
   "execution_count": 18,
   "metadata": {},
   "outputs": [
    {
     "data": {
      "text/html": [
       "<div>\n",
       "<style scoped>\n",
       "    .dataframe tbody tr th:only-of-type {\n",
       "        vertical-align: middle;\n",
       "    }\n",
       "\n",
       "    .dataframe tbody tr th {\n",
       "        vertical-align: top;\n",
       "    }\n",
       "\n",
       "    .dataframe thead th {\n",
       "        text-align: right;\n",
       "    }\n",
       "</style>\n",
       "<table border=\"1\" class=\"dataframe\">\n",
       "  <thead>\n",
       "    <tr style=\"text-align: right;\">\n",
       "      <th></th>\n",
       "      <th>Review</th>\n",
       "      <th>cleaned_review</th>\n",
       "    </tr>\n",
       "  </thead>\n",
       "  <tbody>\n",
       "    <tr>\n",
       "      <th>73571</th>\n",
       "      <td>Tijdje terug met 6 personen geluncht. Prime ligging en leuke ambiance. Genoeg keuze op de kaart en redelijke vlotte bediening (waarschijnlijk nieuwe)! Wij komen snel terug voor een lekkere lunch</td>\n",
       "      <td>Tijdje terug 6 personen geluncht Prime ligging leuke ambiance Genoeg keuze kaart redelijke vlotte bediening waarschijnlijk nieuwe Wij komen snel terug lekkere lunch</td>\n",
       "    </tr>\n",
       "    <tr>\n",
       "      <th>309</th>\n",
       "      <td>\"Wij gingen, na al eerder, in dit restaurant eten.We kregen vooraf van het huis stokbrood met boter en kruidenboter.Ook een karaf water werd niet in rekening gebracht.Heerlijke moezelwijn, Piesporter Michelsberg.Als voorgerecht namen we een mosterdsoep en een kreeftensoep met een scheutje cognac. Heel netjes dat ze vooraf vragen of je inderdaad een scheutje cognac in de soep wilt hebben.Allebei de soepen heerlijk van smaak. Vooral de kreeftensoep is een aanrader. Zo heerlijk van smaak en er zit veel kreeft in de soep. Top.Als hoofdgerecht namen we gamba's in knoflooksaus en de specialiteit van het huis de tournedos 'Stroganoff'.Normaal kun je deze specialiteit krijgen vanaf 2 personen. Maar omdat het restaurant niet helemaal vol zat kon het ook voor 1 persoon. Heel klantvriendelijk dus.Ook deze beide hoofdgerechten waren heerlijk. De tournedos ' Stroganoff\\\" blijft een traktatie. Lekker mals vlees, zeer goede smaak en een overheerlijke saus erbij. Dit wordt bij je tafel klaargemaak...</td>\n",
       "      <td>Wij gingen eerder restaurant eten We kregen vooraf huis stokbrood boter kruidenboter Ook karaf water rekening gebracht Heerlijke moezelwijn Piesporter Michelsberg Als voorgerecht namen mosterdsoep kreeftensoep scheutje cognac Heel netjes vooraf vragen inderdaad scheutje cognac soep wilt Allebei soepen heerlijk smaak Vooral kreeftensoep aanrader Zo heerlijk smaak zit kreeft soep Top Als hoofdgerecht namen gamba 's knoflooksaus specialiteit huis tournedos Stroganoff'.Normaal kun specialiteit krijgen vanaf 2 personen Maar restaurant helemaal vol zat 1 persoon Heel klantvriendelijk Ook beide hoofdgerechten heerlijk De tournedos Stroganoff\\ blijft traktatie Lekker mals vlees zeer goede smaak overheerlijke saus erbij Dit wordt tafel klaargemaakt Een aanrader Verder wordt eten groente salade gebakken aardappels frieten geserveerd Prima allemaal Dessert genomen genoeg hadden gehad Resumerend goede aardige bediening Heerlijk smaakvolle gerechten We komen zeker terug</td>\n",
       "    </tr>\n",
       "    <tr>\n",
       "      <th>203705</th>\n",
       "      <td>Ik ben gisteren avond uiteten gegaan in het grand cafe cinetone de bediening vond ik top ze waren vriendelijk en snel ik hoeften niet lang te wachten op het eten de ravioli pasta was heerlijk de kok had zijn best gedaan en de tijd genomen maar ik hoefden tog niet lang te wachten de decoratie zag er gezzelig uit.</td>\n",
       "      <td>Ik gisteren avond uiteten gegaan grand cafe cinetone bediening vond top vriendelijk snel hoeften lang wachten eten ravioli pasta heerlijk kok best gedaan tijd genomen hoefden tog lang wachten decoratie zag gezzelig</td>\n",
       "    </tr>\n",
       "    <tr>\n",
       "      <th>68726</th>\n",
       "      <td>Een aardig restaurant aan het eind van de Lijnbaan. We zijn hier vooral gaan eten omdat het zo dicht bij het hotel zat. Het personeel is inderdaad zeer vriendelijk. Het restaurant heeft ook wel een hoog knuffelgehalte met al die vaste gasten. Dat zegt wel iets over het restaurant in positieve zin. Het eten vonden wij daarentegen net aan 'goed'. Mijn vrouw en ik hadden beiden een soort mix grill met drie soorten beef. Best aardig bereid, maar de entrecote was heel erg 'rare', zeker niet medium. De borden zijn erg saai opgemaakt, salades waren ook wel een beetje makkelijk met grote stukken iceberg sla, mais en rode bonen. We hadden net een aperatiefje bestelt met wat stokbrood en kruidenboter, toen het hoofdgerecht ook al kwam. Mensen achter ons kregen 3 minuten na bestelling hun voorgerechten. Dat gaat echt veel te snel.Al met al klopte het wel, was de kwaliteit van het eten niet slecht, maar ook niet goed. Het decor vonden wij wat 'verlopen'.</td>\n",
       "      <td>Een aardig restaurant eind Lijnbaan We vooral gaan eten dicht hotel zat Het personeel inderdaad zeer vriendelijk Het restaurant hoog knuffelgehalte vaste gasten Dat zegt restaurant positieve zin Het eten vonden daarentegen net goed Mijn vrouw hadden beiden soort mix grill drie soorten beef Best aardig bereid entrecote heel erg rare zeker medium De borden erg saai opgemaakt salades beetje makkelijk grote stukken iceberg sla mais rode bonen We hadden net aperatiefje bestelt stokbrood kruidenboter hoofdgerecht kwam Mensen achter kregen 3 minuten bestelling voorgerechten Dat gaat echt snel Al klopte kwaliteit eten slecht goed Het decor vonden verlopen</td>\n",
       "    </tr>\n",
       "    <tr>\n",
       "      <th>190750</th>\n",
       "      <td>Ja met mooi weer op een fantastisch mooi natuurlijk terras, mega vijver, natuur om je heen, meerkoetjes, eenden en ganzen met hun jonkies in het zog!Rosé uit de Provence, en een heerlijke lichte lunch, wat kan er nog misgaan!Salade Riche met een goede hoeveelheid eendenlever krullen,  coquilles, kreeftstukjes, en een vriendin had perfect gefrituurde scampi's en coquilles. Hele goede broodjes vergezeld van een trio met licht gezouten boter, gekruide olie en een licht opgeklopte gekruide knoflook mayonaise, ik geef het je te doen!De hele middag daar gezeten , te chill!Doe het snel anders is de herfst er weer! Maar binnen is het ook gezellig.Geen probleem met gekoeld kraanwater uit een karaf!</td>\n",
       "      <td>Ja mooi weer fantastisch mooi natuurlijk terras mega vijver natuur heen meerkoetjes eenden ganzen jonkies zog!Rosé Provence heerlijke lichte lunch misgaan!Salade Riche goede hoeveelheid eendenlever krullen   coquilles kreeftstukjes vriendin perfect gefrituurde scampi 's coquilles Hele goede broodjes vergezeld trio licht gezouten boter gekruide olie licht opgeklopte gekruide knoflook mayonaise geef doen!De hele middag gezeten chill!Doe snel anders herfst weer Maar binnen gezellig Geen probleem gekoeld kraanwater karaf</td>\n",
       "    </tr>\n",
       "  </tbody>\n",
       "</table>\n",
       "</div>"
      ],
      "text/plain": [
       "                                                                                                                                                                                                                                                                                                                                                                                                                                                                                                                                                                                                                                                                                                                                                                                                                                                                                                                                                                                                                                         Review  \\\n",
       "73571                                                                                                                                                                                                                                                                                                                                                                                                                                                                                                                                                                                                                                                                                                                                                                                                                                        Tijdje terug met 6 personen geluncht. Prime ligging en leuke ambiance. Genoeg keuze op de kaart en redelijke vlotte bediening (waarschijnlijk nieuwe)! Wij komen snel terug voor een lekkere lunch   \n",
       "309     \"Wij gingen, na al eerder, in dit restaurant eten.We kregen vooraf van het huis stokbrood met boter en kruidenboter.Ook een karaf water werd niet in rekening gebracht.Heerlijke moezelwijn, Piesporter Michelsberg.Als voorgerecht namen we een mosterdsoep en een kreeftensoep met een scheutje cognac. Heel netjes dat ze vooraf vragen of je inderdaad een scheutje cognac in de soep wilt hebben.Allebei de soepen heerlijk van smaak. Vooral de kreeftensoep is een aanrader. Zo heerlijk van smaak en er zit veel kreeft in de soep. Top.Als hoofdgerecht namen we gamba's in knoflooksaus en de specialiteit van het huis de tournedos 'Stroganoff'.Normaal kun je deze specialiteit krijgen vanaf 2 personen. Maar omdat het restaurant niet helemaal vol zat kon het ook voor 1 persoon. Heel klantvriendelijk dus.Ook deze beide hoofdgerechten waren heerlijk. De tournedos ' Stroganoff\\\" blijft een traktatie. Lekker mals vlees, zeer goede smaak en een overheerlijke saus erbij. Dit wordt bij je tafel klaargemaak...   \n",
       "203705                                                                                                                                                                                                                                                                                                                                                                                                                                                                                                                                                                                                                                                                                                                Ik ben gisteren avond uiteten gegaan in het grand cafe cinetone de bediening vond ik top ze waren vriendelijk en snel ik hoeften niet lang te wachten op het eten de ravioli pasta was heerlijk de kok had zijn best gedaan en de tijd genomen maar ik hoefden tog niet lang te wachten de decoratie zag er gezzelig uit.   \n",
       "68726                                              Een aardig restaurant aan het eind van de Lijnbaan. We zijn hier vooral gaan eten omdat het zo dicht bij het hotel zat. Het personeel is inderdaad zeer vriendelijk. Het restaurant heeft ook wel een hoog knuffelgehalte met al die vaste gasten. Dat zegt wel iets over het restaurant in positieve zin. Het eten vonden wij daarentegen net aan 'goed'. Mijn vrouw en ik hadden beiden een soort mix grill met drie soorten beef. Best aardig bereid, maar de entrecote was heel erg 'rare', zeker niet medium. De borden zijn erg saai opgemaakt, salades waren ook wel een beetje makkelijk met grote stukken iceberg sla, mais en rode bonen. We hadden net een aperatiefje bestelt met wat stokbrood en kruidenboter, toen het hoofdgerecht ook al kwam. Mensen achter ons kregen 3 minuten na bestelling hun voorgerechten. Dat gaat echt veel te snel.Al met al klopte het wel, was de kwaliteit van het eten niet slecht, maar ook niet goed. Het decor vonden wij wat 'verlopen'.   \n",
       "190750                                                                                                                                                                                                                                                                                                               Ja met mooi weer op een fantastisch mooi natuurlijk terras, mega vijver, natuur om je heen, meerkoetjes, eenden en ganzen met hun jonkies in het zog!Rosé uit de Provence, en een heerlijke lichte lunch, wat kan er nog misgaan!Salade Riche met een goede hoeveelheid eendenlever krullen,  coquilles, kreeftstukjes, en een vriendin had perfect gefrituurde scampi's en coquilles. Hele goede broodjes vergezeld van een trio met licht gezouten boter, gekruide olie en een licht opgeklopte gekruide knoflook mayonaise, ik geef het je te doen!De hele middag daar gezeten , te chill!Doe het snel anders is de herfst er weer! Maar binnen is het ook gezellig.Geen probleem met gekoeld kraanwater uit een karaf!   \n",
       "\n",
       "                                                                                                                                                                                                                                                                                                                                                                                                                                                                                                                                                                                                                                                                                                                                                                                                                                                                                                                                                                                                     cleaned_review  \n",
       "73571                                                                                                                                                                                                                                                                                                                                                                                                                                                                                                                                                                                                                                                                                                                                                                                                                                          Tijdje terug 6 personen geluncht Prime ligging leuke ambiance Genoeg keuze kaart redelijke vlotte bediening waarschijnlijk nieuwe Wij komen snel terug lekkere lunch  \n",
       "309     Wij gingen eerder restaurant eten We kregen vooraf huis stokbrood boter kruidenboter Ook karaf water rekening gebracht Heerlijke moezelwijn Piesporter Michelsberg Als voorgerecht namen mosterdsoep kreeftensoep scheutje cognac Heel netjes vooraf vragen inderdaad scheutje cognac soep wilt Allebei soepen heerlijk smaak Vooral kreeftensoep aanrader Zo heerlijk smaak zit kreeft soep Top Als hoofdgerecht namen gamba 's knoflooksaus specialiteit huis tournedos Stroganoff'.Normaal kun specialiteit krijgen vanaf 2 personen Maar restaurant helemaal vol zat 1 persoon Heel klantvriendelijk Ook beide hoofdgerechten heerlijk De tournedos Stroganoff\\ blijft traktatie Lekker mals vlees zeer goede smaak overheerlijke saus erbij Dit wordt tafel klaargemaakt Een aanrader Verder wordt eten groente salade gebakken aardappels frieten geserveerd Prima allemaal Dessert genomen genoeg hadden gehad Resumerend goede aardige bediening Heerlijk smaakvolle gerechten We komen zeker terug  \n",
       "203705                                                                                                                                                                                                                                                                                                                                                                                                                                                                                                                                                                                                                                                                                                                                                                                       Ik gisteren avond uiteten gegaan grand cafe cinetone bediening vond top vriendelijk snel hoeften lang wachten eten ravioli pasta heerlijk kok best gedaan tijd genomen hoefden tog lang wachten decoratie zag gezzelig  \n",
       "68726                                                                                                                                                                                                                                                                                                                               Een aardig restaurant eind Lijnbaan We vooral gaan eten dicht hotel zat Het personeel inderdaad zeer vriendelijk Het restaurant hoog knuffelgehalte vaste gasten Dat zegt restaurant positieve zin Het eten vonden daarentegen net goed Mijn vrouw hadden beiden soort mix grill drie soorten beef Best aardig bereid entrecote heel erg rare zeker medium De borden erg saai opgemaakt salades beetje makkelijk grote stukken iceberg sla mais rode bonen We hadden net aperatiefje bestelt stokbrood kruidenboter hoofdgerecht kwam Mensen achter kregen 3 minuten bestelling voorgerechten Dat gaat echt snel Al klopte kwaliteit eten slecht goed Het decor vonden verlopen  \n",
       "190750                                                                                                                                                                                                                                                                                                                                                                                                                                                                   Ja mooi weer fantastisch mooi natuurlijk terras mega vijver natuur heen meerkoetjes eenden ganzen jonkies zog!Rosé Provence heerlijke lichte lunch misgaan!Salade Riche goede hoeveelheid eendenlever krullen   coquilles kreeftstukjes vriendin perfect gefrituurde scampi 's coquilles Hele goede broodjes vergezeld trio licht gezouten boter gekruide olie licht opgeklopte gekruide knoflook mayonaise geef doen!De hele middag gezeten chill!Doe snel anders herfst weer Maar binnen gezellig Geen probleem gekoeld kraanwater karaf  "
      ]
     },
     "execution_count": 18,
     "metadata": {},
     "output_type": "execute_result"
    }
   ],
   "source": [
    "pd.options.display.max_colwidth = 1000\n",
    "review_sample[[\"Review\", \"cleaned_review\"]].sample(5)"
   ]
  },
  {
   "cell_type": "markdown",
   "metadata": {},
   "source": [
    "### Count vectorizer for regularized logistic regression"
   ]
  },
  {
   "cell_type": "code",
   "execution_count": 19,
   "metadata": {},
   "outputs": [],
   "source": [
    "### create binary target, bad reviews if score is < 6\n",
    "review_sample = review_sample.assign(target = np.where(review_sample.eten < 6,1,0))"
   ]
  },
  {
   "cell_type": "code",
   "execution_count": 20,
   "metadata": {},
   "outputs": [
    {
     "data": {
      "text/plain": [
       "0    9184\n",
       "1     816\n",
       "Name: target, dtype: int64"
      ]
     },
     "execution_count": 20,
     "metadata": {},
     "output_type": "execute_result"
    }
   ],
   "source": [
    "review_sample.target.value_counts()"
   ]
  },
  {
   "cell_type": "code",
   "execution_count": 25,
   "metadata": {},
   "outputs": [],
   "source": [
    "cv = CountVectorizer()\n",
    "cv.fit(review_sample.cleaned_review)\n",
    "X = cv.transform(review_sample.cleaned_review)\n",
    "target = review_sample.target\n",
    "\n",
    "X_train, X_val, y_train, y_val = train_test_split(\n",
    "    X, target, train_size = 0.75\n",
    ")"
   ]
  },
  {
   "cell_type": "markdown",
   "metadata": {},
   "source": [
    "### Logistic regression"
   ]
  },
  {
   "cell_type": "code",
   "execution_count": 26,
   "metadata": {},
   "outputs": [
    {
     "name": "stderr",
     "output_type": "stream",
     "text": [
      "/home/longhowlam/anaconda3/lib/python3.7/site-packages/sklearn/linear_model/logistic.py:432: FutureWarning: Default solver will be changed to 'lbfgs' in 0.22. Specify a solver to silence this warning.\n",
      "  FutureWarning)\n"
     ]
    },
    {
     "name": "stdout",
     "output_type": "stream",
     "text": [
      "Accuracy for C=0.01: 0.9316\n",
      "Accuracy for C=0.05: 0.9348\n",
      "Accuracy for C=0.25: 0.9368\n",
      "Accuracy for C=0.5: 0.9356\n",
      "Accuracy for C=0.75: 0.936\n",
      "Accuracy for C=0.95: 0.9364\n",
      "Accuracy for C=1: 0.9368\n"
     ]
    }
   ],
   "source": [
    "for c in [0.01, 0.05, 0.25, 0.5, 0.75, 0.95, 1]:\n",
    "    lr = LogisticRegression(C=c)\n",
    "    lr.fit(X_train, y_train)\n",
    "    print (\n",
    "        \"Accuracy for C=%s: %s\" \n",
    "        % (c, accuracy_score(y_val, lr.predict(X_val)))\n",
    "    )"
   ]
  },
  {
   "cell_type": "code",
   "execution_count": 27,
   "metadata": {},
   "outputs": [
    {
     "data": {
      "text/plain": [
       "LogisticRegression(C=0.25, class_weight=None, dual=False, fit_intercept=True,\n",
       "                   intercept_scaling=1, l1_ratio=None, max_iter=100,\n",
       "                   multi_class='warn', n_jobs=None, penalty='l2',\n",
       "                   random_state=None, solver='warn', tol=0.0001, verbose=0,\n",
       "                   warm_start=False)"
      ]
     },
     "execution_count": 27,
     "metadata": {},
     "output_type": "execute_result"
    }
   ],
   "source": [
    "final_model = LogisticRegression(C=0.25)\n",
    "final_model.fit(X_train, y_train)"
   ]
  },
  {
   "cell_type": "markdown",
   "metadata": {},
   "source": [
    "#### Look at top k words that are distinguishes bad reviews and good reviews\n",
    "Extract coefficient estimate from the logistic regression and see the biggest and smallest coefficients"
   ]
  },
  {
   "cell_type": "code",
   "execution_count": 29,
   "metadata": {},
   "outputs": [
    {
     "name": "stdout",
     "output_type": "stream",
     "text": [
      "('leek', 0.9374093451337409)\n",
      "('matig', 0.9341698273858099)\n",
      "('teleurstelling', 0.9074058234908472)\n",
      "('droog', 0.8511922757348249)\n",
      "('zout', 0.820416908963262)\n",
      "('smakeloos', 0.815161291843511)\n",
      "('lauw', 0.7984725767143924)\n",
      "('slecht', 0.7590765644610137)\n",
      "('vielen', 0.7357678114517755)\n",
      "('rauw', 0.7221071206121373)\n",
      "('smakeloze', 0.6921365967337977)\n",
      "('vieze', 0.6858020621357961)\n",
      "('nooit', 0.6793046220385223)\n",
      "('taai', 0.6604905420056836)\n",
      "('maat', 0.6359837948126096)\n",
      "***************\n",
      "('heerlijk', -1.486395170177918)\n",
      "('heerlijke', -0.9525815614998825)\n",
      "('uitstekend', -0.8586858172130547)\n",
      "('prima', -0.7347469586293583)\n",
      "('aanrader', -0.6894399114217634)\n",
      "('vlot', -0.61067213313433)\n",
      "('perfect', -0.6075719228388787)\n",
      "('lekker', -0.5924560824726103)\n",
      "('goed', -0.5912146205819953)\n",
      "('top', -0.5716596073812849)\n",
      "('voortreffelijk', -0.568150779753221)\n",
      "('lekkere', -0.5515111009567877)\n",
      "('erbij', -0.5339898047846684)\n",
      "('één', -0.5313064085183362)\n",
      "('goede', -0.5198842002858478)\n"
     ]
    }
   ],
   "source": [
    "k = 15\n",
    "\n",
    "feature_to_coef = {\n",
    "    word: coef for word, coef in zip(\n",
    "        cv.get_feature_names(), final_model.coef_[0]\n",
    "    )\n",
    "}\n",
    "\n",
    "for best_positive in sorted(\n",
    "    feature_to_coef.items(), \n",
    "    key=lambda x: x[1], \n",
    "    reverse=True)[:k]:\n",
    "    print (best_positive)\n",
    "    \n",
    "print('***************')    \n",
    "\n",
    "for best_negative in sorted(\n",
    "    feature_to_coef.items(), \n",
    "    key=lambda x: x[1])[:k]:\n",
    "    print (best_negative)\n",
    "    "
   ]
  }
 ],
 "metadata": {
  "kernelspec": {
   "display_name": "Python 3",
   "language": "python",
   "name": "python3"
  },
  "language_info": {
   "codemirror_mode": {
    "name": "ipython",
    "version": 3
   },
   "file_extension": ".py",
   "mimetype": "text/x-python",
   "name": "python",
   "nbconvert_exporter": "python",
   "pygments_lexer": "ipython3",
   "version": "3.7.3"
  }
 },
 "nbformat": 4,
 "nbformat_minor": 2
}
