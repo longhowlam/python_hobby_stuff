{
 "cells": [
  {
   "cell_type": "markdown",
   "metadata": {},
   "source": [
    "###  Querying \"The Bold and the Beautiful\" with Python Holmes extractor package"
   ]
  },
  {
   "cell_type": "code",
   "execution_count": 1,
   "metadata": {},
   "outputs": [
    {
     "data": {
      "text/plain": [
       "(4170, 2)"
      ]
     },
     "execution_count": 1,
     "metadata": {},
     "output_type": "execute_result"
    }
   ],
   "source": [
    "### set up and initializing Holmes\n",
    "import datatable as dt\n",
    "import holmes_extractor as holmes\n",
    "import pandas as pd\n",
    "\n",
    "# Start the Holmes manager with the English model\n",
    "# You can try setting overall_similarity_threshold to 0.85 and/or perform_coreference_resolution to False\n",
    "holmes_manager = holmes.Manager(\n",
    "    model='en_coref_lg',\n",
    "    overall_similarity_threshold=1.00,\n",
    "    perform_coreference_resolution=True\n",
    ")\n",
    "\n",
    "### Use datatable to import text file with 3847 recaps of The Bold\n",
    "BB = dt.fread('TBATB.csv')\n",
    "BB.shape"
   ]
  },
  {
   "cell_type": "code",
   "execution_count": 25,
   "metadata": {},
   "outputs": [
    {
     "data": {
      "text/html": [
       "<div class='datatable'>\n",
       "  <table class='frame'>\n",
       "  <thead>\n",
       "    <tr class='colnames'><td class='row_index'></td><th>recaps</th><th>date</th></tr>\n",
       "    <tr class='coltypes'><td class='row_index'></td><td class='str' title='str32'>&#x25AA;&#x25AA;&#x25AA;&#x25AA;</td><td class='str' title='str32'>&#x25AA;&#x25AA;&#x25AA;&#x25AA;</td></tr>\n",
       "  </thead>\n",
       "  <tbody>\n",
       "    <tr><td class='row_index'>0</td><td>\n",
       "\n",
       "\n",
       "At Il Giardino, Taylor was excited about Kelly'&#133;</td><td>2018-12-24</td></tr>\n",
       "    <tr><td class='row_index'>1</td><td>\n",
       "\n",
       "\n",
       "At Eric's house, Steffy arrived early and took &#133;</td><td>2018-12-24</td></tr>\n",
       "    <tr><td class='row_index'>2</td><td>\n",
       "\n",
       "\n",
       "At Liam and Hope's cabin, they discussed Christ&#133;</td><td>2018-12-24</td></tr>\n",
       "    <tr><td class='row_index'>3</td><td>\n",
       "\n",
       "\n",
       "At Forrester with Xander, Zoe continued to worr&#133;</td><td>2018-12-24</td></tr>\n",
       "    <tr><td class='row_index'>4</td><td>\n",
       "\n",
       "\n",
       "At the helicopter station, Matt and Kieran were&#133;</td><td>2018-12-24</td></tr>\n",
       "  </tbody>\n",
       "  </table>\n",
       "  <div class='footer'>\n",
       "    <div class='frame_dimensions'>5 rows &times; 2 columns</div>\n",
       "  </div>\n",
       "</div>\n"
      ],
      "text/plain": []
     },
     "execution_count": 25,
     "metadata": {},
     "output_type": "execute_result"
    }
   ],
   "source": [
    "### show first 5 rows\n",
    "BB.tail(5)"
   ]
  },
  {
   "cell_type": "code",
   "execution_count": 2,
   "metadata": {},
   "outputs": [
    {
     "data": {
      "text/plain": [
       "\"\\n\\n\\nThorne finds Macy waiting at the church and assures her that he knew she would come. Macy tells Thorne that she could not leave without saying goodbye. Thorne tells Macy that he still loves her and kisses her to prove it. Macy admits to Thorne that she has never stopped loving him, but she must leave to protect her father. Thorne tries to convince Macy to forget about her father and to follow her heart. Lorenzozo rushes to the door and tells Macy not to listen to Thorne because he has let her down before. \\n\\n\\nWhile watching the final entries for the fashion shows, Bridget tells Massimo she knows it must be hard for him to watch Ridge interact with Eric. She informs Massimo that the tribute to Taylor was Brooke's idea. Ridge tells Brooke how much he appreciates the tribute and she admits that it may be a new start for her and Thomas. Ridge agrees that it could be.\\n\\n\\nBefore the showstoppers appear, Ridge takes time to thank Eric for the distraction of the fashion competition. The introduction to the Spectra showstopper is some confetti and a huge glamour shot of Sally. This is clearly embarrassing to Ridge and gives the audience a chuckle, but it does not take away from the beautiful wedding gown. The Forrester introduction was much more classy. The model was escorted in a rowboat in the elegant wedding gown Eric designed. The crowd oohed and aahed and showed their appreciation. While Stephanie had a look of disgust on her face when she realized the model was Brooke, Ridge had a look of admiration.\\n\\n\\n\""
      ]
     },
     "execution_count": 2,
     "metadata": {},
     "output_type": "execute_result"
    }
   ],
   "source": [
    "### show one recap in full length\n",
    "BB[0,0]"
   ]
  },
  {
   "cell_type": "markdown",
   "metadata": {},
   "source": [
    "### Parse and Register each recap of The Bold \n",
    "Can take some time"
   ]
  },
  {
   "cell_type": "code",
   "execution_count": 2,
   "metadata": {
    "scrolled": true
   },
   "outputs": [
    {
     "name": "stdout",
     "output_type": "stream",
     "text": [
      "0\n",
      "100\n",
      "200\n",
      "300\n",
      "400\n",
      "500\n",
      "600\n",
      "700\n",
      "800\n",
      "900\n",
      "1000\n",
      "1100\n",
      "1200\n",
      "1300\n",
      "1400\n",
      "1500\n",
      "1600\n",
      "1700\n",
      "1800\n",
      "1900\n",
      "2000\n",
      "2100\n",
      "2200\n",
      "2300\n",
      "2400\n",
      "2500\n",
      "2600\n",
      "2700\n",
      "2800\n",
      "2900\n",
      "3000\n",
      "3100\n",
      "3200\n",
      "3300\n",
      "3400\n",
      "3500\n",
      "3600\n",
      "3700\n",
      "3800\n",
      "3900\n",
      "4000\n",
      "4100\n",
      "CPU times: user 3h 3min 55s, sys: 21min 6s, total: 3h 25min 2s\n",
      "Wall time: 58min 42s\n"
     ]
    }
   ],
   "source": [
    "%%time \n",
    "\n",
    "holmes_manager.remove_all_documents()\n",
    "for i in range(0, BB.shape[0]):\n",
    "    # Register the document with Holmes\n",
    "    if i % 100 == 0:\n",
    "        print(i)\n",
    "    holmes_manager.parse_and_register_document(BB[i,0], \"recap\" + BB[i,1] + \"-\" + str(i))"
   ]
  },
  {
   "cell_type": "code",
   "execution_count": 7,
   "metadata": {},
   "outputs": [],
   "source": [
    "### Using topic matching, find the passages in the recaps whose topic most closely corresponds to the serch query  \n",
    "out = holmes_manager.topic_match_documents_against(\"she wanted to be close to him\", number_of_results = 5)"
   ]
  },
  {
   "cell_type": "code",
   "execution_count": 8,
   "metadata": {
    "scrolled": true
   },
   "outputs": [
    {
     "data": {
      "text/html": [
       "<div>\n",
       "<style scoped>\n",
       "    .dataframe tbody tr th:only-of-type {\n",
       "        vertical-align: middle;\n",
       "    }\n",
       "\n",
       "    .dataframe tbody tr th {\n",
       "        vertical-align: top;\n",
       "    }\n",
       "\n",
       "    .dataframe thead th {\n",
       "        text-align: right;\n",
       "    }\n",
       "</style>\n",
       "<table border=\"1\" class=\"dataframe\">\n",
       "  <thead>\n",
       "    <tr style=\"text-align: right;\">\n",
       "      <th></th>\n",
       "      <th>label</th>\n",
       "      <th>score</th>\n",
       "      <th>text</th>\n",
       "    </tr>\n",
       "  </thead>\n",
       "  <tbody>\n",
       "    <tr>\n",
       "      <th>0</th>\n",
       "      <td>recap2012-07-02-2473</td>\n",
       "      <td>15.428587</td>\n",
       "      <td>Brooke said that she wanted to compliment Steffy and thank her. Brooke said that Steffy had changed. Brooke was grateful to Steffy for not turning the misunderstanding of the note into something else. Steffy grew uncomfortable and asked Brooke to give Hope her best. Brooke added that she and Steffy had been close at one time, and Brooke wanted to be close again.</td>\n",
       "    </tr>\n",
       "    <tr>\n",
       "      <th>1</th>\n",
       "      <td>recap2011-05-09-2174</td>\n",
       "      <td>14.546607</td>\n",
       "      <td>Liam interrupted and reminded her that he loved Hope and wanted a future with her. Liam promised to look over the pamphlets, and he prepared to leave, but Amber stopped him. Amber suggested that Liam consider moving into the beach house. Liam refused. Amber suggested that he would be close to her and the baby, and it included a no-strings-attached clause. She just wanted him to be close to the baby.</td>\n",
       "    </tr>\n",
       "    <tr>\n",
       "      <th>2</th>\n",
       "      <td>recap2016-01-11-3393</td>\n",
       "      <td>14.214222</td>\n",
       "      <td>Katie said they'd gotten close, but she wanted them to be closer and share everything.</td>\n",
       "    </tr>\n",
       "    <tr>\n",
       "      <th>3</th>\n",
       "      <td>recap2013-12-09-2843</td>\n",
       "      <td>14.016000</td>\n",
       "      <td>It had only just begun, and he wanted to be closer to her. He had wanted to touch her, grab her, and he knew she wanted the same thing.</td>\n",
       "    </tr>\n",
       "    <tr>\n",
       "      <th>4</th>\n",
       "      <td>recap2015-12-28-3382</td>\n",
       "      <td>14.016000</td>\n",
       "      <td>Katie said she wanted to be closer to Brooke, and she wanted to get past what other people said about Brooke -- that she was not trustworthy, and her passion often landed her in trouble.</td>\n",
       "    </tr>\n",
       "  </tbody>\n",
       "</table>\n",
       "</div>"
      ],
      "text/plain": [
       "                  label      score  \\\n",
       "0  recap2012-07-02-2473  15.428587   \n",
       "1  recap2011-05-09-2174  14.546607   \n",
       "2  recap2016-01-11-3393  14.214222   \n",
       "3  recap2013-12-09-2843  14.016000   \n",
       "4  recap2015-12-28-3382  14.016000   \n",
       "\n",
       "                                                                                                                                                                                                                                                                                                                                                                                                                 text  \n",
       "0                                        Brooke said that she wanted to compliment Steffy and thank her. Brooke said that Steffy had changed. Brooke was grateful to Steffy for not turning the misunderstanding of the note into something else. Steffy grew uncomfortable and asked Brooke to give Hope her best. Brooke added that she and Steffy had been close at one time, and Brooke wanted to be close again.  \n",
       "1  Liam interrupted and reminded her that he loved Hope and wanted a future with her. Liam promised to look over the pamphlets, and he prepared to leave, but Amber stopped him. Amber suggested that Liam consider moving into the beach house. Liam refused. Amber suggested that he would be close to her and the baby, and it included a no-strings-attached clause. She just wanted him to be close to the baby.  \n",
       "2                                                                                                                                                                                                                                                                                                                              Katie said they'd gotten close, but she wanted them to be closer and share everything.  \n",
       "3                                                                                                                                                                                                                                                                             It had only just begun, and he wanted to be closer to her. He had wanted to touch her, grab her, and he knew she wanted the same thing.  \n",
       "4                                                                                                                                                                                                                          Katie said she wanted to be closer to Brooke, and she wanted to get past what other people said about Brooke -- that she was not trustworthy, and her passion often landed her in trouble.  "
      ]
     },
     "execution_count": 8,
     "metadata": {},
     "output_type": "execute_result"
    }
   ],
   "source": [
    "### Put results in a dataframe to have a better overview\n",
    "pd.options.display.max_colwidth = 2000\n",
    "pd.DataFrame({\n",
    "    \"label\": [o.document_label for o in out],\n",
    "    \"score\": [o.score for o in out],\n",
    "    \"text\": [o.text for o in out]\n",
    "})"
   ]
  },
  {
   "cell_type": "code",
   "execution_count": null,
   "metadata": {},
   "outputs": [],
   "source": [
    "### You can also start an (interactive) search console\n",
    "holmes_manager.start_search_mode_console()"
   ]
  }
 ],
 "metadata": {
  "kernelspec": {
   "display_name": "Python 3",
   "language": "python",
   "name": "python3"
  },
  "language_info": {
   "codemirror_mode": {
    "name": "ipython",
    "version": 3
   },
   "file_extension": ".py",
   "mimetype": "text/x-python",
   "name": "python",
   "nbconvert_exporter": "python",
   "pygments_lexer": "ipython3",
   "version": "3.7.3"
  }
 },
 "nbformat": 4,
 "nbformat_minor": 2
}
