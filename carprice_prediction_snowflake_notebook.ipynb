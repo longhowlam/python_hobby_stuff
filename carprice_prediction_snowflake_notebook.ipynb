{
 "metadata": {
  "kernelspec": {
   "display_name": "Streamlit Notebook",
   "name": "streamlit"
  }
 },
 "nbformat_minor": 5,
 "nbformat": 4,
 "cells": [
  {
   "cell_type": "markdown",
   "id": "d81785f4-6ecf-4f01-bf61-4b07d1ff90fd",
   "metadata": {
    "name": "cell4",
    "collapsed": false
   },
   "source": "# Predicting car prices with a randomforest or XGBoost\n\nUse a machine learning model from snowpark ML to predict the price of a car given some of its features. \n\n* KM stand\n* age\n* Model / Make\n* Transmission\n\nThe data is scraped from gaspedaal.nl in 2023"
  },
  {
   "cell_type": "code",
   "id": "3775908f-ca36-4846-8f38-5adca39217f2",
   "metadata": {
    "language": "python",
    "name": "cell1",
    "collapsed": false
   },
   "source": "# Import python packages\nimport streamlit as st\nimport pandas as pd\nfrom snowflake.snowpark import functions as F\n\nimport plotly.express as px\n\nfrom snowflake.ml.modeling.xgboost import XGBRegressor\nfrom snowflake.ml.modeling.ensemble import RandomForestRegressor\n\nfrom snowflake.ml.modeling.metrics import mean_absolute_percentage_error\nfrom snowflake.ml.modeling.metrics import r2_score\n\nfrom snowflake.ml.modeling.pipeline import Pipeline\nfrom snowflake.ml.modeling.preprocessing import OneHotEncoder\n\nfrom snowflake.ml.registry import Registry\n\n# We can also use Snowpark for our analyses!\nfrom snowflake.snowpark.context import get_active_session\nsession = get_active_session()\n",
   "execution_count": null,
   "outputs": []
  },
  {
   "cell_type": "markdown",
   "id": "8743cdea-c402-4f2d-b393-52aa4db75c23",
   "metadata": {
    "name": "cell3",
    "collapsed": false
   },
   "source": "## Get cars data set\n\nThe data table is called CAR_PRICES and is in the snowflake CARS_DATA database"
  },
  {
   "cell_type": "code",
   "id": "ce6e1961-42c3-4ff8-9385-bc7d0be58607",
   "metadata": {
    "language": "python",
    "name": "cell2",
    "collapsed": false
   },
   "outputs": [],
   "source": "#### use snowpark to get to the data\ncars_sf = session.table('CARS_DATA.PUBLIC.CAR_PRICES')\n\n### Add two columns\ncars_sf = (\n    cars_sf\n    .with_column('age' , 2023 - cars_sf['BOUWJAAR'])\n    .with_column('N_doors', cars_sf[\"DEUR\"].substring(1,2))\n)",
   "execution_count": null
  },
  {
   "cell_type": "code",
   "id": "e9f69f3a-b891-4b89-93f0-43d4cc1a3e6c",
   "metadata": {
    "language": "python",
    "name": "cell6",
    "collapsed": false
   },
   "outputs": [],
   "source": "#### cleanup data by removing some outliers\ncars_clean = (\n    cars_sf\n    .filter(F.col(\"KM_STAND\") <= 500000)\n    .filter(F.col(\"AGE\") <= 20 )\n    .filter(F.col(\"TRANSMISSIE\").in_(F.lit(\"Handgeschakeld\"), F.lit(\"Automaat\")) )\n    .filter(F.col(\"VRAAGPRIJS\") <= 100000)\n    .filter(F.col(\"BRANDSTOF\").in_(F.lit(\"Benzine\"), F.lit(\"Diesel\")) )\n)\n\n## drop the columns that we don't need\ncars_clean = cars_clean.drop([\"PRIJS\",\"VERMOGEN\"] )",
   "execution_count": null
  },
  {
   "cell_type": "code",
   "id": "329eb76f-4f6d-471a-8254-94ccc93b622c",
   "metadata": {
    "language": "python",
    "name": "cell29",
    "collapsed": false
   },
   "outputs": [],
   "source": "cars_clean.describe()",
   "execution_count": null
  },
  {
   "cell_type": "markdown",
   "id": "77511ee7-6f05-4524-b380-4d76f2d1f56c",
   "metadata": {
    "name": "cell15",
    "collapsed": false
   },
   "source": "### Filter on car brands that have at least 750 records"
  },
  {
   "cell_type": "code",
   "id": "804588f6-470c-4447-a2be-ae55a80d1fcb",
   "metadata": {
    "language": "python",
    "name": "cell14",
    "collapsed": false
   },
   "outputs": [],
   "source": "top_merken = (\n    cars_clean\n    .group_by(\"MERK\")\n    .agg(F.count(\"MERK\").alias('N'))\n    .filter(F.col('N') > 750)\n    .withColumnRenamed('MERK', 'MERK2')\n)\ntop_merken",
   "execution_count": null
  },
  {
   "cell_type": "code",
   "id": "67067935-f82f-459c-81c0-9aea9811af43",
   "metadata": {
    "language": "python",
    "name": "cell16",
    "collapsed": false
   },
   "outputs": [],
   "source": "cars_clean_topmerken = (\n    cars_clean\n    .join(top_merken, cars_clean[\"MERK\"] == top_merken[\"MERK2\"], \"inner\")\n    .select(cars_clean[\"*\"])\n)",
   "execution_count": null
  },
  {
   "cell_type": "code",
   "id": "19cd0ede-a921-4350-bb47-46484941df4b",
   "metadata": {
    "language": "python",
    "name": "cell5",
    "collapsed": false
   },
   "outputs": [],
   "source": "cars_clean_topmerken.count()",
   "execution_count": null
  },
  {
   "cell_type": "code",
   "id": "aadf8f74-e2c4-4303-8085-38fdc954c339",
   "metadata": {
    "language": "python",
    "name": "cell21",
    "collapsed": false
   },
   "outputs": [],
   "source": "cars_clean_topmerken",
   "execution_count": null
  },
  {
   "cell_type": "markdown",
   "id": "610eb3d9-1757-4990-801b-77d826542c44",
   "metadata": {
    "name": "cell7",
    "collapsed": false
   },
   "source": "## Predictive Modeling\n"
  },
  {
   "cell_type": "code",
   "id": "745bb6dc-2a01-4a92-9f77-1e980bc40860",
   "metadata": {
    "language": "python",
    "name": "cell28",
    "collapsed": false
   },
   "outputs": [],
   "source": "### Define the features in the model\nCATEGORICAL_COLUMNS = [\"MERK\", \"BRANDSTOF\", \"TRANSMISSIE\", \"KLEUR\"]\n\n### names of the onehot encoded\nCATEGORICAL_COLUMNS_OHE = [\"MERK_OE\" ,\"BRANDSTOF_OE\", \"TRANSMISSIE_OE\", \"KLEUR_OE\"]\n\nNUMERICAL_COLUMNS = [ 'AGE', 'KM_STAND']\n\n### Define the target\nLABEL_COLUMNS = ['VRAAGPRIJS']\nOUTPUT_COLUMNS = ['PREDICTED_PRICE']",
   "execution_count": null
  },
  {
   "cell_type": "code",
   "id": "ad9e87ff-bf0b-4776-8897-41aa849113e9",
   "metadata": {
    "language": "python",
    "name": "cell22",
    "collapsed": false
   },
   "outputs": [],
   "source": "# Define the random forest regression model\nregressor_model = RandomForestRegressor(\n    n_estimators = 250, \n    max_depth = 6,\n    n_jobs = -1,\n    min_samples_split = 500,\n    min_samples_leaf = 500,\n    label_cols = LABEL_COLUMNS,\n    output_cols= OUTPUT_COLUMNS\n)",
   "execution_count": null
  },
  {
   "cell_type": "code",
   "id": "b23ecd4e-a7b7-4e7e-855c-3545aa9311e2",
   "metadata": {
    "language": "python",
    "name": "cell23",
    "collapsed": false
   },
   "outputs": [],
   "source": "### only use the columns we need\n\ncars_clean_model_data = (\n    cars_clean_topmerken\n    .select(CATEGORICAL_COLUMNS + NUMERICAL_COLUMNS + LABEL_COLUMNS)\n)\n\ncars_clean_model_data",
   "execution_count": null
  },
  {
   "cell_type": "code",
   "id": "b339e0f2-1c61-4733-a49e-1383113df54e",
   "metadata": {
    "language": "python",
    "name": "cell8",
    "collapsed": false
   },
   "outputs": [],
   "source": "### split into train and test\ndf_train, df_test = cars_clean_model_data.random_split(weights=[0.80, 0.20], seed=0) ",
   "execution_count": null
  },
  {
   "cell_type": "markdown",
   "id": "a8ce8e6f-a882-4175-816a-a73de1594a56",
   "metadata": {
    "name": "cell27",
    "collapsed": false
   },
   "source": "### Machine learning Pipeline  \n\nCategorical columns need to be one-hot encoded first before we can use them in a random forest model\n\nWe can build a pipeline to doe the onehot encoding and then the model training\n"
  },
  {
   "cell_type": "code",
   "id": "3289c83e-530a-427d-99f4-838eadd41209",
   "metadata": {
    "language": "python",
    "name": "cell9",
    "collapsed": false
   },
   "outputs": [],
   "source": "# ML pipeline\nml_pipe = Pipeline(\n    steps = [\n        (\n            \"ohe\", \n            OneHotEncoder(\n                input_cols=CATEGORICAL_COLUMNS, \n                output_cols = CATEGORICAL_COLUMNS_OHE, \n                drop_input_cols = True\n            )\n        ),\n        (\n            \"regressionmodel\",\n            regressor_model\n        )\n    ]\n)",
   "execution_count": null
  },
  {
   "cell_type": "code",
   "id": "0f73d22c-468c-4403-b5a7-f58019dfedb7",
   "metadata": {
    "language": "python",
    "name": "cell31",
    "collapsed": false
   },
   "outputs": [],
   "source": "ml_pipe",
   "execution_count": null
  },
  {
   "cell_type": "markdown",
   "id": "c2186327-75ee-43a6-98d7-39c2fe12acd3",
   "metadata": {
    "name": "cell17",
    "collapsed": false
   },
   "source": "### fit the machine learning pipeline"
  },
  {
   "cell_type": "code",
   "id": "3f37d703-b23f-426e-800f-252f556863d4",
   "metadata": {
    "language": "python",
    "name": "cell30",
    "collapsed": false
   },
   "outputs": [],
   "source": "### Train the pipeline using fit_predict, \n\n# so applying first onehot encoding\n# then train the randomforest model\n# apply the model so that the train data has an extra column of predictions\n# output of fit_predict is a snowpark data frame\n\ndf_train_out = ml_pipe.fit_predict(df_train)\n",
   "execution_count": null
  },
  {
   "cell_type": "code",
   "id": "0442d0a3-9043-4bf6-b969-d170abbe1022",
   "metadata": {
    "language": "python",
    "name": "cell33",
    "collapsed": false
   },
   "outputs": [],
   "source": "df_train_out",
   "execution_count": null
  },
  {
   "cell_type": "code",
   "id": "a1da6ecb-2f65-43cc-9e3c-025fc6747816",
   "metadata": {
    "language": "python",
    "name": "cell10",
    "collapsed": false
   },
   "outputs": [],
   "source": "### We can now apply the fitted model on the test set\ndf_test_processed = ml_pipe.predict(df_test)\ndf_test_processed",
   "execution_count": null
  },
  {
   "cell_type": "markdown",
   "id": "ff929b23-35a5-48ab-b951-cfd7da2fdff6",
   "metadata": {
    "name": "cell24",
    "collapsed": false
   },
   "source": "### Model metrics\nOn the test set we can calculate certain model metrics"
  },
  {
   "cell_type": "code",
   "id": "39b202a4-05f9-4fe0-aea0-44915a354a78",
   "metadata": {
    "language": "python",
    "name": "cell11",
    "collapsed": false
   },
   "outputs": [],
   "source": "mape = mean_absolute_percentage_error(\n    df=df_test_processed, \n    y_true_col_names=\"VRAAGPRIJS\", \n    y_pred_col_names=\"PREDICTED_PRICE\"\n)\nmape",
   "execution_count": null
  },
  {
   "cell_type": "code",
   "id": "b8d0ab98-547c-4422-b5e5-b92e79b347f7",
   "metadata": {
    "language": "python",
    "name": "cell12",
    "collapsed": false
   },
   "outputs": [],
   "source": "r2 = r2_score(\n    df=df_test_processed, \n    y_true_col_name=\"VRAAGPRIJS\", \n    y_pred_col_name=\"PREDICTED_PRICE\"\n)\nr2",
   "execution_count": null
  },
  {
   "cell_type": "markdown",
   "id": "39f0e9bd-243c-4c5a-b6f7-92ead7eda5e8",
   "metadata": {
    "name": "cell13",
    "collapsed": false
   },
   "source": "### Feature importance\n\nThe regression model itself is the last step of the ml pipeline, we can extract it to get for example the feature importances. But the snowpark ML randomforest model is merely a wrapper to the scikit learn object. We need to get to that so that we can extract feature importances"
  },
  {
   "cell_type": "code",
   "id": "f603b8f7-36f3-49d2-b9df-28d97720699e",
   "metadata": {
    "language": "python",
    "name": "cell32",
    "collapsed": false
   },
   "outputs": [],
   "source": "sk_model = ml_pipe.steps[-1][1].to_sklearn()",
   "execution_count": null
  },
  {
   "cell_type": "code",
   "id": "5443558a-fa4b-4a02-9f50-aaeb285bb6a6",
   "metadata": {
    "language": "python",
    "name": "cell26",
    "collapsed": false
   },
   "outputs": [],
   "source": "feature_importances_df = pd.DataFrame({\n    'Feature': sk_model.feature_names_in_,\n    'Importance': sk_model.feature_importances_\n}).sort_values(by='Importance', ascending=False)",
   "execution_count": null
  },
  {
   "cell_type": "code",
   "id": "e638da50-95a3-49fa-a6e3-6662e0c5c4f4",
   "metadata": {
    "language": "python",
    "name": "cell25",
    "collapsed": false
   },
   "outputs": [],
   "source": "feature_importances_df",
   "execution_count": null
  },
  {
   "cell_type": "code",
   "id": "65bb18bf-c62e-4c5c-9069-31e44c8ebdab",
   "metadata": {
    "language": "python",
    "name": "cell18",
    "collapsed": false
   },
   "outputs": [],
   "source": "### plot prediction vs \n### Note that we bring over data to pandas\ntest_df = df_test_processed.to_pandas()",
   "execution_count": null
  },
  {
   "cell_type": "code",
   "id": "82eb7817-4eb2-419f-862d-38f95fca2417",
   "metadata": {
    "language": "python",
    "name": "cell19",
    "collapsed": false
   },
   "outputs": [],
   "source": "fig = px.scatter(\n    test_df,\n    x=\"VRAAGPRIJS\", y=\"PREDICTED_PRICE\"\n)\nfig",
   "execution_count": null
  },
  {
   "cell_type": "code",
   "id": "ae1a75a5-5a4c-468d-9716-7b430c0b2a39",
   "metadata": {
    "language": "python",
    "name": "cell20",
    "collapsed": false
   },
   "outputs": [],
   "source": "import seaborn as sns\nimport matplotlib.pyplot as plt\n\nsns.scatterplot(test_df, x=\"VRAAGPRIJS\", y=\"PREDICTED_PRICE\")",
   "execution_count": null
  },
  {
   "cell_type": "markdown",
   "id": "43ea1aff-197c-47b7-b490-765ebaf74446",
   "metadata": {
    "name": "cell34",
    "collapsed": false
   },
   "source": "# Streamlit app"
  },
  {
   "cell_type": "code",
   "id": "07c6822d-1e2c-4df6-b5dc-7e7cf866f9af",
   "metadata": {
    "language": "python",
    "name": "cell37",
    "collapsed": false
   },
   "outputs": [],
   "source": "merken_lijst = top_merken.to_pandas().MERK2.values",
   "execution_count": null
  },
  {
   "cell_type": "code",
   "id": "c6d5988a-88e1-45b5-9bb7-336c9d91686a",
   "metadata": {
    "language": "python",
    "name": "cell35",
    "collapsed": false
   },
   "outputs": [],
   "source": "c1,c2,c3 = st.columns(3)\nwith c2:\n    AGE = st.number_input(\"Age\",0,20,2)\n    BRANDSTOF = st.selectbox(\"BRANDSTOF\", [ \"Benzine\", \"Diesel\"])\nwith c3:\n    KM_STAND = st.number_input(\"KM_STAND\",15000)\n    TRANSMISSIE = st.selectbox(\"TRANSMISSIE\",[\"Handgeschakeld\", \"Automaat\"])\nwith c1:\n    MERK = st.selectbox(\"MERK\", merken_lijst)\n\nst.divider()\n### convert input to a pandas data frame so that we can convert it to snowpark dataframe\n\nnew_car = pd.DataFrame({\n    \"MERK\": [MERK],\n    \"AGE\" : [AGE],\n    \"KM_STAND\": [KM_STAND],\n    \"TRANSMISSIE\" :[TRANSMISSIE],\n    \"BRANDSTOF\" : [BRANDSTOF]\n    \n})\n\nnew_car_sf = session.create_dataframe(new_car)\n\n### predict price of the new car\nml_pipe.predict(new_car_sf).select(\"PREDICTED_PRICE\")",
   "execution_count": null
  },
  {
   "cell_type": "markdown",
   "id": "f688b7a9-6ebd-4430-ad59-9d6051f69246",
   "metadata": {
    "name": "cell39",
    "collapsed": false
   },
   "source": "# Model registry"
  },
  {
   "cell_type": "code",
   "id": "96822091-8252-4997-b54a-c8c6beac0516",
   "metadata": {
    "language": "sql",
    "name": "cell41",
    "collapsed": false
   },
   "outputs": [],
   "source": "-- create a separate schema for the model registry\nUSE DATABASE CARS_DATA;\nCREATE SCHEMA registry;\nSHOW SCHEMAS;",
   "execution_count": null
  },
  {
   "cell_type": "code",
   "id": "6c10f54d-69e4-47e3-9a1d-f8847c796456",
   "metadata": {
    "language": "python",
    "name": "cell40",
    "collapsed": false
   },
   "outputs": [],
   "source": "## create and establish a link to the registry \n\nfrom snowflake.ml.registry import Registry\n\nreg = Registry(session=session, database_name=\"CARS_DATA\", schema_name=\"REGISTRY\")",
   "execution_count": null
  },
  {
   "cell_type": "markdown",
   "id": "be2c65b6-8660-44f3-bc5b-312c6920c13a",
   "metadata": {
    "name": "cell42",
    "collapsed": false
   },
   "source": "reg"
  },
  {
   "cell_type": "code",
   "id": "0dda84a8-9a51-4b41-a0df-e81909b85d7c",
   "metadata": {
    "language": "python",
    "name": "cell43",
    "collapsed": false
   },
   "outputs": [],
   "source": "mv = reg.log_model(\n    ml_pipe,\n    model_name=\"car_prediction_random_Forrest\",\n    version_name=\"v1\",\n    comment=\"My awesome ML model\"\n)",
   "execution_count": null
  },
  {
   "cell_type": "code",
   "id": "8d94fe1c-d481-49b2-be1d-da9a57667eac",
   "metadata": {
    "language": "python",
    "name": "cell38",
    "collapsed": false
   },
   "outputs": [],
   "source": "mv",
   "execution_count": null
  },
  {
   "cell_type": "code",
   "id": "21503daa-a787-4e78-90f7-99ee739c8d39",
   "metadata": {
    "language": "python",
    "name": "cell44",
    "collapsed": false
   },
   "outputs": [],
   "source": "reg.show_models()",
   "execution_count": null
  },
  {
   "cell_type": "code",
   "id": "8b33068a-0407-4a17-b37c-226a6f6386c4",
   "metadata": {
    "language": "python",
    "name": "cell36",
    "collapsed": false
   },
   "outputs": [],
   "source": "m = reg.get_model(\"CAR_PREDICTION_RANDOM_FORREST\")\nm",
   "execution_count": null
  },
  {
   "cell_type": "code",
   "id": "fe1bee7c-cd5d-47e1-bd8d-c8d463bc69cf",
   "metadata": {
    "language": "python",
    "name": "cell45"
   },
   "outputs": [],
   "source": "m.versions()",
   "execution_count": null
  },
  {
   "cell_type": "code",
   "id": "37234b17-747f-4ef9-ad16-0909195a0df4",
   "metadata": {
    "language": "python",
    "name": "cell46",
    "collapsed": false
   },
   "outputs": [],
   "source": "mv.set_metric(\"test_R2\", 0.70)",
   "execution_count": null
  },
  {
   "cell_type": "markdown",
   "id": "2c1f7268-f375-4d55-98cd-6af734b94413",
   "metadata": {
    "name": "cell48",
    "collapsed": false
   },
   "source": "### use model from registry to predict on new data"
  },
  {
   "cell_type": "code",
   "id": "38ac947d-dda3-432d-a0fd-7d3698e9519a",
   "metadata": {
    "language": "python",
    "name": "cell47",
    "collapsed": false
   },
   "outputs": [],
   "source": "new_prediction = mv.run(cars_clean_model_data, function_name=\"predict\")\nnew_prediction.show()",
   "execution_count": null
  },
  {
   "cell_type": "markdown",
   "id": "7640ab88-0b75-43d4-b1d6-e6ad9272b04c",
   "metadata": {
    "name": "cell50",
    "collapsed": false
   },
   "source": "### SQL interface to models\n\nregistered models in the model registry can also be used to score new data with SQL!!!\n"
  },
  {
   "cell_type": "code",
   "id": "5c3b9546-2f1e-4497-a915-b2e41a7424a0",
   "metadata": {
    "language": "sql",
    "name": "cell51",
    "collapsed": false
   },
   "outputs": [],
   "source": "SHOW MODELS",
   "execution_count": null
  },
  {
   "cell_type": "markdown",
   "id": "f13b34b8-4ba7-40fa-809d-a226502f9e91",
   "metadata": {
    "name": "cell56",
    "collapsed": false
   },
   "source": "There is a PREDICT METHOD THAT WE CAN USE in SQL"
  },
  {
   "cell_type": "code",
   "id": "788d5b42-714a-408c-8d47-05205b15c882",
   "metadata": {
    "language": "sql",
    "name": "cell52",
    "collapsed": false
   },
   "outputs": [],
   "source": "SHOW FUNCTIONS IN MODEL CAR_PREDICTION_RANDOM_FORREST",
   "execution_count": null
  },
  {
   "cell_type": "markdown",
   "id": "40e6b9c7-889c-4fa0-9c32-02ce72cba9d3",
   "metadata": {
    "name": "cell57",
    "collapsed": false
   },
   "source": "We need some cars data that we can use for scoring. Lets just use snowpark data frame we already have...."
  },
  {
   "cell_type": "code",
   "id": "afa3bfb2-ba6a-4660-92da-c413d9ff3c72",
   "metadata": {
    "language": "python",
    "name": "cell54",
    "collapsed": false
   },
   "outputs": [],
   "source": "### save data frame as table for scoring\ncars_clean_model_data.write.mode(\"overwrite\").save_as_table(\"CARS_DATA.PUBLIC.CARS_TO_SCORE\")",
   "execution_count": null
  },
  {
   "cell_type": "code",
   "id": "0e7e1de0-180d-45a6-93f5-88647f3709b8",
   "metadata": {
    "language": "sql",
    "name": "cell53",
    "collapsed": false
   },
   "outputs": [],
   "source": "SELECT * FROM CARS_DATA.PUBLIC.CARS_TO_SCORE",
   "execution_count": null
  },
  {
   "cell_type": "markdown",
   "id": "f5a9fedc-a840-4306-a692-8e2821aaa4f4",
   "metadata": {
    "name": "cell58",
    "collapsed": false
   },
   "source": "We used KLEUR, but there were some NULL values, the model cant handle that "
  },
  {
   "cell_type": "code",
   "id": "da1c3f6a-408a-474f-b0ad-b984c60a0d67",
   "metadata": {
    "language": "sql",
    "name": "cell55",
    "collapsed": false
   },
   "outputs": [],
   "source": "SELECT * FROM CARS_DATA.PUBLIC.CARS_TO_SCORE WHERE KLEUR IS NULL",
   "execution_count": null
  },
  {
   "cell_type": "code",
   "id": "7c2b2f20-9038-4535-9085-2c8db3bee5b7",
   "metadata": {
    "language": "sql",
    "name": "cell49",
    "collapsed": false
   },
   "outputs": [],
   "source": "SELECT \n    * ,\n    CAR_PREDICTION_RANDOM_FORREST!PREDICT(\n        CARS_TO_SCORE.MERK,\n        CARS_TO_SCORE.BRANDSTOF,\n        CARS_TO_SCORE.TRANSMISSIE,\n        CARS_TO_SCORE.KLEUR,\n        CARS_TO_SCORE.AGE,\n        CARS_TO_SCORE.KM_STAND\n    )\n    as prediction_dict ,\n    prediction_dict['PREDICTED_PRICE']::double as PREDICTED_PRICE,\n  \nFROM \n    CARS_TO_SCORE\n WHERE \n    TRANSMISSIE = 'Handgeschakeld' AND \n    KLEUR IS NOT  NULL\n;",
   "execution_count": null
  }
 ]
}