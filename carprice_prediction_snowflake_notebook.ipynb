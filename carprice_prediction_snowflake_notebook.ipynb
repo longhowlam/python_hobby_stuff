{
 "metadata": {
  "kernelspec": {
   "display_name": "Streamlit Notebook",
   "name": "streamlit"
  }
 },
 "nbformat_minor": 5,
 "nbformat": 4,
 "cells": [
  {
   "cell_type": "markdown",
   "id": "d81785f4-6ecf-4f01-bf61-4b07d1ff90fd",
   "metadata": {
    "name": "cell4",
    "collapsed": false
   },
   "source": "# Predicting car prices with a randomforest or XGBoost\n\nUse a machine learning model to predict the price of a car given some of its features. \n\n* KM stand\n* age\n* Model / Make\n* Transmission\n\nThe data is scraped from gaspedaal.nl in 2023"
  },
  {
   "cell_type": "code",
   "id": "3775908f-ca36-4846-8f38-5adca39217f2",
   "metadata": {
    "language": "python",
    "name": "cell1",
    "collapsed": false
   },
   "source": "# Import python packages\nimport streamlit as st\nimport pandas as pd\nfrom snowflake.snowpark import functions as F\n\nimport plotly.express as px\n\nfrom snowflake.ml.modeling.xgboost import XGBRegressor\nfrom snowflake.ml.modeling.ensemble import RandomForestRegressor\n\nfrom snowflake.ml.modeling.metrics import mean_absolute_percentage_error\nfrom snowflake.ml.modeling.metrics import r2_score\n\nfrom snowflake.ml.modeling.pipeline import Pipeline\nfrom snowflake.ml.modeling.preprocessing import OneHotEncoder\n\n# We can also use Snowpark for our analyses!\nfrom snowflake.snowpark.context import get_active_session\nsession = get_active_session()\n",
   "execution_count": null,
   "outputs": []
  },
  {
   "cell_type": "markdown",
   "id": "8743cdea-c402-4f2d-b393-52aa4db75c23",
   "metadata": {
    "name": "cell3",
    "collapsed": false
   },
   "source": "## Get cars data set\n\nThe data is in the snowflake CARS_DATA database"
  },
  {
   "cell_type": "code",
   "id": "ce6e1961-42c3-4ff8-9385-bc7d0be58607",
   "metadata": {
    "language": "python",
    "name": "cell2",
    "collapsed": false
   },
   "outputs": [],
   "source": "#### use snowpark to get to the data\ncars_sf = session.table('CARS_DATA.PUBLIC.CAR_PRICES')\n\n### Add two columns\ncars_sf = (\n    cars_sf\n    .with_column('age' , 2023 - cars_sf['BOUWJAAR'])\n    .with_column('N_doors', cars_sf[\"DEUR\"].substring(1,2))\n)",
   "execution_count": null
  },
  {
   "cell_type": "code",
   "id": "e9f69f3a-b891-4b89-93f0-43d4cc1a3e6c",
   "metadata": {
    "language": "python",
    "name": "cell6",
    "collapsed": false
   },
   "outputs": [],
   "source": "#### cleanup data by removing some outliers\ncars_clean = (\n    cars_sf\n    .filter(F.col(\"KM_STAND\") <= 500000)\n    .filter(F.col(\"AGE\") <= 20 )\n    .filter(F.col(\"TRANSMISSIE\").in_(F.lit(\"Handgeschakeld\"), F.lit(\"Automaat\")) )\n    .filter(F.col(\"VRAAGPRIJS\") <= 100000)\n    .filter(F.col(\"BRANDSTOF\").in_(F.lit(\"Benzine\"), F.lit(\"Diesel\")) )\n)\n\n## drop the columns that we don't need\ncars_clean = cars_clean.drop([\"PRIJS\",\"VERMOGEN\"] )",
   "execution_count": null
  },
  {
   "cell_type": "code",
   "id": "329eb76f-4f6d-471a-8254-94ccc93b622c",
   "metadata": {
    "language": "python",
    "name": "cell29",
    "collapsed": false
   },
   "outputs": [],
   "source": "cars_clean.describe()",
   "execution_count": null
  },
  {
   "cell_type": "markdown",
   "id": "77511ee7-6f05-4524-b380-4d76f2d1f56c",
   "metadata": {
    "name": "cell15",
    "collapsed": false
   },
   "source": "### Filter on car brands that have at least 750 records"
  },
  {
   "cell_type": "code",
   "id": "804588f6-470c-4447-a2be-ae55a80d1fcb",
   "metadata": {
    "language": "python",
    "name": "cell14",
    "collapsed": false
   },
   "outputs": [],
   "source": "top_merken = (\n    cars_clean\n    .group_by(\"MERK\")\n    .agg(F.count(\"MERK\").alias('N'))\n    .filter(F.col('N') > 750)\n    .withColumnRenamed('MERK', 'MERK2')\n)\ntop_merken",
   "execution_count": null
  },
  {
   "cell_type": "code",
   "id": "67067935-f82f-459c-81c0-9aea9811af43",
   "metadata": {
    "language": "python",
    "name": "cell16",
    "collapsed": false
   },
   "outputs": [],
   "source": "cars_clean_topmerken = (\n    cars_clean\n    .join(top_merken, cars_clean[\"MERK\"] == top_merken[\"MERK2\"], \"inner\")\n    .select(cars_clean[\"*\"])\n)",
   "execution_count": null
  },
  {
   "cell_type": "code",
   "id": "19cd0ede-a921-4350-bb47-46484941df4b",
   "metadata": {
    "language": "python",
    "name": "cell5",
    "collapsed": false
   },
   "outputs": [],
   "source": "cars_clean_topmerken.count()",
   "execution_count": null
  },
  {
   "cell_type": "code",
   "id": "aadf8f74-e2c4-4303-8085-38fdc954c339",
   "metadata": {
    "language": "python",
    "name": "cell21",
    "collapsed": false
   },
   "outputs": [],
   "source": "cars_clean_topmerken",
   "execution_count": null
  },
  {
   "cell_type": "markdown",
   "id": "610eb3d9-1757-4990-801b-77d826542c44",
   "metadata": {
    "name": "cell7",
    "collapsed": false
   },
   "source": "## Predictive Modeling\n"
  },
  {
   "cell_type": "code",
   "id": "745bb6dc-2a01-4a92-9f77-1e980bc40860",
   "metadata": {
    "language": "python",
    "name": "cell28",
    "collapsed": false
   },
   "outputs": [],
   "source": "### Define the features in the model\nCATEGORICAL_COLUMNS = [\"MERK\", \"BRANDSTOF\", \"TRANSMISSIE\"]\n\n### names of the onehot encoded\nCATEGORICAL_COLUMNS_OHE = [\"MERK_OE\" ,\"BRANDSTOF_OE\", \"TRANSMISSIE_OE\"]\n\nNUMERICAL_COLUMNS = [ 'AGE', 'KM_STAND']\n\n### Define the target\nLABEL_COLUMNS = ['VRAAGPRIJS']\nOUTPUT_COLUMNS = ['PREDICTED_PRICE']",
   "execution_count": null
  },
  {
   "cell_type": "code",
   "id": "ad9e87ff-bf0b-4776-8897-41aa849113e9",
   "metadata": {
    "language": "python",
    "name": "cell22",
    "collapsed": false
   },
   "outputs": [],
   "source": "# Define the random forest regression model\nregressor_model = RandomForestRegressor(\n    n_estimators = 250, \n    max_depth = 6,\n    n_jobs = -1,\n    min_samples_split = 500,\n    min_samples_leaf = 500,\n    label_cols = LABEL_COLUMNS,\n    output_cols= OUTPUT_COLUMNS\n)",
   "execution_count": null
  },
  {
   "cell_type": "code",
   "id": "b23ecd4e-a7b7-4e7e-855c-3545aa9311e2",
   "metadata": {
    "language": "python",
    "name": "cell23",
    "collapsed": false
   },
   "outputs": [],
   "source": "### only use the columns we need\n\ncars_clean_model_data = (\n    cars_clean_topmerken\n    .select(CATEGORICAL_COLUMNS + NUMERICAL_COLUMNS + LABEL_COLUMNS)\n)\n\ncars_clean_model_data",
   "execution_count": null
  },
  {
   "cell_type": "code",
   "id": "b339e0f2-1c61-4733-a49e-1383113df54e",
   "metadata": {
    "language": "python",
    "name": "cell8",
    "collapsed": false
   },
   "outputs": [],
   "source": "### split into train and test\ndf_train, df_test = cars_clean_model_data.random_split(weights=[0.80, 0.20], seed=0) ",
   "execution_count": null
  },
  {
   "cell_type": "markdown",
   "id": "a8ce8e6f-a882-4175-816a-a73de1594a56",
   "metadata": {
    "name": "cell27",
    "collapsed": false
   },
   "source": "### Machine learning Pipeline  \n\nCategorical columns need to be one-hot encoded first before we can use them in a random forest model\n\nWe can build a pipeline to doe the onehot encoding and then the model training\n"
  },
  {
   "cell_type": "code",
   "id": "3289c83e-530a-427d-99f4-838eadd41209",
   "metadata": {
    "language": "python",
    "name": "cell9",
    "collapsed": false
   },
   "outputs": [],
   "source": "# ML pipeline\nml_pipe = Pipeline(\n    steps = [\n        (\n            \"ohe\", \n            OneHotEncoder(\n                input_cols=CATEGORICAL_COLUMNS, \n                output_cols = CATEGORICAL_COLUMNS_OHE, \n                drop_input_cols = True\n            )\n        ),\n        (\n            \"regressionmodel\",\n            regressor_model\n        )\n    ]\n)",
   "execution_count": null
  },
  {
   "cell_type": "code",
   "id": "0f73d22c-468c-4403-b5a7-f58019dfedb7",
   "metadata": {
    "language": "python",
    "name": "cell31",
    "collapsed": false
   },
   "outputs": [],
   "source": "ml_pipe",
   "execution_count": null
  },
  {
   "cell_type": "markdown",
   "id": "c2186327-75ee-43a6-98d7-39c2fe12acd3",
   "metadata": {
    "name": "cell17",
    "collapsed": false
   },
   "source": "### fit the machine learning pipeline"
  },
  {
   "cell_type": "code",
   "id": "3f37d703-b23f-426e-800f-252f556863d4",
   "metadata": {
    "language": "python",
    "name": "cell30",
    "collapsed": false
   },
   "outputs": [],
   "source": "### Train the pipeline using fit_predict, \n\n# so applying first onehot encoding\n# then train the randomforest model\n# apply the model so that the train data has an extra column of predictions\n# output of fit_predict is a snowpark data frame\n\ndf_train_out = ml_pipe.fit_predict(df_train)\n",
   "execution_count": null
  },
  {
   "cell_type": "code",
   "id": "0442d0a3-9043-4bf6-b969-d170abbe1022",
   "metadata": {
    "language": "python",
    "name": "cell33",
    "collapsed": false
   },
   "outputs": [],
   "source": "df_train_out",
   "execution_count": null
  },
  {
   "cell_type": "code",
   "id": "a1da6ecb-2f65-43cc-9e3c-025fc6747816",
   "metadata": {
    "language": "python",
    "name": "cell10",
    "collapsed": false
   },
   "outputs": [],
   "source": "### We can now apply the fitted model on the test set\ndf_test_processed = ml_pipe.predict(df_test)\ndf_test_processed",
   "execution_count": null
  },
  {
   "cell_type": "markdown",
   "id": "ff929b23-35a5-48ab-b951-cfd7da2fdff6",
   "metadata": {
    "name": "cell24",
    "collapsed": false
   },
   "source": "### Model metrics\nOn the test set we can calculate the model metrics"
  },
  {
   "cell_type": "code",
   "id": "39b202a4-05f9-4fe0-aea0-44915a354a78",
   "metadata": {
    "language": "python",
    "name": "cell11",
    "collapsed": false
   },
   "outputs": [],
   "source": "mape = mean_absolute_percentage_error(\n    df=df_test_processed, \n    y_true_col_names=\"VRAAGPRIJS\", \n    y_pred_col_names=\"PREDICTED_PRICE\"\n)\nmape",
   "execution_count": null
  },
  {
   "cell_type": "code",
   "id": "b8d0ab98-547c-4422-b5e5-b92e79b347f7",
   "metadata": {
    "language": "python",
    "name": "cell12",
    "collapsed": false
   },
   "outputs": [],
   "source": "r2 = r2_score(\n    df=df_test_processed, \n    y_true_col_name=\"VRAAGPRIJS\", \n    y_pred_col_name=\"PREDICTED_PRICE\"\n)\nr2",
   "execution_count": null
  },
  {
   "cell_type": "markdown",
   "id": "39f0e9bd-243c-4c5a-b6f7-92ead7eda5e8",
   "metadata": {
    "name": "cell13",
    "collapsed": false
   },
   "source": "### Feature importance\n\nThe regression model itself is the last step of the ml pipeline, we can extract it to get for example the feature importances. But the snowpark ML randomforest model is merely a wrapper to the scikit learn object. We need to get to that so that we can extract feature importances"
  },
  {
   "cell_type": "code",
   "id": "f603b8f7-36f3-49d2-b9df-28d97720699e",
   "metadata": {
    "language": "python",
    "name": "cell32",
    "collapsed": false
   },
   "outputs": [],
   "source": "sk_model = ml_pipe.steps[-1][1].to_sklearn()",
   "execution_count": null
  },
  {
   "cell_type": "code",
   "id": "5443558a-fa4b-4a02-9f50-aaeb285bb6a6",
   "metadata": {
    "language": "python",
    "name": "cell26",
    "collapsed": false
   },
   "outputs": [],
   "source": "feature_importances_df = pd.DataFrame({\n    'Feature': sk_model.feature_names_in_,\n    'Importance': sk_model.feature_importances_\n}).sort_values(by='Importance', ascending=False)",
   "execution_count": null
  },
  {
   "cell_type": "code",
   "id": "e638da50-95a3-49fa-a6e3-6662e0c5c4f4",
   "metadata": {
    "language": "python",
    "name": "cell25",
    "collapsed": false
   },
   "outputs": [],
   "source": "feature_importances_df",
   "execution_count": null
  },
  {
   "cell_type": "code",
   "id": "65bb18bf-c62e-4c5c-9069-31e44c8ebdab",
   "metadata": {
    "language": "python",
    "name": "cell18",
    "collapsed": false
   },
   "outputs": [],
   "source": "### plot prediction vs observed\ntest_df = df_test_processed.to_pandas()",
   "execution_count": null
  },
  {
   "cell_type": "code",
   "id": "82eb7817-4eb2-419f-862d-38f95fca2417",
   "metadata": {
    "language": "python",
    "name": "cell19",
    "collapsed": false
   },
   "outputs": [],
   "source": "fig = px.scatter(\n    test_df,\n    x=\"VRAAGPRIJS\", y=\"PREDICTED_PRICE\"\n)\nfig",
   "execution_count": null
  },
  {
   "cell_type": "code",
   "id": "ae1a75a5-5a4c-468d-9716-7b430c0b2a39",
   "metadata": {
    "language": "python",
    "name": "cell20",
    "collapsed": false
   },
   "outputs": [],
   "source": "import seaborn as sns\nimport matplotlib.pyplot as plt\n\nsns.scatterplot(test_df, x=\"VRAAGPRIJS\", y=\"PREDICTED_PRICE\")",
   "execution_count": null
  },
  {
   "cell_type": "markdown",
   "id": "43ea1aff-197c-47b7-b490-765ebaf74446",
   "metadata": {
    "name": "cell34",
    "collapsed": false
   },
   "source": "# Streamlit app"
  },
  {
   "cell_type": "code",
   "id": "07c6822d-1e2c-4df6-b5dc-7e7cf866f9af",
   "metadata": {
    "language": "python",
    "name": "cell37",
    "collapsed": false
   },
   "outputs": [],
   "source": "merken_lijst = top_merken.to_pandas().MERK2.values",
   "execution_count": null
  },
  {
   "cell_type": "code",
   "id": "c6d5988a-88e1-45b5-9bb7-336c9d91686a",
   "metadata": {
    "language": "python",
    "name": "cell35",
    "collapsed": false
   },
   "outputs": [],
   "source": "c1,c2,c3 = st.columns(3)\nwith c2:\n    AGE = st.number_input(\"Age\",0,20,2)\n    BRANDSTOF = st.selectbox(\"BRANDSTOF\", [ \"Benzine\", \"Diesel\"])\nwith c3:\n    KM_STAND = st.number_input(\"KM_STAND\",15000)\n    TRANSMISSIE = st.selectbox(\"TRANSMISSIE\",[\"Handgeschakeld\", \"Automaat\"])\nwith c1:\n    MERK = st.selectbox(\"MERK\", merken_lijst)\n\nst.divider()\n### convert input to a pandas data frame so that we can convert it to snowpark dataframe\n\nnew_car = pd.DataFrame({\n    \"MERK\": [MERK],\n    \"AGE\" : [AGE],\n    \"KM_STAND\": [KM_STAND],\n    \"TRANSMISSIE\" :[TRANSMISSIE],\n    \"BRANDSTOF\" : [BRANDSTOF]\n    \n})\n\nnew_car_sf = session.create_dataframe(new_car)\n\n### predict price of the new car\nml_pipe.predict(new_car_sf).select(\"PREDICTED_PRICE\")",
   "execution_count": null
  }
 ]
}