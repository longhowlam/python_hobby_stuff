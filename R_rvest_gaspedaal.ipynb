{
  "nbformat": 4,
  "nbformat_minor": 0,
  "metadata": {
    "colab": {
      "name": "R_rvest_gaspedaal.ipynb",
      "provenance": [],
      "collapsed_sections": [],
      "authorship_tag": "ABX9TyPvriU55eJc2KnQGPYDGEsS",
      "include_colab_link": true
    },
    "kernelspec": {
      "name": "ir",
      "display_name": "R"
    },
    "language_info": {
      "name": "R"
    }
  },
  "cells": [
    {
      "cell_type": "markdown",
      "metadata": {
        "id": "view-in-github",
        "colab_type": "text"
      },
      "source": [
        "<a href=\"https://colab.research.google.com/github/longhowlam/python_hobby_stuff/blob/master/R_rvest_gaspedaal.ipynb\" target=\"_parent\"><img src=\"https://colab.research.google.com/assets/colab-badge.svg\" alt=\"Open In Colab\"/></a>"
      ]
    },
    {
      "cell_type": "markdown",
      "source": [
        "# Scrape auto data van gaspedaal\n",
        "\n",
        "See also the zipped csv file with the cleaned data\n",
        "\n",
        "https://github.com/longhowlam/python_hobby_stuff/raw/master/autos_cleaned.zip"
      ],
      "metadata": {
        "id": "PAysEfjSKvWi"
      }
    },
    {
      "cell_type": "markdown",
      "source": [
        "To run R notebooks in colab use\n",
        "\n",
        "https://colab.research.google.com/#create=true&language=r"
      ],
      "metadata": {
        "id": "NPs6lAQOsPYT"
      }
    },
    {
      "cell_type": "code",
      "execution_count": 1,
      "metadata": {
        "id": "YFamCQirq7yy",
        "colab": {
          "base_uri": "https://localhost:8080/"
        },
        "outputId": "01d35e05-4ba7-42f0-da38-82c6cd22106f"
      },
      "outputs": [
        {
          "output_type": "stream",
          "name": "stderr",
          "text": [
            "\n",
            "Attaching package: ‘dplyr’\n",
            "\n",
            "\n",
            "The following objects are masked from ‘package:stats’:\n",
            "\n",
            "    filter, lag\n",
            "\n",
            "\n",
            "The following objects are masked from ‘package:base’:\n",
            "\n",
            "    intersect, setdiff, setequal, union\n",
            "\n",
            "\n"
          ]
        }
      ],
      "source": [
        "library(rvest)\n",
        "library(dplyr)\n",
        "library(stringr)\n",
        "library(tidyr)"
      ]
    },
    {
      "cell_type": "markdown",
      "source": [
        "## Scrape the data"
      ],
      "metadata": {
        "id": "yZ1flF7Fm1Qu"
      }
    },
    {
      "cell_type": "code",
      "source": [
        "url = \"https://www.gaspedaal.nl/zoeken?srt=df-a&page=\"\n",
        "#ResultsGP = NULL\n",
        "\n",
        "for( i in 2250:5000){\n",
        "  print(i)\n",
        "  linkie = paste0(url,i)\n",
        "  out = read_html(linkie)\n",
        "\n",
        "  bjkm = html_nodes(out, xpath = \"//div[contains(@class, 'style__StyledYearKm')]\") %>% html_text()\n",
        "  beschr = html_nodes(out, xpath = \"//div[contains(@class, 'style__StyledDescription')]\") %>% html_text()\n",
        "  prijs = html_nodes(out, xpath = \"//div[contains(@data-testid, 'price')]\") %>% html_text()\n",
        "  titel = html_nodes(out, xpath = \"//div[contains(@class, 'style__StyledOccasionRight')][1]\") %>% html_text()\n",
        "\n",
        "  tmp_df = data.frame(bjkm, beschr,prijs, titel)\n",
        "  ResultsGP = bind_rows(ResultsGP, tmp_df)\n",
        "  saveRDS(ResultsGP, \"Results.Rds\")\n",
        "  saveRDS(i,\"i.Rds\")\n",
        "}\n"
      ],
      "metadata": {
        "id": "ikOLiksUrJT5"
      },
      "execution_count": null,
      "outputs": []
    },
    {
      "cell_type": "code",
      "source": [
        "dim(ResultsGP)"
      ],
      "metadata": {
        "id": "dekNTUmotfLW",
        "colab": {
          "base_uri": "https://localhost:8080/",
          "height": 34
        },
        "outputId": "feacdcd0-0e42-441f-8a02-b4b72428b316"
      },
      "execution_count": null,
      "outputs": [
        {
          "output_type": "display_data",
          "data": {
            "text/plain": [
              "[1] 231000      4"
            ],
            "text/latex": "\\begin{enumerate*}\n\\item 231000\n\\item 4\n\\end{enumerate*}\n",
            "text/markdown": "1. 231000\n2. 4\n\n\n",
            "text/html": [
              "<style>\n",
              ".list-inline {list-style: none; margin:0; padding: 0}\n",
              ".list-inline>li {display: inline-block}\n",
              ".list-inline>li:not(:last-child)::after {content: \"\\00b7\"; padding: 0 .5ex}\n",
              "</style>\n",
              "<ol class=list-inline><li>231000</li><li>4</li></ol>\n"
            ]
          },
          "metadata": {}
        }
      ]
    },
    {
      "cell_type": "code",
      "source": [
        " saveRDS(ResultsGP, \"ResultsGaspedaal.Rds\")"
      ],
      "metadata": {
        "id": "u_wbuGLV2HIC"
      },
      "execution_count": null,
      "outputs": []
    },
    {
      "cell_type": "markdown",
      "source": [
        "## Clean the data "
      ],
      "metadata": {
        "id": "r0dZLW2Omwd7"
      }
    },
    {
      "cell_type": "code",
      "source": [
        "rawdata = readRDS(\"/content/ResultsGaspedaal.Rds\")"
      ],
      "metadata": {
        "id": "qRQnKHb_Ss49"
      },
      "execution_count": null,
      "outputs": []
    },
    {
      "cell_type": "code",
      "source": [
        "dim(rawdata)"
      ],
      "metadata": {
        "colab": {
          "base_uri": "https://localhost:8080/",
          "height": 34
        },
        "id": "Oexwn5z_FjE9",
        "outputId": "0a35125f-7a44-4af9-dd48-aa781a676249"
      },
      "execution_count": null,
      "outputs": [
        {
          "output_type": "display_data",
          "data": {
            "text/plain": [
              "[1] 231000      4"
            ],
            "text/latex": "\\begin{enumerate*}\n\\item 231000\n\\item 4\n\\end{enumerate*}\n",
            "text/markdown": "1. 231000\n2. 4\n\n\n",
            "text/html": [
              "<style>\n",
              ".list-inline {list-style: none; margin:0; padding: 0}\n",
              ".list-inline>li {display: inline-block}\n",
              ".list-inline>li:not(:last-child)::after {content: \"\\00b7\"; padding: 0 .5ex}\n",
              "</style>\n",
              "<ol class=list-inline><li>231000</li><li>4</li></ol>\n"
            ]
          },
          "metadata": {}
        }
      ]
    },
    {
      "cell_type": "code",
      "source": [
        "head(rawdata,7)"
      ],
      "metadata": {
        "colab": {
          "base_uri": "https://localhost:8080/",
          "height": 474
        },
        "id": "MrnficzNnNNz",
        "outputId": "8f741e7b-6e58-4019-e820-6c1bd2ec3ed8"
      },
      "execution_count": null,
      "outputs": [
        {
          "output_type": "display_data",
          "data": {
            "text/plain": [
              "  bjkm                                \n",
              "1 Bouwjaar: 2020, Km.stand:  7.281 km \n",
              "2 Bouwjaar: 2015, Km.stand:  26.120 km\n",
              "3 Bouwjaar: 2020, Km.stand:  9.480 km \n",
              "4 Bouwjaar: 2018, Km.stand:  44.398 km\n",
              "5 Bouwjaar: 2020, Km.stand:  13.232 km\n",
              "6 Bouwjaar: 2018, Km.stand:  35.311 km\n",
              "7 Bouwjaar: 2014, Km.stand:  75.633 km\n",
              "  beschr                                                                  \n",
              "1 Benzine, 1199cc, 96kW, Automaat, SUV / Terreinwagen, Rood, 5-deurs      \n",
              "2 Benzine, 1242cc, 51kW, Handgeschakeld, Hatchback, Wit, 3-deurs          \n",
              "3 Hybride, 1969cc, 223kW, Automaat, Stationwagon, Blauw, 5-deurs          \n",
              "4 Benzine, 998cc, 73kW, Handgeschakeld, SUV / Terreinwagen, Grijs, 5-deurs\n",
              "5 Hybride, 1969cc, 287kW, Automaat, SUV / Terreinwagen, Zwart, 5-deurs    \n",
              "6 Hybride, 1798cc, 90kW, Automaat, SUV / Terreinwagen, Wit, 5-deurs       \n",
              "7 Benzine, 1197cc, 81kW, Automaat, MPV, Blauw, 5-deurs                    \n",
              "  prijs   \n",
              "1 € 26.950\n",
              "2 € 9.750 \n",
              "3 € 53.900\n",
              "4 € 15.750\n",
              "5 € 79.950\n",
              "6 € 24.900\n",
              "7 € 15.199\n",
              "  titel                                                                                                                                                                                                                                                                                                      \n",
              "1 Citroën C3 Aircross - 1.2 PureTech S&S Shine / AUTOMAAT / Navigatie / AchteruitrijBouwjaar: 2020, Km.stand:  7.281 kmBenzine, 1199cc, 96kW, Automaat, SUV / Terreinwagen, Rood, 5-deurs Rotterdam (ZH)Bron: Dealer Site, AutoTrack, AutoWereld.nl, De Autofinancier, Bynco                                 \n",
              "2 Fiat 500 - 1.2 Lounge 70PK | UR45559 | Parkeersensoren (A) | Airco | LiBouwjaar: 2015, Km.stand:  26.120 kmBenzine, 1242cc, 51kW, Handgeschakeld, Hatchback, Wit, 3-deurs Utrecht (UT)Bron: Dealer Site, AutoTrack, AutoWereld.nl                                                                          \n",
              "3 Volvo V60 - T8 Twin Engine Inscription, IntelliSafe, Winter, Scandinav.,Bouwjaar: 2020, Km.stand:  9.480 kmHybride, 1969cc, 223kW, Automaat, Stationwagon, Blauw, 5-deursHarrie Arendsen Hengelo BV Hengelo Ov (OV)Bron: Dealer Site, AutoTrack, AutoWereld.nl, Volvo, financiallease.nl, ANWB.nl          \n",
              "4 Ford EcoSport - 1.0 EB Trend Ess. navigatie, aircoBouwjaar: 2018, Km.stand:  44.398 kmBenzine, 998cc, 73kW, Handgeschakeld, SUV / Terreinwagen, Grijs, 5-deurs Wijnjewoude (FR)Bron: Dealer Site, AutoTrack, AutoWereld.nl                                                                                 \n",
              "5 Volvo XC90 - T8 Twin Engine AWD Inscription 21\" LMV / 360 Camera / TrekhaBouwjaar: 2020, Km.stand:  13.232 kmHybride, 1969cc, 287kW, Automaat, SUV / Terreinwagen, Zwart, 5-deursVolvo Ton van Kuyk Alkmaar B.V. Alkmaar (NH)Bron: Dealer Site, AutoTrack, AutoWereld.nl, Volvo                            \n",
              "6 Toyota C-HR - 1.8 Hybrid Style Navigatie AutomaatBouwjaar: 2018, Km.stand:  35.311 kmHybride, 1798cc, 90kW, Automaat, SUV / Terreinwagen, Wit, 5-deursAutobedrijf Gebr. van Gent Ede Ede (GE)Bron: Dealer Site, AutoTrack, viaBOVAG.nl, AutoWereld.nl, Toyota.nl                                           \n",
              "7 Volkswagen Golf Sportsvan - 1.2 TSI Comfortline | Automaat | Trekhaak | Climate controlBouwjaar: 2014, Km.stand:  75.633 kmBenzine, 1197cc, 81kW, Automaat, MPV, Blauw, 5-deurs Wekerom (GE)Bron: Dealer Site, AutoTrack, AutoWereld.nl, ROS finance, Bynco, Vakgarage.nl, Financial Lease For You, ANWB.nl"
            ],
            "text/latex": "A data.frame: 7 × 4\n\\begin{tabular}{r|llll}\n  & bjkm & beschr & prijs & titel\\\\\n  & <chr> & <chr> & <chr> & <chr>\\\\\n\\hline\n\t1 & Bouwjaar: 2020, Km.stand:  7.281 km  & Benzine, 1199cc, 96kW, Automaat, SUV / Terreinwagen, Rood, 5-deurs       & € 26.950 & Citroën C3 Aircross - 1.2 PureTech S\\&S Shine / AUTOMAAT / Navigatie / AchteruitrijBouwjaar: 2020, Km.stand:  7.281 kmBenzine, 1199cc, 96kW, Automaat, SUV / Terreinwagen, Rood, 5-deurs Rotterdam (ZH)Bron: Dealer Site, AutoTrack, AutoWereld.nl, De Autofinancier, Bynco                                 \\\\\n\t2 & Bouwjaar: 2015, Km.stand:  26.120 km & Benzine, 1242cc, 51kW, Handgeschakeld, Hatchback, Wit, 3-deurs           & € 9.750  & Fiat 500 - 1.2 Lounge 70PK \\textbar{} UR45559 \\textbar{} Parkeersensoren (A) \\textbar{} Airco \\textbar{} LiBouwjaar: 2015, Km.stand:  26.120 kmBenzine, 1242cc, 51kW, Handgeschakeld, Hatchback, Wit, 3-deurs Utrecht (UT)Bron: Dealer Site, AutoTrack, AutoWereld.nl                                                                          \\\\\n\t3 & Bouwjaar: 2020, Km.stand:  9.480 km  & Hybride, 1969cc, 223kW, Automaat, Stationwagon, Blauw, 5-deurs           & € 53.900 & Volvo V60 - T8 Twin Engine Inscription, IntelliSafe, Winter, Scandinav.,Bouwjaar: 2020, Km.stand:  9.480 kmHybride, 1969cc, 223kW, Automaat, Stationwagon, Blauw, 5-deursHarrie Arendsen Hengelo BV Hengelo Ov (OV)Bron: Dealer Site, AutoTrack, AutoWereld.nl, Volvo, financiallease.nl, ANWB.nl          \\\\\n\t4 & Bouwjaar: 2018, Km.stand:  44.398 km & Benzine, 998cc, 73kW, Handgeschakeld, SUV / Terreinwagen, Grijs, 5-deurs & € 15.750 & Ford EcoSport - 1.0 EB Trend Ess. navigatie, aircoBouwjaar: 2018, Km.stand:  44.398 kmBenzine, 998cc, 73kW, Handgeschakeld, SUV / Terreinwagen, Grijs, 5-deurs Wijnjewoude (FR)Bron: Dealer Site, AutoTrack, AutoWereld.nl                                                                                 \\\\\n\t5 & Bouwjaar: 2020, Km.stand:  13.232 km & Hybride, 1969cc, 287kW, Automaat, SUV / Terreinwagen, Zwart, 5-deurs     & € 79.950 & Volvo XC90 - T8 Twin Engine AWD Inscription 21\" LMV / 360 Camera / TrekhaBouwjaar: 2020, Km.stand:  13.232 kmHybride, 1969cc, 287kW, Automaat, SUV / Terreinwagen, Zwart, 5-deursVolvo Ton van Kuyk Alkmaar B.V. Alkmaar (NH)Bron: Dealer Site, AutoTrack, AutoWereld.nl, Volvo                            \\\\\n\t6 & Bouwjaar: 2018, Km.stand:  35.311 km & Hybride, 1798cc, 90kW, Automaat, SUV / Terreinwagen, Wit, 5-deurs        & € 24.900 & Toyota C-HR - 1.8 Hybrid Style Navigatie AutomaatBouwjaar: 2018, Km.stand:  35.311 kmHybride, 1798cc, 90kW, Automaat, SUV / Terreinwagen, Wit, 5-deursAutobedrijf Gebr. van Gent Ede Ede (GE)Bron: Dealer Site, AutoTrack, viaBOVAG.nl, AutoWereld.nl, Toyota.nl                                           \\\\\n\t7 & Bouwjaar: 2014, Km.stand:  75.633 km & Benzine, 1197cc, 81kW, Automaat, MPV, Blauw, 5-deurs                     & € 15.199 & Volkswagen Golf Sportsvan - 1.2 TSI Comfortline \\textbar{} Automaat \\textbar{} Trekhaak \\textbar{} Climate controlBouwjaar: 2014, Km.stand:  75.633 kmBenzine, 1197cc, 81kW, Automaat, MPV, Blauw, 5-deurs Wekerom (GE)Bron: Dealer Site, AutoTrack, AutoWereld.nl, ROS finance, Bynco, Vakgarage.nl, Financial Lease For You, ANWB.nl\\\\\n\\end{tabular}\n",
            "text/markdown": "\nA data.frame: 7 × 4\n\n| <!--/--> | bjkm &lt;chr&gt; | beschr &lt;chr&gt; | prijs &lt;chr&gt; | titel &lt;chr&gt; |\n|---|---|---|---|---|\n| 1 | Bouwjaar: 2020, Km.stand:  7.281 km  | Benzine, 1199cc, 96kW, Automaat, SUV / Terreinwagen, Rood, 5-deurs       | € 26.950 | Citroën C3 Aircross - 1.2 PureTech S&amp;S Shine / AUTOMAAT / Navigatie / AchteruitrijBouwjaar: 2020, Km.stand:  7.281 kmBenzine, 1199cc, 96kW, Automaat, SUV / Terreinwagen, Rood, 5-deurs Rotterdam (ZH)Bron: Dealer Site, AutoTrack, AutoWereld.nl, De Autofinancier, Bynco                                  |\n| 2 | Bouwjaar: 2015, Km.stand:  26.120 km | Benzine, 1242cc, 51kW, Handgeschakeld, Hatchback, Wit, 3-deurs           | € 9.750  | Fiat 500 - 1.2 Lounge 70PK | UR45559 | Parkeersensoren (A) | Airco | LiBouwjaar: 2015, Km.stand:  26.120 kmBenzine, 1242cc, 51kW, Handgeschakeld, Hatchback, Wit, 3-deurs Utrecht (UT)Bron: Dealer Site, AutoTrack, AutoWereld.nl                                                                           |\n| 3 | Bouwjaar: 2020, Km.stand:  9.480 km  | Hybride, 1969cc, 223kW, Automaat, Stationwagon, Blauw, 5-deurs           | € 53.900 | Volvo V60 - T8 Twin Engine Inscription, IntelliSafe, Winter, Scandinav.,Bouwjaar: 2020, Km.stand:  9.480 kmHybride, 1969cc, 223kW, Automaat, Stationwagon, Blauw, 5-deursHarrie Arendsen Hengelo BV Hengelo Ov (OV)Bron: Dealer Site, AutoTrack, AutoWereld.nl, Volvo, financiallease.nl, ANWB.nl           |\n| 4 | Bouwjaar: 2018, Km.stand:  44.398 km | Benzine, 998cc, 73kW, Handgeschakeld, SUV / Terreinwagen, Grijs, 5-deurs | € 15.750 | Ford EcoSport - 1.0 EB Trend Ess. navigatie, aircoBouwjaar: 2018, Km.stand:  44.398 kmBenzine, 998cc, 73kW, Handgeschakeld, SUV / Terreinwagen, Grijs, 5-deurs Wijnjewoude (FR)Bron: Dealer Site, AutoTrack, AutoWereld.nl                                                                                  |\n| 5 | Bouwjaar: 2020, Km.stand:  13.232 km | Hybride, 1969cc, 287kW, Automaat, SUV / Terreinwagen, Zwart, 5-deurs     | € 79.950 | Volvo XC90 - T8 Twin Engine AWD Inscription 21\" LMV / 360 Camera / TrekhaBouwjaar: 2020, Km.stand:  13.232 kmHybride, 1969cc, 287kW, Automaat, SUV / Terreinwagen, Zwart, 5-deursVolvo Ton van Kuyk Alkmaar B.V. Alkmaar (NH)Bron: Dealer Site, AutoTrack, AutoWereld.nl, Volvo                             |\n| 6 | Bouwjaar: 2018, Km.stand:  35.311 km | Hybride, 1798cc, 90kW, Automaat, SUV / Terreinwagen, Wit, 5-deurs        | € 24.900 | Toyota C-HR - 1.8 Hybrid Style Navigatie AutomaatBouwjaar: 2018, Km.stand:  35.311 kmHybride, 1798cc, 90kW, Automaat, SUV / Terreinwagen, Wit, 5-deursAutobedrijf Gebr. van Gent Ede Ede (GE)Bron: Dealer Site, AutoTrack, viaBOVAG.nl, AutoWereld.nl, Toyota.nl                                            |\n| 7 | Bouwjaar: 2014, Km.stand:  75.633 km | Benzine, 1197cc, 81kW, Automaat, MPV, Blauw, 5-deurs                     | € 15.199 | Volkswagen Golf Sportsvan - 1.2 TSI Comfortline | Automaat | Trekhaak | Climate controlBouwjaar: 2014, Km.stand:  75.633 kmBenzine, 1197cc, 81kW, Automaat, MPV, Blauw, 5-deurs Wekerom (GE)Bron: Dealer Site, AutoTrack, AutoWereld.nl, ROS finance, Bynco, Vakgarage.nl, Financial Lease For You, ANWB.nl |\n\n",
            "text/html": [
              "<table class=\"dataframe\">\n",
              "<caption>A data.frame: 7 × 4</caption>\n",
              "<thead>\n",
              "\t<tr><th></th><th scope=col>bjkm</th><th scope=col>beschr</th><th scope=col>prijs</th><th scope=col>titel</th></tr>\n",
              "\t<tr><th></th><th scope=col>&lt;chr&gt;</th><th scope=col>&lt;chr&gt;</th><th scope=col>&lt;chr&gt;</th><th scope=col>&lt;chr&gt;</th></tr>\n",
              "</thead>\n",
              "<tbody>\n",
              "\t<tr><th scope=row>1</th><td><span style=white-space:pre-wrap>Bouwjaar: 2020, Km.stand:  7.281 km </span></td><td><span style=white-space:pre-wrap>Benzine, 1199cc, 96kW, Automaat, SUV / Terreinwagen, Rood, 5-deurs      </span></td><td>€ 26.950</td><td><span style=white-space:pre-wrap>Citroën C3 Aircross - 1.2 PureTech S&amp;S Shine / AUTOMAAT / Navigatie / AchteruitrijBouwjaar: 2020, Km.stand:  7.281 kmBenzine, 1199cc, 96kW, Automaat, SUV / Terreinwagen, Rood, 5-deurs Rotterdam (ZH)Bron: Dealer Site, AutoTrack, AutoWereld.nl, De Autofinancier, Bynco                                 </span></td></tr>\n",
              "\t<tr><th scope=row>2</th><td>Bouwjaar: 2015, Km.stand:  26.120 km</td><td>Benzine, 1242cc, 51kW, Handgeschakeld, Hatchback, Wit, 3-deurs          </td><td>€ 9.750 </td><td>Fiat 500 - 1.2 Lounge 70PK | UR45559 | Parkeersensoren (A) | Airco | LiBouwjaar: 2015, Km.stand:  26.120 kmBenzine, 1242cc, 51kW, Handgeschakeld, Hatchback, Wit, 3-deurs Utrecht (UT)Bron: Dealer Site, AutoTrack, AutoWereld.nl                                                                          </td></tr>\n",
              "\t<tr><th scope=row>3</th><td>Bouwjaar: 2020, Km.stand:  9.480 km </td><td>Hybride, 1969cc, 223kW, Automaat, Stationwagon, Blauw, 5-deurs          </td><td>€ 53.900</td><td>Volvo V60 - T8 Twin Engine Inscription, IntelliSafe, Winter, Scandinav.,Bouwjaar: 2020, Km.stand:  9.480 kmHybride, 1969cc, 223kW, Automaat, Stationwagon, Blauw, 5-deursHarrie Arendsen Hengelo BV Hengelo Ov (OV)Bron: Dealer Site, AutoTrack, AutoWereld.nl, Volvo, financiallease.nl, ANWB.nl          </td></tr>\n",
              "\t<tr><th scope=row>4</th><td>Bouwjaar: 2018, Km.stand:  44.398 km</td><td>Benzine, 998cc, 73kW, Handgeschakeld, SUV / Terreinwagen, Grijs, 5-deurs</td><td>€ 15.750</td><td>Ford EcoSport - 1.0 EB Trend Ess. navigatie, aircoBouwjaar: 2018, Km.stand:  44.398 kmBenzine, 998cc, 73kW, Handgeschakeld, SUV / Terreinwagen, Grijs, 5-deurs Wijnjewoude (FR)Bron: Dealer Site, AutoTrack, AutoWereld.nl                                                                                 </td></tr>\n",
              "\t<tr><th scope=row>5</th><td>Bouwjaar: 2020, Km.stand:  13.232 km</td><td>Hybride, 1969cc, 287kW, Automaat, SUV / Terreinwagen, Zwart, 5-deurs    </td><td>€ 79.950</td><td>Volvo XC90 - T8 Twin Engine AWD Inscription 21\" LMV / 360 Camera / TrekhaBouwjaar: 2020, Km.stand:  13.232 kmHybride, 1969cc, 287kW, Automaat, SUV / Terreinwagen, Zwart, 5-deursVolvo Ton van Kuyk Alkmaar B.V. Alkmaar (NH)Bron: Dealer Site, AutoTrack, AutoWereld.nl, Volvo                            </td></tr>\n",
              "\t<tr><th scope=row>6</th><td>Bouwjaar: 2018, Km.stand:  35.311 km</td><td>Hybride, 1798cc, 90kW, Automaat, SUV / Terreinwagen, Wit, 5-deurs       </td><td>€ 24.900</td><td>Toyota C-HR - 1.8 Hybrid Style Navigatie AutomaatBouwjaar: 2018, Km.stand:  35.311 kmHybride, 1798cc, 90kW, Automaat, SUV / Terreinwagen, Wit, 5-deursAutobedrijf Gebr. van Gent Ede Ede (GE)Bron: Dealer Site, AutoTrack, viaBOVAG.nl, AutoWereld.nl, Toyota.nl                                           </td></tr>\n",
              "\t<tr><th scope=row>7</th><td>Bouwjaar: 2014, Km.stand:  75.633 km</td><td>Benzine, 1197cc, 81kW, Automaat, MPV, Blauw, 5-deurs                    </td><td>€ 15.199</td><td>Volkswagen Golf Sportsvan - 1.2 TSI Comfortline | Automaat | Trekhaak | Climate controlBouwjaar: 2014, Km.stand:  75.633 kmBenzine, 1197cc, 81kW, Automaat, MPV, Blauw, 5-deurs Wekerom (GE)Bron: Dealer Site, AutoTrack, AutoWereld.nl, ROS finance, Bynco, Vakgarage.nl, Financial Lease For You, ANWB.nl</td></tr>\n",
              "</tbody>\n",
              "</table>\n"
            ]
          },
          "metadata": {}
        }
      ]
    },
    {
      "cell_type": "code",
      "source": [
        "autos = rawdata %>%\n",
        "  mutate(\n",
        "    vraagprijs = str_replace_all(prijs, \"€\",\"\") %>% str_replace(\"\\\\.\", \"\") %>% as.numeric(),\n",
        "  ) %>%\n",
        "  separate(\n",
        "    bjkm, \n",
        "    c(\"bouwjaar\", \"km_stand\"), \n",
        "    \",\"\n",
        "  ) %>%\n",
        "  separate(\n",
        "    beschr, \n",
        "    c(\"brandstof\", \"motorinhoud\", \"vermogen\", \"transmissie\", \"type\", \"kleur\",\"deur\"),\n",
        "    \",\"\n",
        "  ) %>%\n",
        "  separate(\n",
        "    titel, \n",
        "    c(\"merk\", \"model\"), \n",
        "    \" \"\n",
        "  ) "
      ],
      "metadata": {
        "id": "14gcZeC2nesC",
        "colab": {
          "base_uri": "https://localhost:8080/"
        },
        "outputId": "35ea9cc0-adff-4b90-8ebe-8ab27bc7b262"
      },
      "execution_count": null,
      "outputs": [
        {
          "output_type": "stream",
          "name": "stderr",
          "text": [
            "Warning message:\n",
            "“Expected 7 pieces. Additional pieces discarded in 14 rows [67557, 77944, 89490, 89686, 102988, 103123, 103130, 103136, 103137, 103139, 103141, 103924, 197469, 224620].”\n",
            "Warning message:\n",
            "“Expected 7 pieces. Missing pieces filled with `NA` in 29761 rows [14, 22, 29, 51, 61, 66, 67, 68, 78, 111, 125, 145, 176, 195, 208, 230, 231, 237, 241, 243, ...].”\n",
            "Warning message:\n",
            "“Expected 2 pieces. Additional pieces discarded in 231000 rows [1, 2, 3, 4, 5, 6, 7, 8, 9, 10, 11, 12, 13, 14, 15, 16, 17, 18, 19, 20, ...].”\n"
          ]
        }
      ]
    },
    {
      "cell_type": "code",
      "source": [
        "autos =  autos %>% \n",
        "  mutate(\n",
        "    transmissie = str_trim(transmissie),\n",
        "    bouwjaar = str_replace(bouwjaar, \"Bouwjaar:\", \"\") %>% as.numeric(),\n",
        "    km_stand = str_replace(km_stand, \"Km.stand:\", \"\") %>% str_replace(\"\\\\.\", \"\") %>% str_replace(\"km\", \"\") %>% as.numeric()\n",
        "  )"
      ],
      "metadata": {
        "id": "x9Hj5SkbxF9A"
      },
      "execution_count": null,
      "outputs": []
    },
    {
      "cell_type": "code",
      "source": [
        "autos = autos %>% \n",
        "  mutate(\n",
        "    deur = if_else(brandstof != 'Elektrisch' & is.na(deur), kleur, deur)\n",
        "  )"
      ],
      "metadata": {
        "id": "nZJJ7N4lMbnp"
      },
      "execution_count": null,
      "outputs": []
    },
    {
      "cell_type": "code",
      "source": [
        "sample_n(autos,10)"
      ],
      "metadata": {
        "colab": {
          "base_uri": "https://localhost:8080/",
          "height": 412
        },
        "id": "Lyn_XoSwcf7z",
        "outputId": "4ba8d23d-8c7c-447d-c514-5d0b5f05677d"
      },
      "execution_count": null,
      "outputs": [
        {
          "output_type": "display_data",
          "data": {
            "text/plain": [
              "   bouwjaar km_stand brandstof  motorinhoud vermogen  transmissie       \n",
              "1  2013     297255   Diesel      2967cc      180kW    Automaat          \n",
              "2  2021          5   Elektrisch  258kW       Automaat SUV / Terreinwagen\n",
              "3  2021       6584   Benzine     1998cc      132kW    Automaat          \n",
              "4  2006     258463   Diesel      2461cc      96kW     Handgeschakeld    \n",
              "5  2021       1418   Benzine     1332cc      104kW    Handgeschakeld    \n",
              "6  2022         15   Diesel      1968cc      130kW    Handgeschakeld    \n",
              "7  2012     164436   Benzine     1242cc      51kW     Handgeschakeld    \n",
              "8  2004     218675   Diesel      2463cc      73kW     Handgeschakeld    \n",
              "9  2016     148377   LPG         5654cc      295kW    Automaat          \n",
              "10 2016     107848   Benzine     2953cc      224kW    Automaat          \n",
              "   type                kleur    deur     prijs    merk       model      \n",
              "1   Hatchback           Blauw    5-deurs € 15.945 Audi       A5         \n",
              "2   Rood                5-deurs NA       € 70.595 Ford       Mustang    \n",
              "3   SUV / Terreinwagen  Zwart    5-deurs € 51.795 BMW        X1         \n",
              "4   Bedrijfswagens      4-deurs  4-deurs € 5.950  Volkswagen Transporter\n",
              "5   SUV / Terreinwagen  Bruin    5-deurs € 29.949 Nissan     Qashqai    \n",
              "6   Bedrijfswagens      5-deurs  5-deurs € 39.365 Volkswagen Crafter    \n",
              "7   Hatchback           Zwart    3-deurs € 4.250  Ford       Ka         \n",
              "8   Bedrijfswagens      Wit      5-deurs € 4.950  Opel       Movano     \n",
              "9   Bedrijfswagens      Wit      4-deurs € 34.000 Dodge      Ram        \n",
              "10  Sedan               Grijs    5-deurs € 18.450 Volvo      S60        \n",
              "   vraagprijs\n",
              "1  15945     \n",
              "2  70595     \n",
              "3  51795     \n",
              "4   5950     \n",
              "5  29949     \n",
              "6  39365     \n",
              "7   4250     \n",
              "8   4950     \n",
              "9  34000     \n",
              "10 18450     "
            ],
            "text/latex": "A data.frame: 10 × 13\n\\begin{tabular}{lllllllllllll}\n bouwjaar & km\\_stand & brandstof & motorinhoud & vermogen & transmissie & type & kleur & deur & prijs & merk & model & vraagprijs\\\\\n <dbl> & <dbl> & <chr> & <chr> & <chr> & <chr> & <chr> & <chr> & <chr> & <chr> & <chr> & <chr> & <dbl>\\\\\n\\hline\n\t 2013 & 297255 & Diesel     &  2967cc &  180kW    & Automaat           &  Hatchback          &  Blauw   &  5-deurs & € 15.945 & Audi       & A5          & 15945\\\\\n\t 2021 &      5 & Elektrisch &  258kW  &  Automaat & SUV / Terreinwagen &  Rood               &  5-deurs & NA       & € 70.595 & Ford       & Mustang     & 70595\\\\\n\t 2021 &   6584 & Benzine    &  1998cc &  132kW    & Automaat           &  SUV / Terreinwagen &  Zwart   &  5-deurs & € 51.795 & BMW        & X1          & 51795\\\\\n\t 2006 & 258463 & Diesel     &  2461cc &  96kW     & Handgeschakeld     &  Bedrijfswagens     &  4-deurs &  4-deurs & € 5.950  & Volkswagen & Transporter &  5950\\\\\n\t 2021 &   1418 & Benzine    &  1332cc &  104kW    & Handgeschakeld     &  SUV / Terreinwagen &  Bruin   &  5-deurs & € 29.949 & Nissan     & Qashqai     & 29949\\\\\n\t 2022 &     15 & Diesel     &  1968cc &  130kW    & Handgeschakeld     &  Bedrijfswagens     &  5-deurs &  5-deurs & € 39.365 & Volkswagen & Crafter     & 39365\\\\\n\t 2012 & 164436 & Benzine    &  1242cc &  51kW     & Handgeschakeld     &  Hatchback          &  Zwart   &  3-deurs & € 4.250  & Ford       & Ka          &  4250\\\\\n\t 2004 & 218675 & Diesel     &  2463cc &  73kW     & Handgeschakeld     &  Bedrijfswagens     &  Wit     &  5-deurs & € 4.950  & Opel       & Movano      &  4950\\\\\n\t 2016 & 148377 & LPG        &  5654cc &  295kW    & Automaat           &  Bedrijfswagens     &  Wit     &  4-deurs & € 34.000 & Dodge      & Ram         & 34000\\\\\n\t 2016 & 107848 & Benzine    &  2953cc &  224kW    & Automaat           &  Sedan              &  Grijs   &  5-deurs & € 18.450 & Volvo      & S60         & 18450\\\\\n\\end{tabular}\n",
            "text/markdown": "\nA data.frame: 10 × 13\n\n| bouwjaar &lt;dbl&gt; | km_stand &lt;dbl&gt; | brandstof &lt;chr&gt; | motorinhoud &lt;chr&gt; | vermogen &lt;chr&gt; | transmissie &lt;chr&gt; | type &lt;chr&gt; | kleur &lt;chr&gt; | deur &lt;chr&gt; | prijs &lt;chr&gt; | merk &lt;chr&gt; | model &lt;chr&gt; | vraagprijs &lt;dbl&gt; |\n|---|---|---|---|---|---|---|---|---|---|---|---|---|\n| 2013 | 297255 | Diesel     |  2967cc |  180kW    | Automaat           |  Hatchback          |  Blauw   |  5-deurs | € 15.945 | Audi       | A5          | 15945 |\n| 2021 |      5 | Elektrisch |  258kW  |  Automaat | SUV / Terreinwagen |  Rood               |  5-deurs | NA       | € 70.595 | Ford       | Mustang     | 70595 |\n| 2021 |   6584 | Benzine    |  1998cc |  132kW    | Automaat           |  SUV / Terreinwagen |  Zwart   |  5-deurs | € 51.795 | BMW        | X1          | 51795 |\n| 2006 | 258463 | Diesel     |  2461cc |  96kW     | Handgeschakeld     |  Bedrijfswagens     |  4-deurs |  4-deurs | € 5.950  | Volkswagen | Transporter |  5950 |\n| 2021 |   1418 | Benzine    |  1332cc |  104kW    | Handgeschakeld     |  SUV / Terreinwagen |  Bruin   |  5-deurs | € 29.949 | Nissan     | Qashqai     | 29949 |\n| 2022 |     15 | Diesel     |  1968cc |  130kW    | Handgeschakeld     |  Bedrijfswagens     |  5-deurs |  5-deurs | € 39.365 | Volkswagen | Crafter     | 39365 |\n| 2012 | 164436 | Benzine    |  1242cc |  51kW     | Handgeschakeld     |  Hatchback          |  Zwart   |  3-deurs | € 4.250  | Ford       | Ka          |  4250 |\n| 2004 | 218675 | Diesel     |  2463cc |  73kW     | Handgeschakeld     |  Bedrijfswagens     |  Wit     |  5-deurs | € 4.950  | Opel       | Movano      |  4950 |\n| 2016 | 148377 | LPG        |  5654cc |  295kW    | Automaat           |  Bedrijfswagens     |  Wit     |  4-deurs | € 34.000 | Dodge      | Ram         | 34000 |\n| 2016 | 107848 | Benzine    |  2953cc |  224kW    | Automaat           |  Sedan              |  Grijs   |  5-deurs | € 18.450 | Volvo      | S60         | 18450 |\n\n",
            "text/html": [
              "<table class=\"dataframe\">\n",
              "<caption>A data.frame: 10 × 13</caption>\n",
              "<thead>\n",
              "\t<tr><th scope=col>bouwjaar</th><th scope=col>km_stand</th><th scope=col>brandstof</th><th scope=col>motorinhoud</th><th scope=col>vermogen</th><th scope=col>transmissie</th><th scope=col>type</th><th scope=col>kleur</th><th scope=col>deur</th><th scope=col>prijs</th><th scope=col>merk</th><th scope=col>model</th><th scope=col>vraagprijs</th></tr>\n",
              "\t<tr><th scope=col>&lt;dbl&gt;</th><th scope=col>&lt;dbl&gt;</th><th scope=col>&lt;chr&gt;</th><th scope=col>&lt;chr&gt;</th><th scope=col>&lt;chr&gt;</th><th scope=col>&lt;chr&gt;</th><th scope=col>&lt;chr&gt;</th><th scope=col>&lt;chr&gt;</th><th scope=col>&lt;chr&gt;</th><th scope=col>&lt;chr&gt;</th><th scope=col>&lt;chr&gt;</th><th scope=col>&lt;chr&gt;</th><th scope=col>&lt;dbl&gt;</th></tr>\n",
              "</thead>\n",
              "<tbody>\n",
              "\t<tr><td>2013</td><td>297255</td><td>Diesel    </td><td> 2967cc</td><td> 180kW   </td><td>Automaat          </td><td> Hatchback         </td><td> Blauw  </td><td> 5-deurs</td><td>€ 15.945</td><td>Audi      </td><td>A5         </td><td>15945</td></tr>\n",
              "\t<tr><td>2021</td><td>     5</td><td>Elektrisch</td><td> 258kW </td><td> Automaat</td><td>SUV / Terreinwagen</td><td> Rood              </td><td> 5-deurs</td><td>NA      </td><td>€ 70.595</td><td>Ford      </td><td>Mustang    </td><td>70595</td></tr>\n",
              "\t<tr><td>2021</td><td>  6584</td><td>Benzine   </td><td> 1998cc</td><td> 132kW   </td><td>Automaat          </td><td> SUV / Terreinwagen</td><td> Zwart  </td><td> 5-deurs</td><td>€ 51.795</td><td>BMW       </td><td>X1         </td><td>51795</td></tr>\n",
              "\t<tr><td>2006</td><td>258463</td><td>Diesel    </td><td> 2461cc</td><td> 96kW    </td><td>Handgeschakeld    </td><td> Bedrijfswagens    </td><td> 4-deurs</td><td> 4-deurs</td><td>€ 5.950 </td><td>Volkswagen</td><td>Transporter</td><td> 5950</td></tr>\n",
              "\t<tr><td>2021</td><td>  1418</td><td>Benzine   </td><td> 1332cc</td><td> 104kW   </td><td>Handgeschakeld    </td><td> SUV / Terreinwagen</td><td> Bruin  </td><td> 5-deurs</td><td>€ 29.949</td><td>Nissan    </td><td>Qashqai    </td><td>29949</td></tr>\n",
              "\t<tr><td>2022</td><td>    15</td><td>Diesel    </td><td> 1968cc</td><td> 130kW   </td><td>Handgeschakeld    </td><td> Bedrijfswagens    </td><td> 5-deurs</td><td> 5-deurs</td><td>€ 39.365</td><td>Volkswagen</td><td>Crafter    </td><td>39365</td></tr>\n",
              "\t<tr><td>2012</td><td>164436</td><td>Benzine   </td><td> 1242cc</td><td> 51kW    </td><td>Handgeschakeld    </td><td> Hatchback         </td><td> Zwart  </td><td> 3-deurs</td><td>€ 4.250 </td><td>Ford      </td><td>Ka         </td><td> 4250</td></tr>\n",
              "\t<tr><td>2004</td><td>218675</td><td>Diesel    </td><td> 2463cc</td><td> 73kW    </td><td>Handgeschakeld    </td><td> Bedrijfswagens    </td><td> Wit    </td><td> 5-deurs</td><td>€ 4.950 </td><td>Opel      </td><td>Movano     </td><td> 4950</td></tr>\n",
              "\t<tr><td>2016</td><td>148377</td><td>LPG       </td><td> 5654cc</td><td> 295kW   </td><td>Automaat          </td><td> Bedrijfswagens    </td><td> Wit    </td><td> 4-deurs</td><td>€ 34.000</td><td>Dodge     </td><td>Ram        </td><td>34000</td></tr>\n",
              "\t<tr><td>2016</td><td>107848</td><td>Benzine   </td><td> 2953cc</td><td> 224kW   </td><td>Automaat          </td><td> Sedan             </td><td> Grijs  </td><td> 5-deurs</td><td>€ 18.450</td><td>Volvo     </td><td>S60        </td><td>18450</td></tr>\n",
              "</tbody>\n",
              "</table>\n"
            ]
          },
          "metadata": {}
        }
      ]
    },
    {
      "cell_type": "code",
      "source": [
        "### electrische autos hebben geen motorinhoud en vermogen\n",
        "EV = autos %>% filter(brandstof ==\"Elektrisch\")"
      ],
      "metadata": {
        "id": "KCqymS4gNa6p"
      },
      "execution_count": null,
      "outputs": []
    },
    {
      "cell_type": "code",
      "source": [
        "EV2 = EV %>% \n",
        "  mutate(\n",
        "    deur = if_else(is.na(EV$kleur), type, kleur),\n",
        "    kleur = if_else(is.na(EV$kleur), transmissie, type),\n",
        "    type = if_else(is.na(EV$kleur), vermogen, transmissie),\n",
        "    transmissie = \"Automaat\",\n",
        "    vermogen = if_else(is.na(EV$kleur), \"NA\", motorinhoud),\n",
        "    motorinhoud = \"NA\"\n",
        "  )"
      ],
      "metadata": {
        "id": "TJWiyyMTdIBS"
      },
      "execution_count": null,
      "outputs": []
    },
    {
      "cell_type": "code",
      "source": [
        "autos_cleaned = rbind(\n",
        "  EV2,\n",
        "  autos %>% filter(brandstof !=\"Elektrisch\")\n",
        ")"
      ],
      "metadata": {
        "id": "8KNsd8TGgmC1"
      },
      "execution_count": null,
      "outputs": []
    },
    {
      "cell_type": "code",
      "source": [
        "sample_n(autos_cleaned,20)"
      ],
      "metadata": {
        "colab": {
          "base_uri": "https://localhost:8080/",
          "height": 725
        },
        "id": "aY_MoH1PhXbB",
        "outputId": "c7b18926-d332-4f2e-ca6a-b6fca29bf296"
      },
      "execution_count": null,
      "outputs": [
        {
          "output_type": "display_data",
          "data": {
            "text/plain": [
              "   bouwjaar km_stand brandstof  motorinhoud vermogen transmissie   \n",
              "1  2017     109435   Benzine     1499cc      100kW   Handgeschakeld\n",
              "2  2018      12025   Elektrisch NA          NA       Automaat      \n",
              "3  2016     138552   Diesel      1461cc      66kW    Handgeschakeld\n",
              "4  2012     180274   Diesel      2400cc      158kW   Automaat      \n",
              "5  2021      10763   Benzine     1498cc      110kW   Automaat      \n",
              "6  2021         10   Benzine     999cc       82kW    Handgeschakeld\n",
              "7  2021          1   Elektrisch NA           150kW   Automaat      \n",
              "8  2017      73844   Hybride     1798cc      73kW    Automaat      \n",
              "9  2015     110000   Benzine     1598cc      90kW    Handgeschakeld\n",
              "10 2015     250759   Diesel      1995cc      120kW   Automaat      \n",
              "11 2019      37105   Benzine     1498cc      88kW    Handgeschakeld\n",
              "12 2014      95325   Benzine     1798cc      108kW   Handgeschakeld\n",
              "13 2015     119281   Benzine     999cc       85kW    Automaat      \n",
              "14 2022         10   Benzine     1998cc      132kW   Automaat      \n",
              "15 2017      38972   Benzine     998cc       51kW    Handgeschakeld\n",
              "16 2020      21284   Benzine     1332cc      110kW   Automaat      \n",
              "17 2021      12266   Benzine     1498cc      110kW   Automaat      \n",
              "18 2021          5   Hybride     1600cc      225kW   Automaat      \n",
              "19 2010     202424   Benzine     1598cc      88kW    Handgeschakeld\n",
              "20 2021       4000   Elektrisch NA           248kW   Automaat      \n",
              "   type                kleur  deur     prijs    merk       model     \n",
              "1   SUV / Terreinwagen  Blauw  5-deurs € 21.950 MINI       Countryman\n",
              "2   Hatchback          Grijs   5-deurs € 15.944 Volkswagen e-Up!     \n",
              "3   Bedrijfswagens      Wit    5-deurs € 7.400  Renault    Kangoo    \n",
              "4   Stationwagon        Blauw  5-deurs € 14.900 Volvo      V60       \n",
              "5   SUV / Terreinwagen  Blauw  5-deurs € 37.888 Volkswagen T-Roc     \n",
              "6   SUV / Terreinwagen  Grijs  5-deurs € 34.190 Volkswagen T-Roc     \n",
              "7  SUV / Terreinwagen   Grijs  5-deurs € 57.950 Volkswagen ID.4      \n",
              "8   Stationwagon        Grijs  5-deurs € 17.440 Toyota     Auris     \n",
              "9   Cabriolet           Bruin  2-deurs € 17.000 MINI       Cooper    \n",
              "10  Stationwagon        Wit    5-deurs € 14.450 BMW        3-serie   \n",
              "11  SUV / Terreinwagen  Zwart  5-deurs € 22.995 Ford       Kuga      \n",
              "12  MPV                 Blauw  5-deurs € 15.950 Toyota     Verso     \n",
              "13  Hatchback           Grijs  5-deurs € 14.950 Volkswagen Golf      \n",
              "14  Hatchback           Zwart  3-deurs € 48.175 MINI       Cooper    \n",
              "15  Hatchback           Grijs  5-deurs € 13.400 Toyota     Yaris     \n",
              "16  SUV / Terreinwagen  Blauw  5-deurs € 26.950 Fiat       500X      \n",
              "17  SUV / Terreinwagen  Wit    5-deurs € 34.850 Volkswagen T-Roc     \n",
              "18  SUV / Terreinwagen  Wit    5-deurs € 48.606 DS         DS        \n",
              "19  Stationwagon        Grijs  4-deurs € 4.950  Peugeot    3008      \n",
              "20 SUV / Terreinwagen   Blauw  5-deurs € 70.490 Ford       Mustang   \n",
              "   vraagprijs\n",
              "1  21950     \n",
              "2  15944     \n",
              "3   7400     \n",
              "4  14900     \n",
              "5  37888     \n",
              "6  34190     \n",
              "7  57950     \n",
              "8  17440     \n",
              "9  17000     \n",
              "10 14450     \n",
              "11 22995     \n",
              "12 15950     \n",
              "13 14950     \n",
              "14 48175     \n",
              "15 13400     \n",
              "16 26950     \n",
              "17 34850     \n",
              "18 48606     \n",
              "19  4950     \n",
              "20 70490     "
            ],
            "text/latex": "A data.frame: 20 × 13\n\\begin{tabular}{lllllllllllll}\n bouwjaar & km\\_stand & brandstof & motorinhoud & vermogen & transmissie & type & kleur & deur & prijs & merk & model & vraagprijs\\\\\n <dbl> & <dbl> & <chr> & <chr> & <chr> & <chr> & <chr> & <chr> & <chr> & <chr> & <chr> & <chr> & <dbl>\\\\\n\\hline\n\t 2017 & 109435 & Benzine    &  1499cc &  100kW & Handgeschakeld &  SUV / Terreinwagen &  Blauw &  5-deurs & € 21.950 & MINI       & Countryman & 21950\\\\\n\t 2018 &  12025 & Elektrisch & NA      & NA     & Automaat       &  Hatchback          & Grijs  &  5-deurs & € 15.944 & Volkswagen & e-Up!      & 15944\\\\\n\t 2016 & 138552 & Diesel     &  1461cc &  66kW  & Handgeschakeld &  Bedrijfswagens     &  Wit   &  5-deurs & € 7.400  & Renault    & Kangoo     &  7400\\\\\n\t 2012 & 180274 & Diesel     &  2400cc &  158kW & Automaat       &  Stationwagon       &  Blauw &  5-deurs & € 14.900 & Volvo      & V60        & 14900\\\\\n\t 2021 &  10763 & Benzine    &  1498cc &  110kW & Automaat       &  SUV / Terreinwagen &  Blauw &  5-deurs & € 37.888 & Volkswagen & T-Roc      & 37888\\\\\n\t 2021 &     10 & Benzine    &  999cc  &  82kW  & Handgeschakeld &  SUV / Terreinwagen &  Grijs &  5-deurs & € 34.190 & Volkswagen & T-Roc      & 34190\\\\\n\t 2021 &      1 & Elektrisch & NA      &  150kW & Automaat       & SUV / Terreinwagen  &  Grijs &  5-deurs & € 57.950 & Volkswagen & ID.4       & 57950\\\\\n\t 2017 &  73844 & Hybride    &  1798cc &  73kW  & Automaat       &  Stationwagon       &  Grijs &  5-deurs & € 17.440 & Toyota     & Auris      & 17440\\\\\n\t 2015 & 110000 & Benzine    &  1598cc &  90kW  & Handgeschakeld &  Cabriolet          &  Bruin &  2-deurs & € 17.000 & MINI       & Cooper     & 17000\\\\\n\t 2015 & 250759 & Diesel     &  1995cc &  120kW & Automaat       &  Stationwagon       &  Wit   &  5-deurs & € 14.450 & BMW        & 3-serie    & 14450\\\\\n\t 2019 &  37105 & Benzine    &  1498cc &  88kW  & Handgeschakeld &  SUV / Terreinwagen &  Zwart &  5-deurs & € 22.995 & Ford       & Kuga       & 22995\\\\\n\t 2014 &  95325 & Benzine    &  1798cc &  108kW & Handgeschakeld &  MPV                &  Blauw &  5-deurs & € 15.950 & Toyota     & Verso      & 15950\\\\\n\t 2015 & 119281 & Benzine    &  999cc  &  85kW  & Automaat       &  Hatchback          &  Grijs &  5-deurs & € 14.950 & Volkswagen & Golf       & 14950\\\\\n\t 2022 &     10 & Benzine    &  1998cc &  132kW & Automaat       &  Hatchback          &  Zwart &  3-deurs & € 48.175 & MINI       & Cooper     & 48175\\\\\n\t 2017 &  38972 & Benzine    &  998cc  &  51kW  & Handgeschakeld &  Hatchback          &  Grijs &  5-deurs & € 13.400 & Toyota     & Yaris      & 13400\\\\\n\t 2020 &  21284 & Benzine    &  1332cc &  110kW & Automaat       &  SUV / Terreinwagen &  Blauw &  5-deurs & € 26.950 & Fiat       & 500X       & 26950\\\\\n\t 2021 &  12266 & Benzine    &  1498cc &  110kW & Automaat       &  SUV / Terreinwagen &  Wit   &  5-deurs & € 34.850 & Volkswagen & T-Roc      & 34850\\\\\n\t 2021 &      5 & Hybride    &  1600cc &  225kW & Automaat       &  SUV / Terreinwagen &  Wit   &  5-deurs & € 48.606 & DS         & DS         & 48606\\\\\n\t 2010 & 202424 & Benzine    &  1598cc &  88kW  & Handgeschakeld &  Stationwagon       &  Grijs &  4-deurs & € 4.950  & Peugeot    & 3008       &  4950\\\\\n\t 2021 &   4000 & Elektrisch & NA      &  248kW & Automaat       & SUV / Terreinwagen  &  Blauw &  5-deurs & € 70.490 & Ford       & Mustang    & 70490\\\\\n\\end{tabular}\n",
            "text/markdown": "\nA data.frame: 20 × 13\n\n| bouwjaar &lt;dbl&gt; | km_stand &lt;dbl&gt; | brandstof &lt;chr&gt; | motorinhoud &lt;chr&gt; | vermogen &lt;chr&gt; | transmissie &lt;chr&gt; | type &lt;chr&gt; | kleur &lt;chr&gt; | deur &lt;chr&gt; | prijs &lt;chr&gt; | merk &lt;chr&gt; | model &lt;chr&gt; | vraagprijs &lt;dbl&gt; |\n|---|---|---|---|---|---|---|---|---|---|---|---|---|\n| 2017 | 109435 | Benzine    |  1499cc |  100kW | Handgeschakeld |  SUV / Terreinwagen |  Blauw |  5-deurs | € 21.950 | MINI       | Countryman | 21950 |\n| 2018 |  12025 | Elektrisch | NA      | NA     | Automaat       |  Hatchback          | Grijs  |  5-deurs | € 15.944 | Volkswagen | e-Up!      | 15944 |\n| 2016 | 138552 | Diesel     |  1461cc |  66kW  | Handgeschakeld |  Bedrijfswagens     |  Wit   |  5-deurs | € 7.400  | Renault    | Kangoo     |  7400 |\n| 2012 | 180274 | Diesel     |  2400cc |  158kW | Automaat       |  Stationwagon       |  Blauw |  5-deurs | € 14.900 | Volvo      | V60        | 14900 |\n| 2021 |  10763 | Benzine    |  1498cc |  110kW | Automaat       |  SUV / Terreinwagen |  Blauw |  5-deurs | € 37.888 | Volkswagen | T-Roc      | 37888 |\n| 2021 |     10 | Benzine    |  999cc  |  82kW  | Handgeschakeld |  SUV / Terreinwagen |  Grijs |  5-deurs | € 34.190 | Volkswagen | T-Roc      | 34190 |\n| 2021 |      1 | Elektrisch | NA      |  150kW | Automaat       | SUV / Terreinwagen  |  Grijs |  5-deurs | € 57.950 | Volkswagen | ID.4       | 57950 |\n| 2017 |  73844 | Hybride    |  1798cc |  73kW  | Automaat       |  Stationwagon       |  Grijs |  5-deurs | € 17.440 | Toyota     | Auris      | 17440 |\n| 2015 | 110000 | Benzine    |  1598cc |  90kW  | Handgeschakeld |  Cabriolet          |  Bruin |  2-deurs | € 17.000 | MINI       | Cooper     | 17000 |\n| 2015 | 250759 | Diesel     |  1995cc |  120kW | Automaat       |  Stationwagon       |  Wit   |  5-deurs | € 14.450 | BMW        | 3-serie    | 14450 |\n| 2019 |  37105 | Benzine    |  1498cc |  88kW  | Handgeschakeld |  SUV / Terreinwagen |  Zwart |  5-deurs | € 22.995 | Ford       | Kuga       | 22995 |\n| 2014 |  95325 | Benzine    |  1798cc |  108kW | Handgeschakeld |  MPV                |  Blauw |  5-deurs | € 15.950 | Toyota     | Verso      | 15950 |\n| 2015 | 119281 | Benzine    |  999cc  |  85kW  | Automaat       |  Hatchback          |  Grijs |  5-deurs | € 14.950 | Volkswagen | Golf       | 14950 |\n| 2022 |     10 | Benzine    |  1998cc |  132kW | Automaat       |  Hatchback          |  Zwart |  3-deurs | € 48.175 | MINI       | Cooper     | 48175 |\n| 2017 |  38972 | Benzine    |  998cc  |  51kW  | Handgeschakeld |  Hatchback          |  Grijs |  5-deurs | € 13.400 | Toyota     | Yaris      | 13400 |\n| 2020 |  21284 | Benzine    |  1332cc |  110kW | Automaat       |  SUV / Terreinwagen |  Blauw |  5-deurs | € 26.950 | Fiat       | 500X       | 26950 |\n| 2021 |  12266 | Benzine    |  1498cc |  110kW | Automaat       |  SUV / Terreinwagen |  Wit   |  5-deurs | € 34.850 | Volkswagen | T-Roc      | 34850 |\n| 2021 |      5 | Hybride    |  1600cc |  225kW | Automaat       |  SUV / Terreinwagen |  Wit   |  5-deurs | € 48.606 | DS         | DS         | 48606 |\n| 2010 | 202424 | Benzine    |  1598cc |  88kW  | Handgeschakeld |  Stationwagon       |  Grijs |  4-deurs | € 4.950  | Peugeot    | 3008       |  4950 |\n| 2021 |   4000 | Elektrisch | NA      |  248kW | Automaat       | SUV / Terreinwagen  |  Blauw |  5-deurs | € 70.490 | Ford       | Mustang    | 70490 |\n\n",
            "text/html": [
              "<table class=\"dataframe\">\n",
              "<caption>A data.frame: 20 × 13</caption>\n",
              "<thead>\n",
              "\t<tr><th scope=col>bouwjaar</th><th scope=col>km_stand</th><th scope=col>brandstof</th><th scope=col>motorinhoud</th><th scope=col>vermogen</th><th scope=col>transmissie</th><th scope=col>type</th><th scope=col>kleur</th><th scope=col>deur</th><th scope=col>prijs</th><th scope=col>merk</th><th scope=col>model</th><th scope=col>vraagprijs</th></tr>\n",
              "\t<tr><th scope=col>&lt;dbl&gt;</th><th scope=col>&lt;dbl&gt;</th><th scope=col>&lt;chr&gt;</th><th scope=col>&lt;chr&gt;</th><th scope=col>&lt;chr&gt;</th><th scope=col>&lt;chr&gt;</th><th scope=col>&lt;chr&gt;</th><th scope=col>&lt;chr&gt;</th><th scope=col>&lt;chr&gt;</th><th scope=col>&lt;chr&gt;</th><th scope=col>&lt;chr&gt;</th><th scope=col>&lt;chr&gt;</th><th scope=col>&lt;dbl&gt;</th></tr>\n",
              "</thead>\n",
              "<tbody>\n",
              "\t<tr><td>2017</td><td>109435</td><td>Benzine   </td><td> 1499cc</td><td> 100kW</td><td>Handgeschakeld</td><td> SUV / Terreinwagen</td><td> Blauw</td><td> 5-deurs</td><td>€ 21.950</td><td>MINI      </td><td>Countryman</td><td>21950</td></tr>\n",
              "\t<tr><td>2018</td><td> 12025</td><td>Elektrisch</td><td>NA     </td><td>NA    </td><td>Automaat      </td><td> Hatchback         </td><td>Grijs </td><td> 5-deurs</td><td>€ 15.944</td><td>Volkswagen</td><td>e-Up!     </td><td>15944</td></tr>\n",
              "\t<tr><td>2016</td><td>138552</td><td>Diesel    </td><td> 1461cc</td><td> 66kW </td><td>Handgeschakeld</td><td> Bedrijfswagens    </td><td> Wit  </td><td> 5-deurs</td><td>€ 7.400 </td><td>Renault   </td><td>Kangoo    </td><td> 7400</td></tr>\n",
              "\t<tr><td>2012</td><td>180274</td><td>Diesel    </td><td> 2400cc</td><td> 158kW</td><td>Automaat      </td><td> Stationwagon      </td><td> Blauw</td><td> 5-deurs</td><td>€ 14.900</td><td>Volvo     </td><td>V60       </td><td>14900</td></tr>\n",
              "\t<tr><td>2021</td><td> 10763</td><td>Benzine   </td><td> 1498cc</td><td> 110kW</td><td>Automaat      </td><td> SUV / Terreinwagen</td><td> Blauw</td><td> 5-deurs</td><td>€ 37.888</td><td>Volkswagen</td><td>T-Roc     </td><td>37888</td></tr>\n",
              "\t<tr><td>2021</td><td>    10</td><td>Benzine   </td><td> 999cc </td><td> 82kW </td><td>Handgeschakeld</td><td> SUV / Terreinwagen</td><td> Grijs</td><td> 5-deurs</td><td>€ 34.190</td><td>Volkswagen</td><td>T-Roc     </td><td>34190</td></tr>\n",
              "\t<tr><td>2021</td><td>     1</td><td>Elektrisch</td><td>NA     </td><td> 150kW</td><td>Automaat      </td><td>SUV / Terreinwagen </td><td> Grijs</td><td> 5-deurs</td><td>€ 57.950</td><td>Volkswagen</td><td>ID.4      </td><td>57950</td></tr>\n",
              "\t<tr><td>2017</td><td> 73844</td><td>Hybride   </td><td> 1798cc</td><td> 73kW </td><td>Automaat      </td><td> Stationwagon      </td><td> Grijs</td><td> 5-deurs</td><td>€ 17.440</td><td>Toyota    </td><td>Auris     </td><td>17440</td></tr>\n",
              "\t<tr><td>2015</td><td>110000</td><td>Benzine   </td><td> 1598cc</td><td> 90kW </td><td>Handgeschakeld</td><td> Cabriolet         </td><td> Bruin</td><td> 2-deurs</td><td>€ 17.000</td><td>MINI      </td><td>Cooper    </td><td>17000</td></tr>\n",
              "\t<tr><td>2015</td><td>250759</td><td>Diesel    </td><td> 1995cc</td><td> 120kW</td><td>Automaat      </td><td> Stationwagon      </td><td> Wit  </td><td> 5-deurs</td><td>€ 14.450</td><td>BMW       </td><td>3-serie   </td><td>14450</td></tr>\n",
              "\t<tr><td>2019</td><td> 37105</td><td>Benzine   </td><td> 1498cc</td><td> 88kW </td><td>Handgeschakeld</td><td> SUV / Terreinwagen</td><td> Zwart</td><td> 5-deurs</td><td>€ 22.995</td><td>Ford      </td><td>Kuga      </td><td>22995</td></tr>\n",
              "\t<tr><td>2014</td><td> 95325</td><td>Benzine   </td><td> 1798cc</td><td> 108kW</td><td>Handgeschakeld</td><td> MPV               </td><td> Blauw</td><td> 5-deurs</td><td>€ 15.950</td><td>Toyota    </td><td>Verso     </td><td>15950</td></tr>\n",
              "\t<tr><td>2015</td><td>119281</td><td>Benzine   </td><td> 999cc </td><td> 85kW </td><td>Automaat      </td><td> Hatchback         </td><td> Grijs</td><td> 5-deurs</td><td>€ 14.950</td><td>Volkswagen</td><td>Golf      </td><td>14950</td></tr>\n",
              "\t<tr><td>2022</td><td>    10</td><td>Benzine   </td><td> 1998cc</td><td> 132kW</td><td>Automaat      </td><td> Hatchback         </td><td> Zwart</td><td> 3-deurs</td><td>€ 48.175</td><td>MINI      </td><td>Cooper    </td><td>48175</td></tr>\n",
              "\t<tr><td>2017</td><td> 38972</td><td>Benzine   </td><td> 998cc </td><td> 51kW </td><td>Handgeschakeld</td><td> Hatchback         </td><td> Grijs</td><td> 5-deurs</td><td>€ 13.400</td><td>Toyota    </td><td>Yaris     </td><td>13400</td></tr>\n",
              "\t<tr><td>2020</td><td> 21284</td><td>Benzine   </td><td> 1332cc</td><td> 110kW</td><td>Automaat      </td><td> SUV / Terreinwagen</td><td> Blauw</td><td> 5-deurs</td><td>€ 26.950</td><td>Fiat      </td><td>500X      </td><td>26950</td></tr>\n",
              "\t<tr><td>2021</td><td> 12266</td><td>Benzine   </td><td> 1498cc</td><td> 110kW</td><td>Automaat      </td><td> SUV / Terreinwagen</td><td> Wit  </td><td> 5-deurs</td><td>€ 34.850</td><td>Volkswagen</td><td>T-Roc     </td><td>34850</td></tr>\n",
              "\t<tr><td>2021</td><td>     5</td><td>Hybride   </td><td> 1600cc</td><td> 225kW</td><td>Automaat      </td><td> SUV / Terreinwagen</td><td> Wit  </td><td> 5-deurs</td><td>€ 48.606</td><td>DS        </td><td>DS        </td><td>48606</td></tr>\n",
              "\t<tr><td>2010</td><td>202424</td><td>Benzine   </td><td> 1598cc</td><td> 88kW </td><td>Handgeschakeld</td><td> Stationwagon      </td><td> Grijs</td><td> 4-deurs</td><td>€ 4.950 </td><td>Peugeot   </td><td>3008      </td><td> 4950</td></tr>\n",
              "\t<tr><td>2021</td><td>  4000</td><td>Elektrisch</td><td>NA     </td><td> 248kW</td><td>Automaat      </td><td>SUV / Terreinwagen </td><td> Blauw</td><td> 5-deurs</td><td>€ 70.490</td><td>Ford      </td><td>Mustang   </td><td>70490</td></tr>\n",
              "</tbody>\n",
              "</table>\n"
            ]
          },
          "metadata": {}
        }
      ]
    },
    {
      "cell_type": "code",
      "source": [
        "saveRDS(autos_cleaned, 'autos_cleaned.Rds')"
      ],
      "metadata": {
        "id": "TttPoKqNLYZl"
      },
      "execution_count": null,
      "outputs": []
    },
    {
      "cell_type": "code",
      "source": [
        "readr::write_csv(autos_cleaned, \"autos_cleaned.csv\")"
      ],
      "metadata": {
        "id": "ihRCklHvSsGT"
      },
      "execution_count": 3,
      "outputs": []
    },
    {
      "cell_type": "code",
      "source": [
        "dim(autos_cleaned)"
      ],
      "metadata": {
        "colab": {
          "base_uri": "https://localhost:8080/",
          "height": 34
        },
        "id": "fFq6RFfLjdxz",
        "outputId": "b7cce714-af2d-48f5-f528-e8bbd00a2b5f"
      },
      "execution_count": null,
      "outputs": [
        {
          "output_type": "display_data",
          "data": {
            "text/plain": [
              "[1] 231000     13"
            ],
            "text/latex": "\\begin{enumerate*}\n\\item 231000\n\\item 13\n\\end{enumerate*}\n",
            "text/markdown": "1. 231000\n2. 13\n\n\n",
            "text/html": [
              "<style>\n",
              ".list-inline {list-style: none; margin:0; padding: 0}\n",
              ".list-inline>li {display: inline-block}\n",
              ".list-inline>li:not(:last-child)::after {content: \"\\00b7\"; padding: 0 .5ex}\n",
              "</style>\n",
              "<ol class=list-inline><li>231000</li><li>13</li></ol>\n"
            ]
          },
          "metadata": {}
        }
      ]
    },
    {
      "cell_type": "markdown",
      "source": [
        "# Some analysis"
      ],
      "metadata": {
        "id": "Kp341mpESgU_"
      }
    },
    {
      "cell_type": "code",
      "source": [
        "autos_cleaned = readRDS(\"/content/autos_cleaned.Rds\")"
      ],
      "metadata": {
        "id": "oxOxLp0rjtoE"
      },
      "execution_count": 2,
      "outputs": []
    },
    {
      "cell_type": "code",
      "source": [
        ""
      ],
      "metadata": {
        "id": "QMLbTN3lSoNU"
      },
      "execution_count": null,
      "outputs": []
    }
  ]
}