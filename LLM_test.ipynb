{
 "cells": [
  {
   "attachments": {},
   "cell_type": "markdown",
   "metadata": {},
   "source": [
    "# Using a language model in snowflake\n",
    "\n",
    "Taken from this [blog post](https://medium.com/snowflake/deploying-pre-trained-llms-in-snowflake-75a0d07ef03d)\n",
    "\n",
    "corrected some typos here to make it run.\n",
    "\n",
    "specifieke transformer versie nodig die op snowpark ook aanwezig is.\n",
    "\n",
    "Install:\n",
    "pip install transformers==4.14.1 --user\n",
    "pip install torch\n"
   ]
  },
  {
   "cell_type": "code",
   "execution_count": 1,
   "metadata": {},
   "outputs": [],
   "source": [
    "import pandas as pd\n",
    "\n",
    "from snowflake.snowpark import Session\n",
    "from snowflake.snowpark import functions as F\n",
    "from connection_config import connection_parameters"
   ]
  },
  {
   "cell_type": "code",
   "execution_count": 2,
   "metadata": {},
   "outputs": [],
   "source": [
    "#### Current Snowflake Environment Details\n",
    "def current_snowflake_env():\n",
    "    snowflake_environment = session.sql('select current_user(), current_role(), current_database(), current_schema(), current_version(), current_warehouse()').collect()\n",
    "    print('User                     : {}'.format(snowflake_environment[0][0]))\n",
    "    print('Role                     : {}'.format(snowflake_environment[0][1]))\n",
    "    print('Database                 : {}'.format(snowflake_environment[0][2]))\n",
    "    print('Schema                   : {}'.format(snowflake_environment[0][3]))\n",
    "    print('Warehouse                : {}'.format(snowflake_environment[0][5]))\n",
    "    print('Snowflake version        : {}'.format(snowflake_environment[0][4]))\n"
   ]
  },
  {
   "cell_type": "code",
   "execution_count": 3,
   "metadata": {},
   "outputs": [
    {
     "name": "stdout",
     "output_type": "stream",
     "text": [
      "User                     : LONGHOW\n",
      "Role                     : SNOWPARK_USERS\n",
      "Database                 : DS_DATA\n",
      "Schema                   : PUBLIC\n",
      "Warehouse                : SNOWPARKOPTIMIZEDM\n",
      "Snowflake version        : 7.19.2\n"
     ]
    }
   ],
   "source": [
    "#### Set up a connection with Snowflake using snowpark\n",
    "session = Session.builder.configs(connection_parameters).create()\n",
    "current_snowflake_env()"
   ]
  },
  {
   "attachments": {},
   "cell_type": "markdown",
   "metadata": {},
   "source": [
    "Download the facebooks bart-large-mnli language model, see [here](https://huggingface.co/facebook/bart-large-mnli)"
   ]
  },
  {
   "cell_type": "code",
   "execution_count": 5,
   "metadata": {},
   "outputs": [
    {
     "name": "stderr",
     "output_type": "stream",
     "text": [
      "Downloading: 100%|██████████| 1.13k/1.13k [00:00<00:00, 1.15MB/s]\n",
      "Downloading: 100%|██████████| 1.52G/1.52G [01:11<00:00, 22.7MB/s]\n",
      "Downloading: 100%|██████████| 26.0/26.0 [00:00<00:00, 13.0kB/s]\n",
      "Downloading: 100%|██████████| 878k/878k [00:00<00:00, 5.22MB/s]\n",
      "Downloading: 100%|██████████| 446k/446k [00:00<00:00, 1.83MB/s]\n",
      "Downloading: 100%|██████████| 1.29M/1.29M [00:00<00:00, 7.54MB/s]\n"
     ]
    },
    {
     "data": {
      "text/plain": [
       "{'sequence': 'The interface gets frozen very often',\n",
       " 'labels': ['product experience', 'account issues', 'customer support'],\n",
       " 'scores': [0.7728321552276611, 0.1294812262058258, 0.09768663346767426]}"
      ]
     },
     "execution_count": 5,
     "metadata": {},
     "output_type": "execute_result"
    }
   ],
   "source": [
    "from transformers import pipeline\n",
    "classifier = pipeline(\n",
    "    \"zero-shot-classification\",\n",
    "    model=\"facebook/bart-large-mnli\"\n",
    ")\n",
    "\n",
    "### example zero shot classifications\n",
    "sequence_to_classify = \"The interface gets frozen very often\"\n",
    "candidate_labels = ['customer support', 'product experience', 'account issues']\n",
    "classifier(sequence_to_classify, candidate_labels)"
   ]
  },
  {
   "attachments": {},
   "cell_type": "markdown",
   "metadata": {},
   "source": [
    "Example of classifying a movie description into a genres"
   ]
  },
  {
   "cell_type": "code",
   "execution_count": 26,
   "metadata": {},
   "outputs": [
    {
     "data": {
      "text/plain": [
       "{'sequence': 'In a postapocalyptic world, rag-doll robots hide in fear from dangerous machines out to exterminate them, until a brave newcomer joins the group',\n",
       " 'labels': ['Science Fiction',\n",
       "  'Action',\n",
       "  'Documentary',\n",
       "  'Thriller',\n",
       "  'Adventure',\n",
       "  'Fantasy',\n",
       "  'Horror',\n",
       "  'Romance',\n",
       "  'Drama',\n",
       "  'Comedy'],\n",
       " 'scores': [0.2539590001106262,\n",
       "  0.20386196672916412,\n",
       "  0.11335238069295883,\n",
       "  0.10166659206151962,\n",
       "  0.09251900017261505,\n",
       "  0.0795774832367897,\n",
       "  0.0608665831387043,\n",
       "  0.038360532373189926,\n",
       "  0.033384546637535095,\n",
       "  0.022451993077993393]}"
      ]
     },
     "execution_count": 26,
     "metadata": {},
     "output_type": "execute_result"
    }
   ],
   "source": [
    "sequence_to_classify = \"In a postapocalyptic world, rag-doll robots hide in fear from dangerous machines out to exterminate them, until a brave newcomer joins the group\"\n",
    "movie_genres = [\n",
    "    \"Action\",\n",
    "    \"Comedy\",\n",
    "    \"Drama\",\n",
    "    \"Thriller\",\n",
    "    \"Horror\",\n",
    "    \"Science Fiction\",\n",
    "    \"Romance\",\n",
    "    \"Adventure\",\n",
    "    \"Fantasy\",\n",
    "    \"Documentary\"\n",
    "]\n",
    "classifier(sequence_to_classify, movie_genres)"
   ]
  },
  {
   "cell_type": "code",
   "execution_count": 10,
   "metadata": {},
   "outputs": [
    {
     "data": {
      "text/plain": [
       "['bart-large-mnli.joblib']"
      ]
     },
     "execution_count": 10,
     "metadata": {},
     "output_type": "execute_result"
    }
   ],
   "source": [
    "## dump the model to disk\n",
    "import joblib\n",
    "joblib.dump(classifier, 'bart-large-mnli.joblib')"
   ]
  },
  {
   "attachments": {},
   "cell_type": "markdown",
   "metadata": {},
   "source": [
    "create stage with  \n",
    "CREATE STAGE IF NOT EXISTS DS_DATA.PUBLIC.ZERO_SHOT_CLASSIFICATION;"
   ]
  },
  {
   "cell_type": "code",
   "execution_count": 11,
   "metadata": {},
   "outputs": [
    {
     "data": {
      "text/plain": [
       "[PutResult(source='bart-large-mnli.joblib', target='bart-large-mnli.joblib', source_size=1630942026, target_size=1630942032, source_compression='NONE', target_compression='NONE', status='UPLOADED', message='')]"
      ]
     },
     "execution_count": 11,
     "metadata": {},
     "output_type": "execute_result"
    }
   ],
   "source": [
    "### now put the model into a snowflake STAGE\n",
    "session.file.put(\n",
    "   'bart-large-mnli.joblib',\n",
    "   stage_location = 'DS_DATA.PUBLIC.ZERO_SHOT_CLASSIFICATION',\n",
    "   overwrite=True,\n",
    "   auto_compress=False\n",
    ")"
   ]
  },
  {
   "attachments": {},
   "cell_type": "markdown",
   "metadata": {},
   "source": [
    "### Create a UDFs so that we can use the language model in snowflake"
   ]
  },
  {
   "cell_type": "code",
   "execution_count": 12,
   "metadata": {},
   "outputs": [],
   "source": [
    "# Caching the model\n",
    "import cachetools\n",
    "import sys\n",
    "@cachetools.cached(cache={})\n",
    "def read_model():\n",
    "   import_dir = sys._xoptions.get(\"snowflake_import_directory\")\n",
    "   if import_dir:\n",
    "       # Load the model\n",
    "       return joblib.load(f'{import_dir}/bart-large-mnli.joblib')"
   ]
  },
  {
   "cell_type": "code",
   "execution_count": 27,
   "metadata": {},
   "outputs": [
    {
     "name": "stderr",
     "output_type": "stream",
     "text": [
      "The version of package cachetools in the local environment is 5.3.0, which does not fit the criteria for the requirement cachetools==4.2.2. Your UDF might not work when the package version is different between the server and your local environment\n"
     ]
    }
   ],
   "source": [
    "from snowflake.snowpark.functions import pandas_udf\n",
    "from snowflake.snowpark.types import StringType, PandasSeriesType\n",
    "@pandas_udf(  \n",
    "       name='DS_DATA.PUBLIC.classify_movie_into_genre',\n",
    "       session=session,\n",
    "       is_permanent=True,\n",
    "       replace=True,\n",
    "       imports=[\n",
    "           '@ZERO_SHOT_CLASSIFICATION/bart-large-mnli.joblib'\n",
    "       ],\n",
    "       input_types=[PandasSeriesType(StringType())],\n",
    "       return_type=PandasSeriesType(StringType()),\n",
    "       stage_location='DS_DATA.PUBLIC.ZERO_SHOT_CLASSIFICATION',\n",
    "       packages=['cachetools==4.2.2', 'transformers==4.14.1']\n",
    "   )\n",
    "def get_review_classification(sentences: pd.Series) -> pd.Series:\n",
    "    # Classify using the available categories\n",
    "    movie_genres = [\n",
    "        \"Action\",\n",
    "        \"Comedy\",\n",
    "        \"Drama\",\n",
    "        \"Thriller\",\n",
    "        \"Horror\",\n",
    "        \"Science Fiction\",\n",
    "        \"Romance\",\n",
    "        \"Adventure\",\n",
    "        \"Fantasy\",\n",
    "        \"Documentary\"\n",
    "    ]\n",
    "    classifier = read_model()\n",
    "\n",
    "    # Apply the model\n",
    "    predictions = []\n",
    "    for sentence in sentences:\n",
    "       result = classifier(sentence, movie_genres)\n",
    "       if 'scores' in result and 'labels' in result:\n",
    "           category_idx = pd.Series(result['scores']).idxmax()\n",
    "           predictions.append(result['labels'][category_idx])\n",
    "       else:\n",
    "           predictions.append(None)\n",
    "    return pd.Series(predictions)"
   ]
  },
  {
   "cell_type": "code",
   "execution_count": 32,
   "metadata": {},
   "outputs": [],
   "source": [
    "### now you can run the get_review_classification function on data in SQL\n",
    "\n",
    "SQL = \"\"\" \n",
    "SELECT\n",
    "    TITLE,\n",
    "    LISTED_IN,\n",
    "    DESCRIPTION,\n",
    "    classify_movie_into_genre(DESCRIPTION::VARCHAR)  as genre\n",
    "FROM \n",
    "    NFLX_SHARE2.PUBLIC.NFLX \n",
    "LIMIT 10\n",
    "\"\"\"\n",
    "\n",
    "movies = session.sql(SQL)"
   ]
  },
  {
   "cell_type": "code",
   "execution_count": 33,
   "metadata": {},
   "outputs": [
    {
     "name": "stdout",
     "output_type": "stream",
     "text": [
      "---------------------------------------------------------------------------------------------------------------------------------------\n",
      "|\"TITLE\"  |\"LISTED_IN\"                                         |\"DESCRIPTION\"                                       |\"GENRE\"          |\n",
      "---------------------------------------------------------------------------------------------------------------------------------------\n",
      "|3%       |International TV Shows, TV Dramas, TV Sci-Fi & ...  |In a future where the elite inhabit an island p...  |Adventure        |\n",
      "|7:19     |Dramas, International Movies                        |After a devastating earthquake hits Mexico City...  |Action           |\n",
      "|23:59    |Horror Movies, International Movies                 |When an army recruit is found dead, his fellow ...  |Horror           |\n",
      "|9        |Action & Adventure, Independent Movies, Sci-Fi ...  |In a postapocalyptic world, rag-doll robots hid...  |Science Fiction  |\n",
      "|21       |Dramas                                              |A brilliant group of students become card-count...  |Action           |\n",
      "|46       |International TV Shows, TV Dramas, TV Mysteries     |A genetics professor experiments with a treatme...  |Adventure        |\n",
      "|122      |Horror Movies, International Movies                 |After an awful accident, a couple admitted to a...  |Horror           |\n",
      "|187      |Dramas                                              |After one of his high school students attacks h...  |Action           |\n",
      "|706      |Horror Movies, International Movies                 |When a doctor goes missing, his psychiatrist wi...  |Adventure        |\n",
      "|1920     |Horror Movies, International Movies, Thrillers      |An architect and his wife move into a castle th...  |Drama            |\n",
      "---------------------------------------------------------------------------------------------------------------------------------------\n",
      "\n"
     ]
    }
   ],
   "source": [
    "movies.show()"
   ]
  },
  {
   "cell_type": "code",
   "execution_count": null,
   "metadata": {},
   "outputs": [],
   "source": []
  }
 ],
 "metadata": {
  "kernelspec": {
   "display_name": "snowpark",
   "language": "python",
   "name": "python3"
  },
  "language_info": {
   "codemirror_mode": {
    "name": "ipython",
    "version": 3
   },
   "file_extension": ".py",
   "mimetype": "text/x-python",
   "name": "python",
   "nbconvert_exporter": "python",
   "pygments_lexer": "ipython3",
   "version": "3.8.13"
  },
  "orig_nbformat": 4
 },
 "nbformat": 4,
 "nbformat_minor": 2
}
