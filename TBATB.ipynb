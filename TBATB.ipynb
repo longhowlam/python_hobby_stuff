{
 "cells": [
  {
   "cell_type": "markdown",
   "metadata": {},
   "source": [
    "###  Querying \"The Bold and the Beautiful\" with Python Holmes extractor package"
   ]
  },
  {
   "cell_type": "code",
   "execution_count": 24,
   "metadata": {},
   "outputs": [
    {
     "data": {
      "text/plain": [
       "(4170, 2)"
      ]
     },
     "execution_count": 24,
     "metadata": {},
     "output_type": "execute_result"
    }
   ],
   "source": [
    "### set up and initializing Holmes\n",
    "import datatable as dt\n",
    "import holmes_extractor as holmes\n",
    "import pandas as pd\n",
    "\n",
    "# Start the Holmes manager with the English model\n",
    "# You can try setting overall_similarity_threshold to 0.85 and/or perform_coreference_resolution to False\n",
    "holmes_manager = holmes.Manager(\n",
    "    model='en_coref_lg',\n",
    "    overall_similarity_threshold=1.00,\n",
    "    perform_coreference_resolution=True\n",
    ")\n",
    "\n",
    "### Use datatable to import text file with 3847 recaps of The Bold\n",
    "BB = dt.fread('TBATB.csv')\n",
    "BB.shape"
   ]
  },
  {
   "cell_type": "code",
   "execution_count": 25,
   "metadata": {},
   "outputs": [
    {
     "data": {
      "text/html": [
       "<div class='datatable'>\n",
       "  <table class='frame'>\n",
       "  <thead>\n",
       "    <tr class='colnames'><td class='row_index'></td><th>recaps</th><th>date</th></tr>\n",
       "    <tr class='coltypes'><td class='row_index'></td><td class='str' title='str32'>&#x25AA;&#x25AA;&#x25AA;&#x25AA;</td><td class='str' title='str32'>&#x25AA;&#x25AA;&#x25AA;&#x25AA;</td></tr>\n",
       "  </thead>\n",
       "  <tbody>\n",
       "    <tr><td class='row_index'>0</td><td>\n",
       "\n",
       "\n",
       "At Il Giardino, Taylor was excited about Kelly'&#133;</td><td>2018-12-24</td></tr>\n",
       "    <tr><td class='row_index'>1</td><td>\n",
       "\n",
       "\n",
       "At Eric's house, Steffy arrived early and took &#133;</td><td>2018-12-24</td></tr>\n",
       "    <tr><td class='row_index'>2</td><td>\n",
       "\n",
       "\n",
       "At Liam and Hope's cabin, they discussed Christ&#133;</td><td>2018-12-24</td></tr>\n",
       "    <tr><td class='row_index'>3</td><td>\n",
       "\n",
       "\n",
       "At Forrester with Xander, Zoe continued to worr&#133;</td><td>2018-12-24</td></tr>\n",
       "    <tr><td class='row_index'>4</td><td>\n",
       "\n",
       "\n",
       "At the helicopter station, Matt and Kieran were&#133;</td><td>2018-12-24</td></tr>\n",
       "  </tbody>\n",
       "  </table>\n",
       "  <div class='footer'>\n",
       "    <div class='frame_dimensions'>5 rows &times; 2 columns</div>\n",
       "  </div>\n",
       "</div>\n"
      ],
      "text/plain": []
     },
     "execution_count": 25,
     "metadata": {},
     "output_type": "execute_result"
    }
   ],
   "source": [
    "### show first 5 rows\n",
    "BB.tail(5)"
   ]
  },
  {
   "cell_type": "code",
   "execution_count": 2,
   "metadata": {},
   "outputs": [
    {
     "data": {
      "text/plain": [
       "\"\\n\\n\\nThorne finds Macy waiting at the church and assures her that he knew she would come. Macy tells Thorne that she could not leave without saying goodbye. Thorne tells Macy that he still loves her and kisses her to prove it. Macy admits to Thorne that she has never stopped loving him, but she must leave to protect her father. Thorne tries to convince Macy to forget about her father and to follow her heart. Lorenzozo rushes to the door and tells Macy not to listen to Thorne because he has let her down before. \\n\\n\\nWhile watching the final entries for the fashion shows, Bridget tells Massimo she knows it must be hard for him to watch Ridge interact with Eric. She informs Massimo that the tribute to Taylor was Brooke's idea. Ridge tells Brooke how much he appreciates the tribute and she admits that it may be a new start for her and Thomas. Ridge agrees that it could be.\\n\\n\\nBefore the showstoppers appear, Ridge takes time to thank Eric for the distraction of the fashion competition. The introduction to the Spectra showstopper is some confetti and a huge glamour shot of Sally. This is clearly embarrassing to Ridge and gives the audience a chuckle, but it does not take away from the beautiful wedding gown. The Forrester introduction was much more classy. The model was escorted in a rowboat in the elegant wedding gown Eric designed. The crowd oohed and aahed and showed their appreciation. While Stephanie had a look of disgust on her face when she realized the model was Brooke, Ridge had a look of admiration.\\n\\n\\n\""
      ]
     },
     "execution_count": 2,
     "metadata": {},
     "output_type": "execute_result"
    }
   ],
   "source": [
    "### show one recap in full length\n",
    "BB[0,0]"
   ]
  },
  {
   "cell_type": "markdown",
   "metadata": {},
   "source": [
    "### Parse and Register each recap of The Bold \n",
    "Can take some time"
   ]
  },
  {
   "cell_type": "code",
   "execution_count": 26,
   "metadata": {},
   "outputs": [
    {
     "name": "stdout",
     "output_type": "stream",
     "text": [
      "0\n",
      "100\n",
      "200\n",
      "CPU times: user 7min 2s, sys: 12.5 s, total: 7min 14s\n",
      "Wall time: 1min 51s\n"
     ]
    }
   ],
   "source": [
    "%%time \n",
    "\n",
    "holmes_manager.remove_all_documents()\n",
    "for i in range(0, 300):\n",
    "    # Register the document with Holmes\n",
    "    if i % 100 == 0:\n",
    "        print(i)\n",
    "    holmes_manager.parse_and_register_document(BB[i,0], \"recap\" + BB[i,1] + \"-\" + str(i))"
   ]
  },
  {
   "cell_type": "code",
   "execution_count": 57,
   "metadata": {},
   "outputs": [],
   "source": [
    "### Using topic matching, find the passages in the recaps whose topic most closely corresponds to the serch query  \n",
    "out = holmes_manager.topic_match_documents_against(\"she wanted to make love with him\", number_of_results = 5)"
   ]
  },
  {
   "cell_type": "code",
   "execution_count": 58,
   "metadata": {
    "scrolled": true
   },
   "outputs": [
    {
     "data": {
      "text/html": [
       "<div>\n",
       "<style scoped>\n",
       "    .dataframe tbody tr th:only-of-type {\n",
       "        vertical-align: middle;\n",
       "    }\n",
       "\n",
       "    .dataframe tbody tr th {\n",
       "        vertical-align: top;\n",
       "    }\n",
       "\n",
       "    .dataframe thead th {\n",
       "        text-align: right;\n",
       "    }\n",
       "</style>\n",
       "<table border=\"1\" class=\"dataframe\">\n",
       "  <thead>\n",
       "    <tr style=\"text-align: right;\">\n",
       "      <th></th>\n",
       "      <th>label</th>\n",
       "      <th>score</th>\n",
       "      <th>text</th>\n",
       "    </tr>\n",
       "  </thead>\n",
       "  <tbody>\n",
       "    <tr>\n",
       "      <th>0</th>\n",
       "      <td>recap2003-11-17-226</td>\n",
       "      <td>62.366116</td>\n",
       "      <td>Jackie arrived and informed them that Sally is planning to blackmail Brooke. At the private dining room, Ridge told Brooke that he really preferred not to discuss anything heavy, he just wanted to enjoy the evening with her. Brooke was determined to tell Ridge about what happened after she thought he was dead. Brooke told Ridge the story of Nick's finding her at the foundry ready to kill herself. She explained that in their deep grief over the loss of Ridge, they somehow made love. Ridge was shocked and angered to learn that Nick and Brooke had made love.</td>\n",
       "    </tr>\n",
       "    <tr>\n",
       "      <th>1</th>\n",
       "      <td>recap2003-09-08-175</td>\n",
       "      <td>56.448747</td>\n",
       "      <td>]));\\n\\nRidge's office:\\n\\nBrooke was hesitant to make love to Ridge. He tried to convince her that they are right for each other and that he would be there for her. They made love and shared pillow talk.</td>\n",
       "    </tr>\n",
       "    <tr>\n",
       "      <th>2</th>\n",
       "      <td>recap2003-09-01-173</td>\n",
       "      <td>48.710649</td>\n",
       "      <td>Ridge asked Brooke to make love to him-right in his office. He wanted Brooke to demonstrate a commitment to him by doing so. They admitted to one another that they no longer want to be apart from each other any longer. Brooke and Ridge made love in his office.</td>\n",
       "    </tr>\n",
       "    <tr>\n",
       "      <th>3</th>\n",
       "      <td>recap2003-03-24-59</td>\n",
       "      <td>40.062187</td>\n",
       "      <td>Unable to make love to him the night before, Bridget apologized to C.J. in the morning. Stopping her, C.J. admitted that the previous night had shown him that her heart was definitely with Ridge. Bridget announced her intention to concentrate on her medical studies in order to put Ridge behind her. Meanwhile, Brooke and Ridge were all smiles after making love.</td>\n",
       "    </tr>\n",
       "    <tr>\n",
       "      <th>4</th>\n",
       "      <td>recap2003-07-28-145</td>\n",
       "      <td>37.033778</td>\n",
       "      <td>Deacon tells Macy that he loves her and he wants to spend the rest of his life with her. They kiss. Macy is uncertain about getting married because it's such a big step, but Deacon is persuasive. They make love.</td>\n",
       "    </tr>\n",
       "  </tbody>\n",
       "</table>\n",
       "</div>"
      ],
      "text/plain": [
       "                 label      score  \\\n",
       "0  recap2003-11-17-226  62.366116   \n",
       "1  recap2003-09-08-175  56.448747   \n",
       "2  recap2003-09-01-173  48.710649   \n",
       "3   recap2003-03-24-59  40.062187   \n",
       "4  recap2003-07-28-145  37.033778   \n",
       "\n",
       "                                                                                                                                                                                                                                                                                                                                                                                                                                                                                                                                                                                text  \n",
       "0  Jackie arrived and informed them that Sally is planning to blackmail Brooke. At the private dining room, Ridge told Brooke that he really preferred not to discuss anything heavy, he just wanted to enjoy the evening with her. Brooke was determined to tell Ridge about what happened after she thought he was dead. Brooke told Ridge the story of Nick's finding her at the foundry ready to kill herself. She explained that in their deep grief over the loss of Ridge, they somehow made love. Ridge was shocked and angered to learn that Nick and Brooke had made love.  \n",
       "1                                                                                                                                                                                                                                                                                                                                                                       ]));\\n\\nRidge's office:\\n\\nBrooke was hesitant to make love to Ridge. He tried to convince her that they are right for each other and that he would be there for her. They made love and shared pillow talk.  \n",
       "2                                                                                                                                                                                                                                                                                                               Ridge asked Brooke to make love to him-right in his office. He wanted Brooke to demonstrate a commitment to him by doing so. They admitted to one another that they no longer want to be apart from each other any longer. Brooke and Ridge made love in his office.  \n",
       "3                                                                                                                                                                                                         Unable to make love to him the night before, Bridget apologized to C.J. in the morning. Stopping her, C.J. admitted that the previous night had shown him that her heart was definitely with Ridge. Bridget announced her intention to concentrate on her medical studies in order to put Ridge behind her. Meanwhile, Brooke and Ridge were all smiles after making love.  \n",
       "4                                                                                                                                                                                                                                                                                                                                                                Deacon tells Macy that he loves her and he wants to spend the rest of his life with her. They kiss. Macy is uncertain about getting married because it's such a big step, but Deacon is persuasive. They make love.  "
      ]
     },
     "execution_count": 58,
     "metadata": {},
     "output_type": "execute_result"
    }
   ],
   "source": [
    "### Put results in a dataframe to have a better overview\n",
    "pd.options.display.max_colwidth = 2000\n",
    "pd.DataFrame({\n",
    "    \"label\": [o.document_label for o in out],\n",
    "    \"score\": [o.score for o in out],\n",
    "    \"text\": [o.text for o in out]\n",
    "})"
   ]
  },
  {
   "cell_type": "code",
   "execution_count": null,
   "metadata": {},
   "outputs": [],
   "source": [
    "### You can also start an (interactive) search console\n",
    "holmes_manager.start_search_mode_console()"
   ]
  }
 ],
 "metadata": {
  "kernelspec": {
   "display_name": "Python 3",
   "language": "python",
   "name": "python3"
  },
  "language_info": {
   "codemirror_mode": {
    "name": "ipython",
    "version": 3
   },
   "file_extension": ".py",
   "mimetype": "text/x-python",
   "name": "python",
   "nbconvert_exporter": "python",
   "pygments_lexer": "ipython3",
   "version": "3.7.3"
  }
 },
 "nbformat": 4,
 "nbformat_minor": 2
}
