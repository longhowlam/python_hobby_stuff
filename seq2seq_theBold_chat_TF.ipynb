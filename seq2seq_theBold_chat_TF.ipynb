{
  "nbformat": 4,
  "nbformat_minor": 0,
  "metadata": {
    "colab": {
      "name": "seq2seq_theBold_chat_TF.ipynb",
      "version": "0.3.2",
      "provenance": [],
      "collapsed_sections": [],
      "toc_visible": true,
      "include_colab_link": true
    },
    "kernelspec": {
      "name": "python3",
      "display_name": "Python 3"
    },
    "accelerator": "GPU"
  },
  "cells": [
    {
      "cell_type": "markdown",
      "metadata": {
        "id": "view-in-github",
        "colab_type": "text"
      },
      "source": [
        "<a href=\"https://colab.research.google.com/github/longhowlam/python_hobby_stuff/blob/master/seq2seq_theBold_chat_TF.ipynb\" target=\"_parent\"><img src=\"https://colab.research.google.com/assets/colab-badge.svg\" alt=\"Open In Colab\"/></a>"
      ]
    },
    {
      "cell_type": "markdown",
      "metadata": {
        "colab_type": "text",
        "id": "s_qNSzzyaCbD"
      },
      "source": [
        "# The Bold Chatbot\n",
        "\n",
        "Based on the sub titels from episodes of the bold. See [this site here](https://www.addic7ed.com/serie/The%20Bold%20and%20the%20Beautiful/25/13/1)\n",
        "\n",
        "Code is an modification of the tensorflow seq2seq tutorial that can be found [here](https://www.tensorflow.org/beta/tutorials/text/nmt_with_attention).\n",
        "\n",
        "Paper on seq2seq modeling can be found (here)[https://arxiv.org/pdf/1409.3215.pdf]\n",
        "\n",
        "Nice blogpost on [seq2seq](http://jalammar.github.io/visualizing-neural-machine-translation-mechanics-of-seq2seq-models-with-attention/)\n",
        "\n",
        "To train the chatbot, dialogs are considered as follows: line 1 is a 'question', then line 2 is an 'answer', line 3 is a 'question', line 4 is an 'answer', etc....\n",
        "\n",
        "\n",
        "![bold](https://images-na.ssl-images-amazon.com/images/I/915ge2dtz-L._SX300_.jpg)\n"
      ]
    },
    {
      "cell_type": "code",
      "metadata": {
        "id": "JS65YEAwshju",
        "colab_type": "code",
        "colab": {
          "base_uri": "https://localhost:8080/",
          "height": 122
        },
        "outputId": "9b39ff2e-413e-4a6d-a40f-a61ff127d146"
      },
      "source": [
        "from google.colab import drive\n",
        "drive.mount('/content/drive')"
      ],
      "execution_count": 2,
      "outputs": [
        {
          "output_type": "stream",
          "text": [
            "Go to this URL in a browser: https://accounts.google.com/o/oauth2/auth?client_id=947318989803-6bn6qk8qdgf4n4g3pfee6491hc0brc4i.apps.googleusercontent.com&redirect_uri=urn%3Aietf%3Awg%3Aoauth%3A2.0%3Aoob&scope=email%20https%3A%2F%2Fwww.googleapis.com%2Fauth%2Fdocs.test%20https%3A%2F%2Fwww.googleapis.com%2Fauth%2Fdrive%20https%3A%2F%2Fwww.googleapis.com%2Fauth%2Fdrive.photos.readonly%20https%3A%2F%2Fwww.googleapis.com%2Fauth%2Fpeopleapi.readonly&response_type=code\n",
            "\n",
            "Enter your authorization code:\n",
            "··········\n",
            "Mounted at /content/drive\n"
          ],
          "name": "stdout"
        }
      ]
    },
    {
      "cell_type": "code",
      "metadata": {
        "colab_type": "code",
        "id": "tnxXKDjq3jEL",
        "colab": {
          "base_uri": "https://localhost:8080/",
          "height": 377
        },
        "outputId": "e2f782e0-1608-41a2-b3ff-42544c270f09"
      },
      "source": [
        "from __future__ import absolute_import, division, print_function, unicode_literals\n",
        "\n",
        "!pip install tensorflow-gpu==2.0.0-beta1\n",
        "import tensorflow as tf\n",
        "\n",
        "import matplotlib.pyplot as plt\n",
        "import matplotlib.ticker as ticker\n",
        "from sklearn.model_selection import train_test_split\n",
        "\n",
        "import unicodedata\n",
        "import re\n",
        "import numpy as np\n",
        "import os\n",
        "import io\n",
        "import time"
      ],
      "execution_count": 1,
      "outputs": [
        {
          "output_type": "stream",
          "text": [
            "Requirement already satisfied: tensorflow-gpu==2.0.0-beta1 in /usr/local/lib/python3.6/dist-packages (2.0.0b1)\n",
            "Requirement already satisfied: protobuf>=3.6.1 in /usr/local/lib/python3.6/dist-packages (from tensorflow-gpu==2.0.0-beta1) (3.7.1)\n",
            "Requirement already satisfied: grpcio>=1.8.6 in /usr/local/lib/python3.6/dist-packages (from tensorflow-gpu==2.0.0-beta1) (1.15.0)\n",
            "Requirement already satisfied: termcolor>=1.1.0 in /usr/local/lib/python3.6/dist-packages (from tensorflow-gpu==2.0.0-beta1) (1.1.0)\n",
            "Requirement already satisfied: wheel>=0.26 in /usr/local/lib/python3.6/dist-packages (from tensorflow-gpu==2.0.0-beta1) (0.33.4)\n",
            "Requirement already satisfied: numpy<2.0,>=1.14.5 in /usr/local/lib/python3.6/dist-packages (from tensorflow-gpu==2.0.0-beta1) (1.16.4)\n",
            "Requirement already satisfied: six>=1.10.0 in /usr/local/lib/python3.6/dist-packages (from tensorflow-gpu==2.0.0-beta1) (1.12.0)\n",
            "Requirement already satisfied: tb-nightly<1.14.0a20190604,>=1.14.0a20190603 in /usr/local/lib/python3.6/dist-packages (from tensorflow-gpu==2.0.0-beta1) (1.14.0a20190603)\n",
            "Requirement already satisfied: gast>=0.2.0 in /usr/local/lib/python3.6/dist-packages (from tensorflow-gpu==2.0.0-beta1) (0.2.2)\n",
            "Requirement already satisfied: google-pasta>=0.1.6 in /usr/local/lib/python3.6/dist-packages (from tensorflow-gpu==2.0.0-beta1) (0.1.7)\n",
            "Requirement already satisfied: absl-py>=0.7.0 in /usr/local/lib/python3.6/dist-packages (from tensorflow-gpu==2.0.0-beta1) (0.7.1)\n",
            "Requirement already satisfied: astor>=0.6.0 in /usr/local/lib/python3.6/dist-packages (from tensorflow-gpu==2.0.0-beta1) (0.8.0)\n",
            "Requirement already satisfied: wrapt>=1.11.1 in /usr/local/lib/python3.6/dist-packages (from tensorflow-gpu==2.0.0-beta1) (1.11.2)\n",
            "Requirement already satisfied: keras-preprocessing>=1.0.5 in /usr/local/lib/python3.6/dist-packages (from tensorflow-gpu==2.0.0-beta1) (1.1.0)\n",
            "Requirement already satisfied: tf-estimator-nightly<1.14.0.dev2019060502,>=1.14.0.dev2019060501 in /usr/local/lib/python3.6/dist-packages (from tensorflow-gpu==2.0.0-beta1) (1.14.0.dev2019060501)\n",
            "Requirement already satisfied: keras-applications>=1.0.6 in /usr/local/lib/python3.6/dist-packages (from tensorflow-gpu==2.0.0-beta1) (1.0.8)\n",
            "Requirement already satisfied: setuptools in /usr/local/lib/python3.6/dist-packages (from protobuf>=3.6.1->tensorflow-gpu==2.0.0-beta1) (41.0.1)\n",
            "Requirement already satisfied: markdown>=2.6.8 in /usr/local/lib/python3.6/dist-packages (from tb-nightly<1.14.0a20190604,>=1.14.0a20190603->tensorflow-gpu==2.0.0-beta1) (3.1.1)\n",
            "Requirement already satisfied: werkzeug>=0.11.15 in /usr/local/lib/python3.6/dist-packages (from tb-nightly<1.14.0a20190604,>=1.14.0a20190603->tensorflow-gpu==2.0.0-beta1) (0.15.5)\n",
            "Requirement already satisfied: h5py in /usr/local/lib/python3.6/dist-packages (from keras-applications>=1.0.6->tensorflow-gpu==2.0.0-beta1) (2.8.0)\n"
          ],
          "name": "stdout"
        }
      ]
    },
    {
      "cell_type": "markdown",
      "metadata": {
        "colab_type": "text",
        "id": "wfodePkj3jEa"
      },
      "source": [
        "## Download and prepare the dataset\n",
        "\n",
        "We use The Bold subtitels that I prepared earlier. Then the data is as follows\n",
        "\n",
        "\"Questions\" are put in the en list and \"answers\" are put in the sp list\n"
      ]
    },
    {
      "cell_type": "code",
      "metadata": {
        "id": "mhNwrZ_nwrNn",
        "colab_type": "code",
        "colab": {}
      },
      "source": [
        "import pickle\n",
        "\n",
        "pairs_ = pickle.load( open( \"/content/drive/My Drive/DataSets/TheBoldPairs.pck\", \"rb\" ) )"
      ],
      "execution_count": 0,
      "outputs": []
    },
    {
      "cell_type": "code",
      "metadata": {
        "id": "WzccmRFX09TH",
        "colab_type": "code",
        "colab": {}
      },
      "source": [
        "def preprocess_sentence(w):\n",
        "    # creating a space between a word and the punctuation following it\n",
        "    # eg: \"he is a boy.\" => \"he is a boy .\"\n",
        "    # Reference:- https://stackoverflow.com/questions/3645931/python-padding-punctuation-with-white-spaces-keeping-punctuation\n",
        "    w = re.sub(r\"([?.!,¿])\", r\" \\1 \", w)\n",
        "    w = re.sub(r'[\" \"]+', \" \", w)\n",
        "\n",
        "    # replacing everything with space except (a-z, A-Z, \".\", \"?\", \"!\", \",\")\n",
        "    w = re.sub(r\"[^a-zA-Z?.!,¿]+\", \" \", w)\n",
        "\n",
        "    w = w.rstrip().strip()\n",
        "\n",
        "    # adding a start and an end token to the sentence\n",
        "    # so that the model know when to start and stop predicting.\n",
        "    w = '<start> ' + w + ' <end>'\n",
        "    return w"
      ],
      "execution_count": 0,
      "outputs": []
    },
    {
      "cell_type": "code",
      "metadata": {
        "id": "HI8HhX010hSJ",
        "colab_type": "code",
        "colab": {}
      },
      "source": [
        "pairs = [[preprocess_sentence(w) for w in pair]  for pair in pairs_]"
      ],
      "execution_count": 0,
      "outputs": []
    },
    {
      "cell_type": "code",
      "metadata": {
        "id": "qZyZsMuZxB3d",
        "colab_type": "code",
        "colab": {
          "base_uri": "https://localhost:8080/",
          "height": 51
        },
        "outputId": "0d8985e3-11f1-4235-951a-c24a4333fc95"
      },
      "source": [
        "en , sp = zip(*pairs)\n",
        "print(en[0])\n",
        "print(sp[0])"
      ],
      "execution_count": 5,
      "outputs": [
        {
          "output_type": "stream",
          "text": [
            "<start> jackie exhales what the hell was that for ? <end>\n",
            "<start> shall i call security or do you think <end>\n"
          ],
          "name": "stdout"
        }
      ]
    },
    {
      "cell_type": "code",
      "metadata": {
        "colab_type": "code",
        "id": "OmMZQpdO60dt",
        "colab": {}
      },
      "source": [
        "def max_length(tensor):\n",
        "    return max(len(t) for t in tensor)"
      ],
      "execution_count": 0,
      "outputs": []
    },
    {
      "cell_type": "code",
      "metadata": {
        "colab_type": "code",
        "id": "bIOn8RCNDJXG",
        "colab": {}
      },
      "source": [
        "def tokenize(lang):\n",
        "  lang_tokenizer = tf.keras.preprocessing.text.Tokenizer(\n",
        "      filters='')\n",
        "  lang_tokenizer.fit_on_texts(lang)\n",
        "\n",
        "  tensor = lang_tokenizer.texts_to_sequences(lang)\n",
        "\n",
        "  tensor = tf.keras.preprocessing.sequence.pad_sequences(tensor,\n",
        "                                                         padding='post')\n",
        "\n",
        "  return tensor, lang_tokenizer"
      ],
      "execution_count": 0,
      "outputs": []
    },
    {
      "cell_type": "code",
      "metadata": {
        "colab_type": "code",
        "id": "eAY9k49G3jE_",
        "colab": {}
      },
      "source": [
        "def load_dataset(pairs):\n",
        "    # creating cleaned input, output pairs\n",
        "    targ_lang, inp_lang = zip(*pairs)\n",
        "\n",
        "    input_tensor, inp_lang_tokenizer = tokenize(inp_lang)\n",
        "    target_tensor, targ_lang_tokenizer = tokenize(targ_lang)\n",
        "\n",
        "    return input_tensor, target_tensor, inp_lang_tokenizer, targ_lang_tokenizer"
      ],
      "execution_count": 0,
      "outputs": []
    },
    {
      "cell_type": "code",
      "metadata": {
        "colab_type": "code",
        "id": "cnxC7q-j3jFD",
        "colab": {}
      },
      "source": [
        "input_tensor, target_tensor, inp_lang, targ_lang = load_dataset(pairs)\n",
        "\n",
        "# Calculate max_length of the target tensors\n",
        "max_length_targ, max_length_inp = max_length(target_tensor), max_length(input_tensor)"
      ],
      "execution_count": 0,
      "outputs": []
    },
    {
      "cell_type": "code",
      "metadata": {
        "colab_type": "code",
        "id": "4QILQkOs3jFG",
        "colab": {
          "base_uri": "https://localhost:8080/",
          "height": 34
        },
        "outputId": "5ec56512-8213-429d-bb70-2d968b347b31"
      },
      "source": [
        "# Creating training and validation sets using an 80-20 split\n",
        "input_tensor_train, input_tensor_val, target_tensor_train, target_tensor_val = train_test_split(input_tensor, target_tensor, test_size=0.2)\n",
        "\n",
        "# Show length\n",
        "print(len(input_tensor_train), len(target_tensor_train), len(input_tensor_val), len(target_tensor_val))"
      ],
      "execution_count": 10,
      "outputs": [
        {
          "output_type": "stream",
          "text": [
            "922 922 231 231\n"
          ],
          "name": "stdout"
        }
      ]
    },
    {
      "cell_type": "code",
      "metadata": {
        "colab_type": "code",
        "id": "lJPmLZGMeD5q",
        "colab": {}
      },
      "source": [
        "def convert(lang, tensor):\n",
        "  for t in tensor:\n",
        "    if t!=0:\n",
        "      print (\"%d ----> %s\" % (t, lang.index_word[t]))"
      ],
      "execution_count": 0,
      "outputs": []
    },
    {
      "cell_type": "code",
      "metadata": {
        "colab_type": "code",
        "id": "VXukARTDd7MT",
        "colab": {
          "base_uri": "https://localhost:8080/",
          "height": 323
        },
        "outputId": "33955610-bab6-4acc-f584-5442c03c6425"
      },
      "source": [
        "print (\"Input Language; index to word mapping\")\n",
        "convert(inp_lang, input_tensor_train[0])\n",
        "print ()\n",
        "print (\"Target Language; index to word mapping\")\n",
        "convert(targ_lang, target_tensor_train[0])"
      ],
      "execution_count": 12,
      "outputs": [
        {
          "output_type": "stream",
          "text": [
            "Input Language; index to word mapping\n",
            "1 ----> <start>\n",
            "78 ----> good\n",
            "6 ----> to\n",
            "28 ----> have\n",
            "5 ----> you\n",
            "91 ----> back\n",
            "3 ----> .\n",
            "2 ----> <end>\n",
            "\n",
            "Target Language; index to word mapping\n",
            "2 ----> <start>\n",
            "271 ----> nice\n",
            "133 ----> work\n",
            "197 ----> today\n",
            "242 ----> red\n",
            "1 ----> .\n",
            "3 ----> <end>\n"
          ],
          "name": "stdout"
        }
      ]
    },
    {
      "cell_type": "markdown",
      "metadata": {
        "colab_type": "text",
        "id": "rgCLkfv5uO3d"
      },
      "source": [
        "### Create a tf.data dataset"
      ]
    },
    {
      "cell_type": "code",
      "metadata": {
        "colab_type": "code",
        "id": "TqHsArVZ3jFS",
        "colab": {}
      },
      "source": [
        "BUFFER_SIZE = len(input_tensor_train)\n",
        "BATCH_SIZE = 64\n",
        "steps_per_epoch = len(input_tensor_train)//BATCH_SIZE\n",
        "embedding_dim = 256\n",
        "units = 1024\n",
        "vocab_inp_size = len(inp_lang.word_index)+1\n",
        "vocab_tar_size = len(targ_lang.word_index)+1\n",
        "\n",
        "dataset = tf.data.Dataset.from_tensor_slices((input_tensor_train, target_tensor_train)).shuffle(BUFFER_SIZE)\n",
        "dataset = dataset.batch(BATCH_SIZE, drop_remainder=True)"
      ],
      "execution_count": 0,
      "outputs": []
    },
    {
      "cell_type": "code",
      "metadata": {
        "colab_type": "code",
        "id": "qc6-NK1GtWQt",
        "colab": {
          "base_uri": "https://localhost:8080/",
          "height": 34
        },
        "outputId": "9719bad1-1c74-4dca-99ef-0949ef481080"
      },
      "source": [
        "example_input_batch, example_target_batch = next(iter(dataset))\n",
        "example_input_batch.shape, example_target_batch.shape"
      ],
      "execution_count": 14,
      "outputs": [
        {
          "output_type": "execute_result",
          "data": {
            "text/plain": [
              "(TensorShape([64, 19]), TensorShape([64, 20]))"
            ]
          },
          "metadata": {
            "tags": []
          },
          "execution_count": 14
        }
      ]
    },
    {
      "cell_type": "code",
      "metadata": {
        "id": "eTZp7MLKvCAq",
        "colab_type": "code",
        "colab": {
          "base_uri": "https://localhost:8080/",
          "height": 153
        },
        "outputId": "26c9bd80-760d-4aee-cb85-2e07c938ca86"
      },
      "source": [
        "example_input_batch"
      ],
      "execution_count": 15,
      "outputs": [
        {
          "output_type": "execute_result",
          "data": {
            "text/plain": [
              "<tf.Tensor: id=18, shape=(64, 19), dtype=int32, numpy=\n",
              "array([[  1, 261, 262, ...,   0,   0,   0],\n",
              "       [  1,  88, 109, ...,   0,   0,   0],\n",
              "       [  1,   4, 134, ...,   0,   0,   0],\n",
              "       ...,\n",
              "       [  1,   5, 590, ...,   0,   0,   0],\n",
              "       [  1, 124,   5, ...,   0,   0,   0],\n",
              "       [  1,   4,  28, ...,   0,   0,   0]], dtype=int32)>"
            ]
          },
          "metadata": {
            "tags": []
          },
          "execution_count": 15
        }
      ]
    },
    {
      "cell_type": "markdown",
      "metadata": {
        "colab_type": "text",
        "id": "TNfHIF71ulLu"
      },
      "source": [
        "## Write the encoder and decoder model\n",
        "\n",
        "Implement an encoder-decoder model with attention which you can read about in the TensorFlow [Neural Machine Translation (seq2seq) tutorial](https://github.com/tensorflow/nmt). This example uses a more recent set of APIs. This notebook implements the [attention equations](https://github.com/tensorflow/nmt#background-on-the-attention-mechanism) from the seq2seq tutorial. The following diagram shows that each input words is assigned a weight by the attention mechanism which is then used by the decoder to predict the next word in the sentence. The below picture and formulas are an example of attention mechanism from [Luong's paper](https://arxiv.org/abs/1508.04025v5). \n",
        "\n",
        "<img src=\"https://www.tensorflow.org/images/seq2seq/attention_mechanism.jpg\" width=\"500\" alt=\"attention mechanism\">\n",
        "\n",
        "The input is put through an encoder model which gives us the encoder output of shape *(batch_size, max_length, hidden_size)* and the encoder hidden state of shape *(batch_size, hidden_size)*.\n",
        "\n",
        "Here are the equations that are implemented:\n",
        "\n",
        "<img src=\"https://www.tensorflow.org/images/seq2seq/attention_equation_0.jpg\" alt=\"attention equation 0\" width=\"800\">\n",
        "<img src=\"https://www.tensorflow.org/images/seq2seq/attention_equation_1.jpg\" alt=\"attention equation 1\" width=\"800\">\n",
        "\n",
        "This tutorial uses [Bahdanau attention](https://arxiv.org/pdf/1409.0473.pdf) for the encoder. Let's decide on notation before writing the simplified form:\n",
        "\n",
        "* FC = Fully connected (dense) layer\n",
        "* EO = Encoder output\n",
        "* H = hidden state\n",
        "* X = input to the decoder\n",
        "\n",
        "And the pseudo-code:\n",
        "\n",
        "* `score = FC(tanh(FC(EO) + FC(H)))`\n",
        "* `attention weights = softmax(score, axis = 1)`. Softmax by default is applied on the last axis but here we want to apply it on the *1st axis*, since the shape of score is *(batch_size, max_length, hidden_size)*. `Max_length` is the length of our input. Since we are trying to assign a weight to each input, softmax should be applied on that axis.\n",
        "* `context vector = sum(attention weights * EO, axis = 1)`. Same reason as above for choosing axis as 1.\n",
        "* `embedding output` = The input to the decoder X is passed through an embedding layer.\n",
        "* `merged vector = concat(embedding output, context vector)`\n",
        "* This merged vector is then given to the GRU\n",
        "\n",
        "The shapes of all the vectors at each step have been specified in the comments in the code:"
      ]
    },
    {
      "cell_type": "code",
      "metadata": {
        "colab_type": "code",
        "id": "nZ2rI24i3jFg",
        "colab": {}
      },
      "source": [
        "class Encoder(tf.keras.Model):\n",
        "  def __init__(self, vocab_size, embedding_dim, enc_units, batch_sz):\n",
        "    super(Encoder, self).__init__()\n",
        "    self.batch_sz = batch_sz\n",
        "    self.enc_units = enc_units\n",
        "    self.embedding = tf.keras.layers.Embedding(vocab_size, embedding_dim)\n",
        "    self.gru = tf.keras.layers.GRU(self.enc_units,\n",
        "                                   return_sequences=True,\n",
        "                                   return_state=True,\n",
        "                                   recurrent_initializer='glorot_uniform')\n",
        "\n",
        "  def call(self, x, hidden):\n",
        "    x = self.embedding(x)\n",
        "    output, state = self.gru(x, initial_state = hidden)\n",
        "    return output, state\n",
        "\n",
        "  def initialize_hidden_state(self):\n",
        "    return tf.zeros((self.batch_sz, self.enc_units))"
      ],
      "execution_count": 0,
      "outputs": []
    },
    {
      "cell_type": "code",
      "metadata": {
        "colab_type": "code",
        "id": "60gSVh05Jl6l",
        "colab": {
          "base_uri": "https://localhost:8080/",
          "height": 51
        },
        "outputId": "44330402-288c-4f0e-fe80-9e245fea1a63"
      },
      "source": [
        "encoder = Encoder(vocab_inp_size, embedding_dim, units, BATCH_SIZE)\n",
        "\n",
        "# sample input\n",
        "sample_hidden = encoder.initialize_hidden_state()\n",
        "sample_output, sample_hidden = encoder(example_input_batch, sample_hidden)\n",
        "print ('Encoder output shape: (batch size, sequence length, units) {}'.format(sample_output.shape))\n",
        "print ('Encoder Hidden state shape: (batch size, units) {}'.format(sample_hidden.shape))"
      ],
      "execution_count": 17,
      "outputs": [
        {
          "output_type": "stream",
          "text": [
            "Encoder output shape: (batch size, sequence length, units) (64, 19, 1024)\n",
            "Encoder Hidden state shape: (batch size, units) (64, 1024)\n"
          ],
          "name": "stdout"
        }
      ]
    },
    {
      "cell_type": "code",
      "metadata": {
        "colab_type": "code",
        "id": "umohpBN2OM94",
        "colab": {}
      },
      "source": [
        "class BahdanauAttention(tf.keras.Model):\n",
        "  def __init__(self, units):\n",
        "    super(BahdanauAttention, self).__init__()\n",
        "    self.W1 = tf.keras.layers.Dense(units)\n",
        "    self.W2 = tf.keras.layers.Dense(units)\n",
        "    self.V = tf.keras.layers.Dense(1)\n",
        "\n",
        "  def call(self, query, values):\n",
        "    # hidden shape == (batch_size, hidden size)\n",
        "    # hidden_with_time_axis shape == (batch_size, 1, hidden size)\n",
        "    # we are doing this to perform addition to calculate the score\n",
        "    hidden_with_time_axis = tf.expand_dims(query, 1)\n",
        "\n",
        "    # score shape == (batch_size, max_length, 1)\n",
        "    # we get 1 at the last axis because we are applying score to self.V\n",
        "    # the shape of the tensor before applying self.V is (batch_size, max_length, units)\n",
        "    score = self.V(tf.nn.tanh(\n",
        "        self.W1(values) + self.W2(hidden_with_time_axis)))\n",
        "\n",
        "    # attention_weights shape == (batch_size, max_length, 1)\n",
        "    attention_weights = tf.nn.softmax(score, axis=1)\n",
        "\n",
        "    # context_vector shape after sum == (batch_size, hidden_size)\n",
        "    context_vector = attention_weights * values\n",
        "    context_vector = tf.reduce_sum(context_vector, axis=1)\n",
        "\n",
        "    return context_vector, attention_weights"
      ],
      "execution_count": 0,
      "outputs": []
    },
    {
      "cell_type": "code",
      "metadata": {
        "colab_type": "code",
        "id": "k534zTHiDjQU",
        "colab": {
          "base_uri": "https://localhost:8080/",
          "height": 51
        },
        "outputId": "932bb2dc-317a-4a9d-9570-ed8dea15d042"
      },
      "source": [
        "attention_layer = BahdanauAttention(10)\n",
        "attention_result, attention_weights = attention_layer(sample_hidden, sample_output)\n",
        "\n",
        "print(\"Attention result shape: (batch size, units) {}\".format(attention_result.shape))\n",
        "print(\"Attention weights shape: (batch_size, sequence_length, 1) {}\".format(attention_weights.shape))"
      ],
      "execution_count": 19,
      "outputs": [
        {
          "output_type": "stream",
          "text": [
            "Attention result shape: (batch size, units) (64, 1024)\n",
            "Attention weights shape: (batch_size, sequence_length, 1) (64, 19, 1)\n"
          ],
          "name": "stdout"
        }
      ]
    },
    {
      "cell_type": "code",
      "metadata": {
        "colab_type": "code",
        "id": "yJ_B3mhW3jFk",
        "colab": {}
      },
      "source": [
        "class Decoder(tf.keras.Model):\n",
        "  def __init__(self, vocab_size, embedding_dim, dec_units, batch_sz):\n",
        "    super(Decoder, self).__init__()\n",
        "    self.batch_sz = batch_sz\n",
        "    self.dec_units = dec_units\n",
        "    self.embedding = tf.keras.layers.Embedding(vocab_size, embedding_dim)\n",
        "    self.gru = tf.keras.layers.GRU(self.dec_units,\n",
        "                                   return_sequences=True,\n",
        "                                   return_state=True,\n",
        "                                   recurrent_initializer='glorot_uniform')\n",
        "    self.fc = tf.keras.layers.Dense(vocab_size)\n",
        "\n",
        "    # used for attention\n",
        "    self.attention = BahdanauAttention(self.dec_units)\n",
        "\n",
        "  def call(self, x, hidden, enc_output):\n",
        "    # enc_output shape == (batch_size, max_length, hidden_size)\n",
        "    context_vector, attention_weights = self.attention(hidden, enc_output)\n",
        "\n",
        "    # x shape after passing through embedding == (batch_size, 1, embedding_dim)\n",
        "    x = self.embedding(x)\n",
        "\n",
        "    # x shape after concatenation == (batch_size, 1, embedding_dim + hidden_size)\n",
        "    x = tf.concat([tf.expand_dims(context_vector, 1), x], axis=-1)\n",
        "\n",
        "    # passing the concatenated vector to the GRU\n",
        "    output, state = self.gru(x)\n",
        "\n",
        "    # output shape == (batch_size * 1, hidden_size)\n",
        "    output = tf.reshape(output, (-1, output.shape[2]))\n",
        "\n",
        "    # output shape == (batch_size, vocab)\n",
        "    x = self.fc(output)\n",
        "\n",
        "    return x, state, attention_weights"
      ],
      "execution_count": 0,
      "outputs": []
    },
    {
      "cell_type": "code",
      "metadata": {
        "colab_type": "code",
        "id": "P5UY8wko3jFp",
        "colab": {
          "base_uri": "https://localhost:8080/",
          "height": 34
        },
        "outputId": "031f23fb-5327-424d-fafc-0fbd25d68039"
      },
      "source": [
        "decoder = Decoder(vocab_tar_size, embedding_dim, units, BATCH_SIZE)\n",
        "\n",
        "sample_decoder_output, _, _ = decoder(tf.random.uniform((64, 1)),\n",
        "                                      sample_hidden, sample_output)\n",
        "\n",
        "print ('Decoder output shape: (batch_size, vocab size) {}'.format(sample_decoder_output.shape))"
      ],
      "execution_count": 21,
      "outputs": [
        {
          "output_type": "stream",
          "text": [
            "Decoder output shape: (batch_size, vocab size) (64, 1390)\n"
          ],
          "name": "stdout"
        }
      ]
    },
    {
      "cell_type": "markdown",
      "metadata": {
        "colab_type": "text",
        "id": "_ch_71VbIRfK"
      },
      "source": [
        "## Define the optimizer and the loss function"
      ]
    },
    {
      "cell_type": "code",
      "metadata": {
        "colab_type": "code",
        "id": "WmTHr5iV3jFr",
        "colab": {}
      },
      "source": [
        "optimizer = tf.keras.optimizers.Adam()\n",
        "loss_object = tf.keras.losses.SparseCategoricalCrossentropy(\n",
        "    from_logits=True, reduction='none')\n",
        "\n",
        "def loss_function(real, pred):\n",
        "  mask = tf.math.logical_not(tf.math.equal(real, 0))\n",
        "  loss_ = loss_object(real, pred)\n",
        "\n",
        "  mask = tf.cast(mask, dtype=loss_.dtype)\n",
        "  loss_ *= mask\n",
        "\n",
        "  return tf.reduce_mean(loss_)"
      ],
      "execution_count": 0,
      "outputs": []
    },
    {
      "cell_type": "markdown",
      "metadata": {
        "colab_type": "text",
        "id": "DMVWzzsfNl4e"
      },
      "source": [
        "## Checkpoints (Object-based saving)"
      ]
    },
    {
      "cell_type": "code",
      "metadata": {
        "colab_type": "code",
        "id": "Zj8bXQTgNwrF",
        "colab": {}
      },
      "source": [
        "checkpoint_dir = './training_checkpoints'\n",
        "checkpoint_prefix = os.path.join(checkpoint_dir, \"ckpt\")\n",
        "checkpoint = tf.train.Checkpoint(optimizer=optimizer,\n",
        "                                 encoder=encoder,\n",
        "                                 decoder=decoder)"
      ],
      "execution_count": 0,
      "outputs": []
    },
    {
      "cell_type": "markdown",
      "metadata": {
        "colab_type": "text",
        "id": "hpObfY22IddU"
      },
      "source": [
        "## Training\n",
        "\n",
        "1. Pass the *input* through the *encoder* which return *encoder output* and the *encoder hidden state*.\n",
        "2. The encoder output, encoder hidden state and the decoder input (which is the *start token*) is passed to the decoder.\n",
        "3. The decoder returns the *predictions* and the *decoder hidden state*.\n",
        "4. The decoder hidden state is then passed back into the model and the predictions are used to calculate the loss.\n",
        "5. Use *teacher forcing* to decide the next input to the decoder.\n",
        "6. *Teacher forcing* is the technique where the *target word* is passed as the *next input* to the decoder.\n",
        "7. The final step is to calculate the gradients and apply it to the optimizer and backpropagate."
      ]
    },
    {
      "cell_type": "code",
      "metadata": {
        "colab_type": "code",
        "id": "sC9ArXSsVfqn",
        "colab": {}
      },
      "source": [
        "@tf.function\n",
        "def train_step(inp, targ, enc_hidden):\n",
        "  loss = 0\n",
        "\n",
        "  with tf.GradientTape() as tape:\n",
        "    enc_output, enc_hidden = encoder(inp, enc_hidden)\n",
        "\n",
        "    dec_hidden = enc_hidden\n",
        "\n",
        "    dec_input = tf.expand_dims([targ_lang.word_index['<start>']] * BATCH_SIZE, 1)\n",
        "\n",
        "    # Teacher forcing - feeding the target as the next input\n",
        "    for t in range(1, targ.shape[1]):\n",
        "      # passing enc_output to the decoder\n",
        "      predictions, dec_hidden, _ = decoder(dec_input, dec_hidden, enc_output)\n",
        "\n",
        "      loss += loss_function(targ[:, t], predictions)\n",
        "\n",
        "      # using teacher forcing\n",
        "      dec_input = tf.expand_dims(targ[:, t], 1)\n",
        "\n",
        "  batch_loss = (loss / int(targ.shape[1]))\n",
        "\n",
        "  variables = encoder.trainable_variables + decoder.trainable_variables\n",
        "\n",
        "  gradients = tape.gradient(loss, variables)\n",
        "\n",
        "  optimizer.apply_gradients(zip(gradients, variables))\n",
        "\n",
        "  return batch_loss"
      ],
      "execution_count": 0,
      "outputs": []
    },
    {
      "cell_type": "code",
      "metadata": {
        "colab_type": "code",
        "id": "ddefjBMa3jF0",
        "colab": {
          "base_uri": "https://localhost:8080/",
          "height": 1000
        },
        "outputId": "ccbbf102-a49c-4e65-fd2c-cd94fe0949ac"
      },
      "source": [
        "EPOCHS = 100\n",
        "\n",
        "losses = []\n",
        "for epoch in range(EPOCHS):\n",
        "  start = time.time()\n",
        "\n",
        "  enc_hidden = encoder.initialize_hidden_state()\n",
        "  total_loss = 0\n",
        "\n",
        "  for (batch, (inp, targ)) in enumerate(dataset.take(steps_per_epoch)):\n",
        "    batch_loss = train_step(inp, targ, enc_hidden)\n",
        "    total_loss += batch_loss\n",
        "\n",
        "    if batch % 100 == 0:\n",
        "        print('Epoch {} Batch {} Loss {:.4f}'.format(epoch + 1,\n",
        "                                                     batch,\n",
        "                                                     batch_loss.numpy()))\n",
        "  # saving (checkpoint) the model every 2 epochs\n",
        "  if (epoch + 1) % 2 == 0:\n",
        "    checkpoint.save(file_prefix = checkpoint_prefix)\n",
        "\n",
        "  print('Epoch {} Loss {:.4f}'.format(epoch + 1,\n",
        "                                      total_loss / steps_per_epoch))\n",
        "  print('Time taken for 1 epoch {} sec\\n'.format(time.time() - start))\n",
        "  \n",
        "  losses.append(total_loss / steps_per_epoch)"
      ],
      "execution_count": 25,
      "outputs": [
        {
          "output_type": "stream",
          "text": [
            "Epoch 1 Batch 0 Loss 3.1549\n",
            "Epoch 1 Loss 2.7012\n",
            "Time taken for 1 epoch 56.607980489730835 sec\n",
            "\n",
            "Epoch 2 Batch 0 Loss 2.3484\n",
            "Epoch 2 Loss 2.2643\n",
            "Time taken for 1 epoch 4.749343156814575 sec\n",
            "\n",
            "Epoch 3 Batch 0 Loss 2.2247\n",
            "Epoch 3 Loss 2.1853\n",
            "Time taken for 1 epoch 4.278590679168701 sec\n",
            "\n",
            "Epoch 4 Batch 0 Loss 2.1546\n",
            "Epoch 4 Loss 2.1297\n",
            "Time taken for 1 epoch 4.686873435974121 sec\n",
            "\n",
            "Epoch 5 Batch 0 Loss 2.0863\n",
            "Epoch 5 Loss 2.0615\n",
            "Time taken for 1 epoch 4.24252986907959 sec\n",
            "\n",
            "Epoch 6 Batch 0 Loss 2.0073\n",
            "Epoch 6 Loss 1.9807\n",
            "Time taken for 1 epoch 4.63218879699707 sec\n",
            "\n",
            "Epoch 7 Batch 0 Loss 1.9231\n",
            "Epoch 7 Loss 1.9038\n",
            "Time taken for 1 epoch 4.235288381576538 sec\n",
            "\n",
            "Epoch 8 Batch 0 Loss 1.8530\n",
            "Epoch 8 Loss 1.8389\n",
            "Time taken for 1 epoch 4.632826089859009 sec\n",
            "\n",
            "Epoch 9 Batch 0 Loss 1.7834\n",
            "Epoch 9 Loss 1.7811\n",
            "Time taken for 1 epoch 4.267781972885132 sec\n",
            "\n",
            "Epoch 10 Batch 0 Loss 1.7232\n",
            "Epoch 10 Loss 1.7181\n",
            "Time taken for 1 epoch 4.688611268997192 sec\n",
            "\n",
            "Epoch 11 Batch 0 Loss 1.6615\n",
            "Epoch 11 Loss 1.6577\n",
            "Time taken for 1 epoch 4.264404296875 sec\n",
            "\n",
            "Epoch 12 Batch 0 Loss 1.6235\n",
            "Epoch 12 Loss 1.6138\n",
            "Time taken for 1 epoch 4.656536340713501 sec\n",
            "\n",
            "Epoch 13 Batch 0 Loss 1.5426\n",
            "Epoch 13 Loss 1.5479\n",
            "Time taken for 1 epoch 4.245429992675781 sec\n",
            "\n",
            "Epoch 14 Batch 0 Loss 1.4976\n",
            "Epoch 14 Loss 1.4897\n",
            "Time taken for 1 epoch 4.637319326400757 sec\n",
            "\n",
            "Epoch 15 Batch 0 Loss 1.4284\n",
            "Epoch 15 Loss 1.4359\n",
            "Time taken for 1 epoch 4.274176597595215 sec\n",
            "\n",
            "Epoch 16 Batch 0 Loss 1.3595\n",
            "Epoch 16 Loss 1.3770\n",
            "Time taken for 1 epoch 4.662465810775757 sec\n",
            "\n",
            "Epoch 17 Batch 0 Loss 1.3601\n",
            "Epoch 17 Loss 1.3367\n",
            "Time taken for 1 epoch 4.226550102233887 sec\n",
            "\n",
            "Epoch 18 Batch 0 Loss 1.2758\n",
            "Epoch 18 Loss 1.2919\n",
            "Time taken for 1 epoch 4.655423879623413 sec\n",
            "\n",
            "Epoch 19 Batch 0 Loss 1.2208\n",
            "Epoch 19 Loss 1.2494\n",
            "Time taken for 1 epoch 4.253071546554565 sec\n",
            "\n",
            "Epoch 20 Batch 0 Loss 1.2083\n",
            "Epoch 20 Loss 1.2114\n",
            "Time taken for 1 epoch 4.639604330062866 sec\n",
            "\n",
            "Epoch 21 Batch 0 Loss 1.1730\n",
            "Epoch 21 Loss 1.1715\n",
            "Time taken for 1 epoch 4.247112989425659 sec\n",
            "\n",
            "Epoch 22 Batch 0 Loss 1.1061\n",
            "Epoch 22 Loss 1.1237\n",
            "Time taken for 1 epoch 4.660210132598877 sec\n",
            "\n",
            "Epoch 23 Batch 0 Loss 1.0930\n",
            "Epoch 23 Loss 1.0996\n",
            "Time taken for 1 epoch 4.253968238830566 sec\n",
            "\n",
            "Epoch 24 Batch 0 Loss 1.0423\n",
            "Epoch 24 Loss 1.0753\n",
            "Time taken for 1 epoch 4.675321340560913 sec\n",
            "\n",
            "Epoch 25 Batch 0 Loss 1.0554\n",
            "Epoch 25 Loss 1.0589\n",
            "Time taken for 1 epoch 4.2422263622283936 sec\n",
            "\n",
            "Epoch 26 Batch 0 Loss 1.0198\n",
            "Epoch 26 Loss 1.0489\n",
            "Time taken for 1 epoch 4.700534105300903 sec\n",
            "\n",
            "Epoch 27 Batch 0 Loss 1.0258\n",
            "Epoch 27 Loss 1.0214\n",
            "Time taken for 1 epoch 4.240829944610596 sec\n",
            "\n",
            "Epoch 28 Batch 0 Loss 0.9897\n",
            "Epoch 28 Loss 0.9903\n",
            "Time taken for 1 epoch 4.674095630645752 sec\n",
            "\n",
            "Epoch 29 Batch 0 Loss 0.9638\n",
            "Epoch 29 Loss 0.9692\n",
            "Time taken for 1 epoch 4.239176273345947 sec\n",
            "\n",
            "Epoch 30 Batch 0 Loss 0.9617\n",
            "Epoch 30 Loss 0.9608\n",
            "Time taken for 1 epoch 4.6422600746154785 sec\n",
            "\n",
            "Epoch 31 Batch 0 Loss 0.9305\n",
            "Epoch 31 Loss 0.9532\n",
            "Time taken for 1 epoch 4.254632949829102 sec\n",
            "\n",
            "Epoch 32 Batch 0 Loss 0.9073\n",
            "Epoch 32 Loss 0.9279\n",
            "Time taken for 1 epoch 4.689134120941162 sec\n",
            "\n",
            "Epoch 33 Batch 0 Loss 0.8881\n",
            "Epoch 33 Loss 0.8807\n",
            "Time taken for 1 epoch 4.235619068145752 sec\n",
            "\n",
            "Epoch 34 Batch 0 Loss 0.8350\n",
            "Epoch 34 Loss 0.8504\n",
            "Time taken for 1 epoch 4.72322416305542 sec\n",
            "\n",
            "Epoch 35 Batch 0 Loss 0.7967\n",
            "Epoch 35 Loss 0.8188\n",
            "Time taken for 1 epoch 4.254215955734253 sec\n",
            "\n",
            "Epoch 36 Batch 0 Loss 0.7933\n",
            "Epoch 36 Loss 0.8098\n",
            "Time taken for 1 epoch 4.6828999519348145 sec\n",
            "\n",
            "Epoch 37 Batch 0 Loss 0.7623\n",
            "Epoch 37 Loss 0.7822\n",
            "Time taken for 1 epoch 4.233783721923828 sec\n",
            "\n",
            "Epoch 38 Batch 0 Loss 0.7473\n",
            "Epoch 38 Loss 0.7502\n",
            "Time taken for 1 epoch 4.647112846374512 sec\n",
            "\n",
            "Epoch 39 Batch 0 Loss 0.7030\n",
            "Epoch 39 Loss 0.7087\n",
            "Time taken for 1 epoch 4.2334067821502686 sec\n",
            "\n",
            "Epoch 40 Batch 0 Loss 0.6799\n",
            "Epoch 40 Loss 0.6659\n",
            "Time taken for 1 epoch 4.6565022468566895 sec\n",
            "\n",
            "Epoch 41 Batch 0 Loss 0.6204\n",
            "Epoch 41 Loss 0.6283\n",
            "Time taken for 1 epoch 4.285481691360474 sec\n",
            "\n",
            "Epoch 42 Batch 0 Loss 0.5907\n",
            "Epoch 42 Loss 0.5943\n",
            "Time taken for 1 epoch 4.670361042022705 sec\n",
            "\n",
            "Epoch 43 Batch 0 Loss 0.5389\n",
            "Epoch 43 Loss 0.5510\n",
            "Time taken for 1 epoch 4.235953330993652 sec\n",
            "\n",
            "Epoch 44 Batch 0 Loss 0.5500\n",
            "Epoch 44 Loss 0.5248\n",
            "Time taken for 1 epoch 4.668176889419556 sec\n",
            "\n",
            "Epoch 45 Batch 0 Loss 0.5108\n",
            "Epoch 45 Loss 0.4929\n",
            "Time taken for 1 epoch 4.262369871139526 sec\n",
            "\n",
            "Epoch 46 Batch 0 Loss 0.4810\n",
            "Epoch 46 Loss 0.4531\n",
            "Time taken for 1 epoch 4.645867586135864 sec\n",
            "\n",
            "Epoch 47 Batch 0 Loss 0.4063\n",
            "Epoch 47 Loss 0.4208\n",
            "Time taken for 1 epoch 4.238455772399902 sec\n",
            "\n",
            "Epoch 48 Batch 0 Loss 0.3747\n",
            "Epoch 48 Loss 0.3855\n",
            "Time taken for 1 epoch 4.645144701004028 sec\n",
            "\n",
            "Epoch 49 Batch 0 Loss 0.3653\n",
            "Epoch 49 Loss 0.3863\n",
            "Time taken for 1 epoch 4.274087429046631 sec\n",
            "\n",
            "Epoch 50 Batch 0 Loss 0.3461\n",
            "Epoch 50 Loss 0.3784\n",
            "Time taken for 1 epoch 4.698014259338379 sec\n",
            "\n",
            "Epoch 51 Batch 0 Loss 0.3622\n",
            "Epoch 51 Loss 0.3707\n",
            "Time taken for 1 epoch 4.2415831089019775 sec\n",
            "\n",
            "Epoch 52 Batch 0 Loss 0.3179\n",
            "Epoch 52 Loss 0.3185\n",
            "Time taken for 1 epoch 4.645212173461914 sec\n",
            "\n",
            "Epoch 53 Batch 0 Loss 0.2736\n",
            "Epoch 53 Loss 0.2649\n",
            "Time taken for 1 epoch 4.252017498016357 sec\n",
            "\n",
            "Epoch 54 Batch 0 Loss 0.2387\n",
            "Epoch 54 Loss 0.2306\n",
            "Time taken for 1 epoch 4.6501288414001465 sec\n",
            "\n",
            "Epoch 55 Batch 0 Loss 0.2115\n",
            "Epoch 55 Loss 0.2017\n",
            "Time taken for 1 epoch 4.245317220687866 sec\n",
            "\n",
            "Epoch 56 Batch 0 Loss 0.1708\n",
            "Epoch 56 Loss 0.1862\n",
            "Time taken for 1 epoch 4.679215908050537 sec\n",
            "\n",
            "Epoch 57 Batch 0 Loss 0.1507\n",
            "Epoch 57 Loss 0.1707\n",
            "Time taken for 1 epoch 4.204550743103027 sec\n",
            "\n",
            "Epoch 58 Batch 0 Loss 0.1510\n",
            "Epoch 58 Loss 0.1540\n",
            "Time taken for 1 epoch 4.671877384185791 sec\n",
            "\n",
            "Epoch 59 Batch 0 Loss 0.1131\n",
            "Epoch 59 Loss 0.1482\n",
            "Time taken for 1 epoch 4.230251789093018 sec\n",
            "\n",
            "Epoch 60 Batch 0 Loss 0.1116\n",
            "Epoch 60 Loss 0.1348\n",
            "Time taken for 1 epoch 4.667400360107422 sec\n",
            "\n",
            "Epoch 61 Batch 0 Loss 0.1085\n",
            "Epoch 61 Loss 0.1181\n",
            "Time taken for 1 epoch 4.257824182510376 sec\n",
            "\n",
            "Epoch 62 Batch 0 Loss 0.1060\n",
            "Epoch 62 Loss 0.1025\n",
            "Time taken for 1 epoch 4.701131820678711 sec\n",
            "\n",
            "Epoch 63 Batch 0 Loss 0.0670\n",
            "Epoch 63 Loss 0.0899\n",
            "Time taken for 1 epoch 4.248991250991821 sec\n",
            "\n",
            "Epoch 64 Batch 0 Loss 0.0599\n",
            "Epoch 64 Loss 0.0738\n",
            "Time taken for 1 epoch 4.640598297119141 sec\n",
            "\n",
            "Epoch 65 Batch 0 Loss 0.0549\n",
            "Epoch 65 Loss 0.0667\n",
            "Time taken for 1 epoch 4.221197128295898 sec\n",
            "\n",
            "Epoch 66 Batch 0 Loss 0.0330\n",
            "Epoch 66 Loss 0.0560\n",
            "Time taken for 1 epoch 4.681761741638184 sec\n",
            "\n",
            "Epoch 67 Batch 0 Loss 0.0536\n",
            "Epoch 67 Loss 0.0502\n",
            "Time taken for 1 epoch 4.247498273849487 sec\n",
            "\n",
            "Epoch 68 Batch 0 Loss 0.0245\n",
            "Epoch 68 Loss 0.0381\n",
            "Time taken for 1 epoch 4.67380690574646 sec\n",
            "\n",
            "Epoch 69 Batch 0 Loss 0.0221\n",
            "Epoch 69 Loss 0.0314\n",
            "Time taken for 1 epoch 4.253433465957642 sec\n",
            "\n",
            "Epoch 70 Batch 0 Loss 0.0186\n",
            "Epoch 70 Loss 0.0254\n",
            "Time taken for 1 epoch 4.687857389450073 sec\n",
            "\n",
            "Epoch 71 Batch 0 Loss 0.0137\n",
            "Epoch 71 Loss 0.0223\n",
            "Time taken for 1 epoch 4.260847330093384 sec\n",
            "\n",
            "Epoch 72 Batch 0 Loss 0.0122\n",
            "Epoch 72 Loss 0.0194\n",
            "Time taken for 1 epoch 4.757487058639526 sec\n",
            "\n",
            "Epoch 73 Batch 0 Loss 0.0112\n",
            "Epoch 73 Loss 0.0180\n",
            "Time taken for 1 epoch 4.254893779754639 sec\n",
            "\n",
            "Epoch 74 Batch 0 Loss 0.0101\n",
            "Epoch 74 Loss 0.0163\n",
            "Time taken for 1 epoch 4.671556234359741 sec\n",
            "\n",
            "Epoch 75 Batch 0 Loss 0.0094\n",
            "Epoch 75 Loss 0.0153\n",
            "Time taken for 1 epoch 4.239777088165283 sec\n",
            "\n",
            "Epoch 76 Batch 0 Loss 0.0087\n",
            "Epoch 76 Loss 0.0144\n",
            "Time taken for 1 epoch 4.655335426330566 sec\n",
            "\n",
            "Epoch 77 Batch 0 Loss 0.0082\n",
            "Epoch 77 Loss 0.0139\n",
            "Time taken for 1 epoch 4.255236864089966 sec\n",
            "\n",
            "Epoch 78 Batch 0 Loss 0.0085\n",
            "Epoch 78 Loss 0.0131\n",
            "Time taken for 1 epoch 4.680016994476318 sec\n",
            "\n",
            "Epoch 79 Batch 0 Loss 0.0078\n",
            "Epoch 79 Loss 0.0126\n",
            "Time taken for 1 epoch 4.294726133346558 sec\n",
            "\n",
            "Epoch 80 Batch 0 Loss 0.0072\n",
            "Epoch 80 Loss 0.0120\n",
            "Time taken for 1 epoch 4.673511266708374 sec\n",
            "\n",
            "Epoch 81 Batch 0 Loss 0.0066\n",
            "Epoch 81 Loss 0.0116\n",
            "Time taken for 1 epoch 4.253979444503784 sec\n",
            "\n",
            "Epoch 82 Batch 0 Loss 0.0077\n",
            "Epoch 82 Loss 0.0112\n",
            "Time taken for 1 epoch 4.62072229385376 sec\n",
            "\n",
            "Epoch 83 Batch 0 Loss 0.0064\n",
            "Epoch 83 Loss 0.0109\n",
            "Time taken for 1 epoch 4.2616167068481445 sec\n",
            "\n",
            "Epoch 84 Batch 0 Loss 0.0065\n",
            "Epoch 84 Loss 0.0105\n",
            "Time taken for 1 epoch 4.690659999847412 sec\n",
            "\n",
            "Epoch 85 Batch 0 Loss 0.0070\n",
            "Epoch 85 Loss 0.0105\n",
            "Time taken for 1 epoch 4.261533975601196 sec\n",
            "\n",
            "Epoch 86 Batch 0 Loss 0.0061\n",
            "Epoch 86 Loss 0.0104\n",
            "Time taken for 1 epoch 4.642498016357422 sec\n",
            "\n",
            "Epoch 87 Batch 0 Loss 0.0056\n",
            "Epoch 87 Loss 0.0101\n",
            "Time taken for 1 epoch 4.2510199546813965 sec\n",
            "\n",
            "Epoch 88 Batch 0 Loss 0.0052\n",
            "Epoch 88 Loss 0.0099\n",
            "Time taken for 1 epoch 4.6570117473602295 sec\n",
            "\n",
            "Epoch 89 Batch 0 Loss 0.0053\n",
            "Epoch 89 Loss 0.0098\n",
            "Time taken for 1 epoch 4.266240358352661 sec\n",
            "\n",
            "Epoch 90 Batch 0 Loss 0.0046\n",
            "Epoch 90 Loss 0.0095\n",
            "Time taken for 1 epoch 4.638741731643677 sec\n",
            "\n",
            "Epoch 91 Batch 0 Loss 0.0042\n",
            "Epoch 91 Loss 0.0092\n",
            "Time taken for 1 epoch 4.223797798156738 sec\n",
            "\n",
            "Epoch 92 Batch 0 Loss 0.0041\n",
            "Epoch 92 Loss 0.0089\n",
            "Time taken for 1 epoch 4.634732961654663 sec\n",
            "\n",
            "Epoch 93 Batch 0 Loss 0.0046\n",
            "Epoch 93 Loss 0.0089\n",
            "Time taken for 1 epoch 4.269392013549805 sec\n",
            "\n",
            "Epoch 94 Batch 0 Loss 0.0082\n",
            "Epoch 94 Loss 0.0089\n",
            "Time taken for 1 epoch 4.659178972244263 sec\n",
            "\n",
            "Epoch 95 Batch 0 Loss 0.0054\n",
            "Epoch 95 Loss 0.0088\n",
            "Time taken for 1 epoch 4.231750965118408 sec\n",
            "\n",
            "Epoch 96 Batch 0 Loss 0.0052\n",
            "Epoch 96 Loss 0.0090\n",
            "Time taken for 1 epoch 4.656045913696289 sec\n",
            "\n",
            "Epoch 97 Batch 0 Loss 0.0048\n",
            "Epoch 97 Loss 0.0091\n",
            "Time taken for 1 epoch 4.252605676651001 sec\n",
            "\n",
            "Epoch 98 Batch 0 Loss 0.0043\n",
            "Epoch 98 Loss 0.0084\n",
            "Time taken for 1 epoch 4.651299476623535 sec\n",
            "\n",
            "Epoch 99 Batch 0 Loss 0.0040\n",
            "Epoch 99 Loss 0.0095\n",
            "Time taken for 1 epoch 4.242673397064209 sec\n",
            "\n",
            "Epoch 100 Batch 0 Loss 0.0038\n",
            "Epoch 100 Loss 0.0090\n",
            "Time taken for 1 epoch 4.647421836853027 sec\n",
            "\n"
          ],
          "name": "stdout"
        }
      ]
    },
    {
      "cell_type": "code",
      "metadata": {
        "id": "p_TPq1hq8LCt",
        "colab_type": "code",
        "colab": {
          "base_uri": "https://localhost:8080/",
          "height": 303
        },
        "outputId": "c01b3549-3fd8-4a3b-c0a1-1b6441a51126"
      },
      "source": [
        "plt.figure()\n",
        "fig, ax = plt.subplots()\n",
        "plt.plot(losses)"
      ],
      "execution_count": 27,
      "outputs": [
        {
          "output_type": "execute_result",
          "data": {
            "text/plain": [
              "[<matplotlib.lines.Line2D at 0x7f4c46f0afd0>]"
            ]
          },
          "metadata": {
            "tags": []
          },
          "execution_count": 27
        },
        {
          "output_type": "display_data",
          "data": {
            "text/plain": [
              "<Figure size 432x288 with 0 Axes>"
            ]
          },
          "metadata": {
            "tags": []
          }
        },
        {
          "output_type": "display_data",
          "data": {
            "image/png": "[encoded data removed]",
            "text/plain": [
              "<Figure size 432x288 with 1 Axes>"
            ]
          },
          "metadata": {
            "tags": []
          }
        }
      ]
    },
    {
      "cell_type": "markdown",
      "metadata": {
        "colab_type": "text",
        "id": "mU3Ce8M6I3rz"
      },
      "source": [
        "## Translate\n",
        "\n",
        "* The evaluate function is similar to the training loop, except we don't use *teacher forcing* here. The input to the decoder at each time step is its previous predictions along with the hidden state and the encoder output.\n",
        "* Stop predicting when the model predicts the *end token*.\n",
        "* And store the *attention weights for every time step*.\n",
        "\n",
        "Note: The encoder output is calculated only once for one input."
      ]
    },
    {
      "cell_type": "code",
      "metadata": {
        "colab_type": "code",
        "id": "EbQpyYs13jF_",
        "colab": {}
      },
      "source": [
        "def evaluate(sentence):\n",
        "    attention_plot = np.zeros((max_length_targ, max_length_inp))\n",
        "\n",
        "    sentence = preprocess_sentence(sentence)\n",
        "\n",
        "    inputs = [inp_lang.word_index[i] for i in sentence.split(' ')]\n",
        "    inputs = tf.keras.preprocessing.sequence.pad_sequences([inputs],\n",
        "                                                           maxlen=max_length_inp,\n",
        "                                                           padding='post')\n",
        "    inputs = tf.convert_to_tensor(inputs)\n",
        "\n",
        "    result = ''\n",
        "\n",
        "    hidden = [tf.zeros((1, units))]\n",
        "    enc_out, enc_hidden = encoder(inputs, hidden)\n",
        "\n",
        "    dec_hidden = enc_hidden\n",
        "    dec_input = tf.expand_dims([targ_lang.word_index['<start>']], 0)\n",
        "\n",
        "    for t in range(max_length_targ):\n",
        "        predictions, dec_hidden, attention_weights = decoder(dec_input,\n",
        "                                                             dec_hidden,\n",
        "                                                             enc_out)\n",
        "\n",
        "        # storing the attention weights to plot later on\n",
        "        attention_weights = tf.reshape(attention_weights, (-1, ))\n",
        "        attention_plot[t] = attention_weights.numpy()\n",
        "\n",
        "        predicted_id = tf.argmax(predictions[0]).numpy()\n",
        "\n",
        "        result += targ_lang.index_word[predicted_id] + ' '\n",
        "\n",
        "        if targ_lang.index_word[predicted_id] == '<end>':\n",
        "            return result, sentence, attention_plot\n",
        "\n",
        "        # the predicted ID is fed back into the model\n",
        "        dec_input = tf.expand_dims([predicted_id], 0)\n",
        "\n",
        "    return result, sentence, attention_plot"
      ],
      "execution_count": 0,
      "outputs": []
    },
    {
      "cell_type": "code",
      "metadata": {
        "colab_type": "code",
        "id": "s5hQWlbN3jGF",
        "colab": {}
      },
      "source": [
        "# function for plotting the attention weights\n",
        "def plot_attention(attention, sentence, predicted_sentence):\n",
        "    fig = plt.figure(figsize=(10,10))\n",
        "    ax = fig.add_subplot(1, 1, 1)\n",
        "    ax.matshow(attention, cmap='viridis')\n",
        "\n",
        "    fontdict = {'fontsize': 14}\n",
        "\n",
        "    ax.set_xticklabels([''] + sentence, fontdict=fontdict, rotation=90)\n",
        "    ax.set_yticklabels([''] + predicted_sentence, fontdict=fontdict)\n",
        "\n",
        "    ax.xaxis.set_major_locator(ticker.MultipleLocator(1))\n",
        "    ax.yaxis.set_major_locator(ticker.MultipleLocator(1))\n",
        "\n",
        "    plt.show()"
      ],
      "execution_count": 0,
      "outputs": []
    },
    {
      "cell_type": "code",
      "metadata": {
        "colab_type": "code",
        "id": "sl9zUHzg3jGI",
        "colab": {}
      },
      "source": [
        "def translate(sentence, plot = False):\n",
        "    result, sentence, attention_plot = evaluate(sentence)\n",
        "\n",
        "    print('Input: %s' % (sentence))\n",
        "    print('Predicted translation: {}'.format(result))\n",
        "\n",
        "    attention_plot = attention_plot[:len(result.split(' ')), :len(sentence.split(' '))]\n",
        "    if plot:\n",
        "      plot_attention(attention_plot, sentence.split(' '), result.split(' '))"
      ],
      "execution_count": 0,
      "outputs": []
    },
    {
      "cell_type": "markdown",
      "metadata": {
        "colab_type": "text",
        "id": "n250XbnjOaqP"
      },
      "source": [
        "## Restore the latest checkpoint and test"
      ]
    },
    {
      "cell_type": "code",
      "metadata": {
        "colab_type": "code",
        "id": "UJpT9D5_OgP6",
        "colab": {}
      },
      "source": [
        "# restoring the latest checkpoint in checkpoint_dir\n",
        "checkpoint.restore(tf.train.latest_checkpoint(checkpoint_dir))"
      ],
      "execution_count": 0,
      "outputs": []
    },
    {
      "cell_type": "code",
      "metadata": {
        "colab_type": "code",
        "id": "WrAM0FDomq3E",
        "colab": {
          "base_uri": "https://localhost:8080/",
          "height": 51
        },
        "outputId": "49ecfbd3-f27a-46e6-8445-b2fedb324675"
      },
      "source": [
        "translate(u'are you going')"
      ],
      "execution_count": 30,
      "outputs": [
        {
          "output_type": "stream",
          "text": [
            "Input: <start> are you going <end>\n",
            "Predicted translation: put my sneakers on in the time is on . civilians ? <end> \n"
          ],
          "name": "stdout"
        }
      ]
    },
    {
      "cell_type": "code",
      "metadata": {
        "colab_type": "code",
        "id": "zSx2iM36EZQZ",
        "colab": {
          "base_uri": "https://localhost:8080/",
          "height": 221
        },
        "outputId": "4fa84156-b610-4c7b-f14b-99dd27490021"
      },
      "source": [
        "translate(\"i like you\")\n",
        "translate(\"it is time\")\n",
        "translate(\"how is stephanie ?\")\n",
        "translate(\"i like stephanie\")\n",
        "translate(\"what the hell stephanie ?\")\n",
        "translate(\"is this your first time ?\")\n"
      ],
      "execution_count": 31,
      "outputs": [
        {
          "output_type": "stream",
          "text": [
            "Input: <start> i like you <end>\n",
            "Predicted translation: the important thing . <end> \n",
            "Input: <start> it is time <end>\n",
            "Predicted translation: no it was honest and you re doing this . <end> \n",
            "Input: <start> how is stephanie ? <end>\n",
            "Predicted translation: oh come on your choices to know . <end> \n",
            "Input: <start> i like stephanie <end>\n",
            "Predicted translation: yeah i am . <end> \n",
            "Input: <start> what the hell stephanie ? <end>\n",
            "Predicted translation: i ll teach you things up for your squeeze press ! i ll only to incite now . come here \n",
            "Input: <start> is this your first time ? <end>\n",
            "Predicted translation: i need it <end> \n"
          ],
          "name": "stdout"
        }
      ]
    }
  ]
}